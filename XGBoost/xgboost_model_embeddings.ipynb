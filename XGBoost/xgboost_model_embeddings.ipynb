{
 "cells": [
  {
   "cell_type": "code",
   "execution_count": 1,
   "id": "29b10a80-c56f-4b51-b623-7d12f396992e",
   "metadata": {},
   "outputs": [],
   "source": [
    "import pandas as pd\n",
    "import numpy as np\n",
    "import xgboost as xgb\n",
    "import matplotlib.pyplot as plt\n",
    "from sklearn.model_selection import train_test_split\n",
    "from sklearn.metrics import accuracy_score, balanced_accuracy_score, roc_auc_score, make_scorer, f1_score, matthews_corrcoef\n",
    "from sklearn.model_selection import RandomizedSearchCV,  GridSearchCV\n",
    "from sklearn.metrics import confusion_matrix, ConfusionMatrixDisplay\n",
    "from sklearn.metrics import plot_confusion_matrix"
   ]
  },
  {
   "cell_type": "markdown",
   "id": "f8d85277-d79a-46a6-8313-0fedda1fcd69",
   "metadata": {},
   "source": [
    "## 64"
   ]
  },
  {
   "cell_type": "code",
   "execution_count": 2,
   "id": "2aeaf438-ff35-42a7-b7d2-73f7c5e473c8",
   "metadata": {},
   "outputs": [
    {
     "data": {
      "text/html": [
       "<div>\n",
       "<style scoped>\n",
       "    .dataframe tbody tr th:only-of-type {\n",
       "        vertical-align: middle;\n",
       "    }\n",
       "\n",
       "    .dataframe tbody tr th {\n",
       "        vertical-align: top;\n",
       "    }\n",
       "\n",
       "    .dataframe thead th {\n",
       "        text-align: right;\n",
       "    }\n",
       "</style>\n",
       "<table border=\"1\" class=\"dataframe\">\n",
       "  <thead>\n",
       "    <tr style=\"text-align: right;\">\n",
       "      <th></th>\n",
       "      <th>Protein_ID</th>\n",
       "      <th>Emb_1</th>\n",
       "      <th>Emb_2</th>\n",
       "      <th>Emb_3</th>\n",
       "      <th>Emb_4</th>\n",
       "      <th>Emb_5</th>\n",
       "      <th>Emb_6</th>\n",
       "      <th>Emb_7</th>\n",
       "      <th>Emb_8</th>\n",
       "      <th>Emb_9</th>\n",
       "      <th>...</th>\n",
       "      <th>Emb_55</th>\n",
       "      <th>Emb_56</th>\n",
       "      <th>Emb_57</th>\n",
       "      <th>Emb_58</th>\n",
       "      <th>Emb_59</th>\n",
       "      <th>Emb_60</th>\n",
       "      <th>Emb_61</th>\n",
       "      <th>Emb_62</th>\n",
       "      <th>Emb_63</th>\n",
       "      <th>Emb_64</th>\n",
       "    </tr>\n",
       "  </thead>\n",
       "  <tbody>\n",
       "    <tr>\n",
       "      <th>0</th>\n",
       "      <td>35311</td>\n",
       "      <td>-0.022783</td>\n",
       "      <td>1.16824</td>\n",
       "      <td>0.471407</td>\n",
       "      <td>0.543798</td>\n",
       "      <td>-0.995765</td>\n",
       "      <td>-0.176736</td>\n",
       "      <td>-0.519212</td>\n",
       "      <td>-0.287490</td>\n",
       "      <td>0.222473</td>\n",
       "      <td>...</td>\n",
       "      <td>-0.100121</td>\n",
       "      <td>0.351349</td>\n",
       "      <td>0.366167</td>\n",
       "      <td>0.528196</td>\n",
       "      <td>0.007199</td>\n",
       "      <td>0.323710</td>\n",
       "      <td>-0.029984</td>\n",
       "      <td>-0.123899</td>\n",
       "      <td>0.252133</td>\n",
       "      <td>0.120400</td>\n",
       "    </tr>\n",
       "    <tr>\n",
       "      <th>1</th>\n",
       "      <td>32343</td>\n",
       "      <td>-0.074847</td>\n",
       "      <td>1.31464</td>\n",
       "      <td>0.731481</td>\n",
       "      <td>0.818193</td>\n",
       "      <td>-1.117750</td>\n",
       "      <td>-0.225526</td>\n",
       "      <td>-0.747791</td>\n",
       "      <td>-0.298603</td>\n",
       "      <td>0.407606</td>\n",
       "      <td>...</td>\n",
       "      <td>0.026027</td>\n",
       "      <td>0.434113</td>\n",
       "      <td>0.355148</td>\n",
       "      <td>0.262016</td>\n",
       "      <td>-0.084275</td>\n",
       "      <td>0.234673</td>\n",
       "      <td>0.068018</td>\n",
       "      <td>0.002392</td>\n",
       "      <td>-0.042244</td>\n",
       "      <td>0.022104</td>\n",
       "    </tr>\n",
       "    <tr>\n",
       "      <th>2</th>\n",
       "      <td>36184</td>\n",
       "      <td>-0.125082</td>\n",
       "      <td>1.28215</td>\n",
       "      <td>0.476468</td>\n",
       "      <td>0.746098</td>\n",
       "      <td>-1.152220</td>\n",
       "      <td>-0.227678</td>\n",
       "      <td>-0.622231</td>\n",
       "      <td>-0.258657</td>\n",
       "      <td>0.415299</td>\n",
       "      <td>...</td>\n",
       "      <td>-0.132131</td>\n",
       "      <td>0.223323</td>\n",
       "      <td>0.379335</td>\n",
       "      <td>0.261916</td>\n",
       "      <td>-0.006982</td>\n",
       "      <td>0.400656</td>\n",
       "      <td>-0.070333</td>\n",
       "      <td>-0.129033</td>\n",
       "      <td>0.097223</td>\n",
       "      <td>-0.105203</td>\n",
       "    </tr>\n",
       "    <tr>\n",
       "      <th>3</th>\n",
       "      <td>31453</td>\n",
       "      <td>0.042549</td>\n",
       "      <td>1.24465</td>\n",
       "      <td>0.642632</td>\n",
       "      <td>0.800949</td>\n",
       "      <td>-1.022410</td>\n",
       "      <td>-0.232490</td>\n",
       "      <td>-0.706641</td>\n",
       "      <td>-0.423225</td>\n",
       "      <td>0.442580</td>\n",
       "      <td>...</td>\n",
       "      <td>0.033022</td>\n",
       "      <td>-0.008945</td>\n",
       "      <td>0.327635</td>\n",
       "      <td>0.190701</td>\n",
       "      <td>0.087079</td>\n",
       "      <td>0.056520</td>\n",
       "      <td>-0.060676</td>\n",
       "      <td>-0.014538</td>\n",
       "      <td>0.279508</td>\n",
       "      <td>0.184814</td>\n",
       "    </tr>\n",
       "    <tr>\n",
       "      <th>4</th>\n",
       "      <td>35414</td>\n",
       "      <td>-0.101622</td>\n",
       "      <td>1.41675</td>\n",
       "      <td>0.595129</td>\n",
       "      <td>0.710680</td>\n",
       "      <td>-1.043770</td>\n",
       "      <td>-0.133462</td>\n",
       "      <td>-0.707400</td>\n",
       "      <td>-0.344476</td>\n",
       "      <td>0.335967</td>\n",
       "      <td>...</td>\n",
       "      <td>-0.004407</td>\n",
       "      <td>0.101191</td>\n",
       "      <td>0.373935</td>\n",
       "      <td>0.131526</td>\n",
       "      <td>-0.058632</td>\n",
       "      <td>0.100410</td>\n",
       "      <td>0.135683</td>\n",
       "      <td>-0.003284</td>\n",
       "      <td>0.106229</td>\n",
       "      <td>-0.041020</td>\n",
       "    </tr>\n",
       "  </tbody>\n",
       "</table>\n",
       "<p>5 rows × 65 columns</p>\n",
       "</div>"
      ],
      "text/plain": [
       "   Protein_ID     Emb_1    Emb_2     Emb_3     Emb_4     Emb_5     Emb_6  \\\n",
       "0       35311 -0.022783  1.16824  0.471407  0.543798 -0.995765 -0.176736   \n",
       "1       32343 -0.074847  1.31464  0.731481  0.818193 -1.117750 -0.225526   \n",
       "2       36184 -0.125082  1.28215  0.476468  0.746098 -1.152220 -0.227678   \n",
       "3       31453  0.042549  1.24465  0.642632  0.800949 -1.022410 -0.232490   \n",
       "4       35414 -0.101622  1.41675  0.595129  0.710680 -1.043770 -0.133462   \n",
       "\n",
       "      Emb_7     Emb_8     Emb_9  ...    Emb_55    Emb_56    Emb_57    Emb_58  \\\n",
       "0 -0.519212 -0.287490  0.222473  ... -0.100121  0.351349  0.366167  0.528196   \n",
       "1 -0.747791 -0.298603  0.407606  ...  0.026027  0.434113  0.355148  0.262016   \n",
       "2 -0.622231 -0.258657  0.415299  ... -0.132131  0.223323  0.379335  0.261916   \n",
       "3 -0.706641 -0.423225  0.442580  ...  0.033022 -0.008945  0.327635  0.190701   \n",
       "4 -0.707400 -0.344476  0.335967  ... -0.004407  0.101191  0.373935  0.131526   \n",
       "\n",
       "     Emb_59    Emb_60    Emb_61    Emb_62    Emb_63    Emb_64  \n",
       "0  0.007199  0.323710 -0.029984 -0.123899  0.252133  0.120400  \n",
       "1 -0.084275  0.234673  0.068018  0.002392 -0.042244  0.022104  \n",
       "2 -0.006982  0.400656 -0.070333 -0.129033  0.097223 -0.105203  \n",
       "3  0.087079  0.056520 -0.060676 -0.014538  0.279508  0.184814  \n",
       "4 -0.058632  0.100410  0.135683 -0.003284  0.106229 -0.041020  \n",
       "\n",
       "[5 rows x 65 columns]"
      ]
     },
     "execution_count": 2,
     "metadata": {},
     "output_type": "execute_result"
    }
   ],
   "source": [
    "X = pd.read_csv('ppi_emb_64.csv') # feature array\n",
    "X.head()\n"
   ]
  },
  {
   "cell_type": "code",
   "execution_count": 3,
   "id": "e9720e85-8f7c-4612-84d1-8e82bb337296",
   "metadata": {},
   "outputs": [
    {
     "data": {
      "text/html": [
       "<div>\n",
       "<style scoped>\n",
       "    .dataframe tbody tr th:only-of-type {\n",
       "        vertical-align: middle;\n",
       "    }\n",
       "\n",
       "    .dataframe tbody tr th {\n",
       "        vertical-align: top;\n",
       "    }\n",
       "\n",
       "    .dataframe thead th {\n",
       "        text-align: right;\n",
       "    }\n",
       "</style>\n",
       "<table border=\"1\" class=\"dataframe\">\n",
       "  <thead>\n",
       "    <tr style=\"text-align: right;\">\n",
       "      <th></th>\n",
       "      <th>Essentiality</th>\n",
       "    </tr>\n",
       "  </thead>\n",
       "  <tbody>\n",
       "    <tr>\n",
       "      <th>0</th>\n",
       "      <td>1</td>\n",
       "    </tr>\n",
       "    <tr>\n",
       "      <th>1</th>\n",
       "      <td>0</td>\n",
       "    </tr>\n",
       "    <tr>\n",
       "      <th>2</th>\n",
       "      <td>0</td>\n",
       "    </tr>\n",
       "    <tr>\n",
       "      <th>3</th>\n",
       "      <td>0</td>\n",
       "    </tr>\n",
       "    <tr>\n",
       "      <th>4</th>\n",
       "      <td>1</td>\n",
       "    </tr>\n",
       "  </tbody>\n",
       "</table>\n",
       "</div>"
      ],
      "text/plain": [
       "   Essentiality\n",
       "0             1\n",
       "1             0\n",
       "2             0\n",
       "3             0\n",
       "4             1"
      ]
     },
     "execution_count": 3,
     "metadata": {},
     "output_type": "execute_result"
    }
   ],
   "source": [
    "y = pd.read_csv('ppi_emb_64_out.csv') # target array\n",
    "y.head()"
   ]
  },
  {
   "cell_type": "code",
   "execution_count": 4,
   "id": "23d9ca05-183c-4c24-8810-a11ca5e38ea1",
   "metadata": {},
   "outputs": [
    {
     "data": {
      "text/plain": [
       "Protein_ID      int64\n",
       "Emb_1         float64\n",
       "Emb_2         float64\n",
       "Emb_3         float64\n",
       "Emb_4         float64\n",
       "               ...   \n",
       "Emb_60        float64\n",
       "Emb_61        float64\n",
       "Emb_62        float64\n",
       "Emb_63        float64\n",
       "Emb_64        float64\n",
       "Length: 65, dtype: object"
      ]
     },
     "execution_count": 4,
     "metadata": {},
     "output_type": "execute_result"
    }
   ],
   "source": [
    "X.dtypes"
   ]
  },
  {
   "cell_type": "code",
   "execution_count": 5,
   "id": "f9b356cf-828d-48f4-bb88-f44fde55b5d7",
   "metadata": {},
   "outputs": [
    {
     "data": {
      "text/plain": [
       "Essentiality    int64\n",
       "dtype: object"
      ]
     },
     "execution_count": 5,
     "metadata": {},
     "output_type": "execute_result"
    }
   ],
   "source": [
    "y.dtypes"
   ]
  },
  {
   "cell_type": "code",
   "execution_count": 6,
   "id": "e11828d0-2f4f-4018-9f63-64b560f4a949",
   "metadata": {},
   "outputs": [
    {
     "data": {
      "text/plain": [
       "0.152945979044768"
      ]
     },
     "execution_count": 6,
     "metadata": {},
     "output_type": "execute_result"
    }
   ],
   "source": [
    "sum(y['Essentiality'])/len(y['Essentiality'])"
   ]
  },
  {
   "cell_type": "code",
   "execution_count": 7,
   "id": "d71b7360-ecbc-4666-8a85-73a8de6da619",
   "metadata": {},
   "outputs": [],
   "source": [
    "X_train, X_test, y_train, y_test = train_test_split(X, y, random_state=42, stratify=y)\n"
   ]
  },
  {
   "cell_type": "code",
   "execution_count": 8,
   "id": "e8d2e0e7-8d6f-4d45-9e68-798bbde6304c",
   "metadata": {},
   "outputs": [
    {
     "data": {
      "text/plain": [
       "0.15296679368535657"
      ]
     },
     "execution_count": 8,
     "metadata": {},
     "output_type": "execute_result"
    }
   ],
   "source": [
    "sum(y_train['Essentiality'])/len(y_train['Essentiality'])"
   ]
  },
  {
   "cell_type": "code",
   "execution_count": 9,
   "id": "0f538ed2-31e1-4a20-8965-4d380db07c67",
   "metadata": {},
   "outputs": [
    {
     "data": {
      "text/plain": [
       "0.1528835690968444"
      ]
     },
     "execution_count": 9,
     "metadata": {},
     "output_type": "execute_result"
    }
   ],
   "source": [
    "sum(y_test['Essentiality'])/len(y_test['Essentiality']) "
   ]
  },
  {
   "cell_type": "code",
   "execution_count": 10,
   "id": "7beb8451-1907-4efa-9af2-dba40bc5f67e",
   "metadata": {},
   "outputs": [
    {
     "name": "stdout",
     "output_type": "stream",
     "text": [
      "[15:54:11] WARNING: C:/Users/Administrator/workspace/xgboost-win64_release_1.5.0/src/learner.cc:1115: Starting in XGBoost 1.3.0, the default evaluation metric used with the objective 'binary:logistic' was changed from 'error' to 'logloss'. Explicitly set eval_metric if you'd like to restore the old behavior.\n",
      "Accuracy: 0.9200217627856365\n",
      "Balanced Accuracy Score: 0.7821810352512018\n",
      "F1 Score: 0.6905263157894737\n",
      "Matthew's Correlation Coefficient 0.6610031251443138\n"
     ]
    },
    {
     "data": {
      "image/png": "[encoded data removed]",
      "text/plain": [
       "<Figure size 432x288 with 2 Axes>"
      ]
     },
     "metadata": {
      "needs_background": "light"
     },
     "output_type": "display_data"
    }
   ],
   "source": [
    "xgb_clf = xgb.XGBClassifier(objective='binary:logistic', use_label_encoder=False, seed=42)\n",
    "\n",
    "xgb_clf.fit(X_train, y_train)\n",
    "\n",
    "predictions = xgb_clf.predict(X_test)\n",
    "print(\"Accuracy:\", accuracy_score(y_test, predictions))\n",
    "print(\"Balanced Accuracy Score:\", balanced_accuracy_score(y_test, predictions))\n",
    "print(\"F1 Score:\", f1_score(y_test, predictions))\n",
    "print(\"Matthew's Correlation Coefficient\", matthews_corrcoef(y_test, predictions))\n",
    "\n",
    "c_matrix = confusion_matrix(y_test, predictions, labels=xgb_clf.classes_)\n",
    "disp = ConfusionMatrixDisplay(confusion_matrix=c_matrix,\n",
    "                              display_labels=xgb_clf.classes_)\n",
    "disp.plot()\n",
    "plt.show()"
   ]
  },
  {
   "cell_type": "markdown",
   "id": "6ad5a283-6b40-4252-a926-8aa212669cdb",
   "metadata": {
    "tags": []
   },
   "source": [
    "## 1000"
   ]
  },
  {
   "cell_type": "code",
   "execution_count": 11,
   "id": "f5c3fc51-2412-44c4-a6a9-2d1942bac988",
   "metadata": {},
   "outputs": [
    {
     "data": {
      "text/html": [
       "<div>\n",
       "<style scoped>\n",
       "    .dataframe tbody tr th:only-of-type {\n",
       "        vertical-align: middle;\n",
       "    }\n",
       "\n",
       "    .dataframe tbody tr th {\n",
       "        vertical-align: top;\n",
       "    }\n",
       "\n",
       "    .dataframe thead th {\n",
       "        text-align: right;\n",
       "    }\n",
       "</style>\n",
       "<table border=\"1\" class=\"dataframe\">\n",
       "  <thead>\n",
       "    <tr style=\"text-align: right;\">\n",
       "      <th></th>\n",
       "      <th>Protein_ID</th>\n",
       "      <th>Emb_1</th>\n",
       "      <th>Emb_2</th>\n",
       "      <th>Emb_3</th>\n",
       "      <th>Emb_4</th>\n",
       "      <th>Emb_5</th>\n",
       "      <th>Emb_6</th>\n",
       "      <th>Emb_7</th>\n",
       "      <th>Emb_8</th>\n",
       "      <th>Emb_9</th>\n",
       "      <th>...</th>\n",
       "      <th>Emb_55</th>\n",
       "      <th>Emb_56</th>\n",
       "      <th>Emb_57</th>\n",
       "      <th>Emb_58</th>\n",
       "      <th>Emb_59</th>\n",
       "      <th>Emb_60</th>\n",
       "      <th>Emb_61</th>\n",
       "      <th>Emb_62</th>\n",
       "      <th>Emb_63</th>\n",
       "      <th>Emb_64</th>\n",
       "    </tr>\n",
       "  </thead>\n",
       "  <tbody>\n",
       "    <tr>\n",
       "      <th>0</th>\n",
       "      <td>35311</td>\n",
       "      <td>-0.022783</td>\n",
       "      <td>1.16824</td>\n",
       "      <td>0.471407</td>\n",
       "      <td>0.543798</td>\n",
       "      <td>-0.995765</td>\n",
       "      <td>-0.176736</td>\n",
       "      <td>-0.519212</td>\n",
       "      <td>-0.287490</td>\n",
       "      <td>0.222473</td>\n",
       "      <td>...</td>\n",
       "      <td>-0.100121</td>\n",
       "      <td>0.351349</td>\n",
       "      <td>0.366167</td>\n",
       "      <td>0.528196</td>\n",
       "      <td>0.007199</td>\n",
       "      <td>0.323710</td>\n",
       "      <td>-0.029984</td>\n",
       "      <td>-0.123899</td>\n",
       "      <td>0.252133</td>\n",
       "      <td>0.120400</td>\n",
       "    </tr>\n",
       "    <tr>\n",
       "      <th>1</th>\n",
       "      <td>32343</td>\n",
       "      <td>-0.074847</td>\n",
       "      <td>1.31464</td>\n",
       "      <td>0.731481</td>\n",
       "      <td>0.818193</td>\n",
       "      <td>-1.117750</td>\n",
       "      <td>-0.225526</td>\n",
       "      <td>-0.747791</td>\n",
       "      <td>-0.298603</td>\n",
       "      <td>0.407606</td>\n",
       "      <td>...</td>\n",
       "      <td>0.026027</td>\n",
       "      <td>0.434113</td>\n",
       "      <td>0.355148</td>\n",
       "      <td>0.262016</td>\n",
       "      <td>-0.084275</td>\n",
       "      <td>0.234673</td>\n",
       "      <td>0.068018</td>\n",
       "      <td>0.002392</td>\n",
       "      <td>-0.042244</td>\n",
       "      <td>0.022104</td>\n",
       "    </tr>\n",
       "    <tr>\n",
       "      <th>2</th>\n",
       "      <td>36184</td>\n",
       "      <td>-0.125082</td>\n",
       "      <td>1.28215</td>\n",
       "      <td>0.476468</td>\n",
       "      <td>0.746098</td>\n",
       "      <td>-1.152220</td>\n",
       "      <td>-0.227678</td>\n",
       "      <td>-0.622231</td>\n",
       "      <td>-0.258657</td>\n",
       "      <td>0.415299</td>\n",
       "      <td>...</td>\n",
       "      <td>-0.132131</td>\n",
       "      <td>0.223323</td>\n",
       "      <td>0.379335</td>\n",
       "      <td>0.261916</td>\n",
       "      <td>-0.006982</td>\n",
       "      <td>0.400656</td>\n",
       "      <td>-0.070333</td>\n",
       "      <td>-0.129033</td>\n",
       "      <td>0.097223</td>\n",
       "      <td>-0.105203</td>\n",
       "    </tr>\n",
       "    <tr>\n",
       "      <th>3</th>\n",
       "      <td>31453</td>\n",
       "      <td>0.042549</td>\n",
       "      <td>1.24465</td>\n",
       "      <td>0.642632</td>\n",
       "      <td>0.800949</td>\n",
       "      <td>-1.022410</td>\n",
       "      <td>-0.232490</td>\n",
       "      <td>-0.706641</td>\n",
       "      <td>-0.423225</td>\n",
       "      <td>0.442580</td>\n",
       "      <td>...</td>\n",
       "      <td>0.033022</td>\n",
       "      <td>-0.008945</td>\n",
       "      <td>0.327635</td>\n",
       "      <td>0.190701</td>\n",
       "      <td>0.087079</td>\n",
       "      <td>0.056520</td>\n",
       "      <td>-0.060676</td>\n",
       "      <td>-0.014538</td>\n",
       "      <td>0.279508</td>\n",
       "      <td>0.184814</td>\n",
       "    </tr>\n",
       "    <tr>\n",
       "      <th>4</th>\n",
       "      <td>35414</td>\n",
       "      <td>-0.101622</td>\n",
       "      <td>1.41675</td>\n",
       "      <td>0.595129</td>\n",
       "      <td>0.710680</td>\n",
       "      <td>-1.043770</td>\n",
       "      <td>-0.133462</td>\n",
       "      <td>-0.707400</td>\n",
       "      <td>-0.344476</td>\n",
       "      <td>0.335967</td>\n",
       "      <td>...</td>\n",
       "      <td>-0.004407</td>\n",
       "      <td>0.101191</td>\n",
       "      <td>0.373935</td>\n",
       "      <td>0.131526</td>\n",
       "      <td>-0.058632</td>\n",
       "      <td>0.100410</td>\n",
       "      <td>0.135683</td>\n",
       "      <td>-0.003284</td>\n",
       "      <td>0.106229</td>\n",
       "      <td>-0.041020</td>\n",
       "    </tr>\n",
       "  </tbody>\n",
       "</table>\n",
       "<p>5 rows × 65 columns</p>\n",
       "</div>"
      ],
      "text/plain": [
       "   Protein_ID     Emb_1    Emb_2     Emb_3     Emb_4     Emb_5     Emb_6  \\\n",
       "0       35311 -0.022783  1.16824  0.471407  0.543798 -0.995765 -0.176736   \n",
       "1       32343 -0.074847  1.31464  0.731481  0.818193 -1.117750 -0.225526   \n",
       "2       36184 -0.125082  1.28215  0.476468  0.746098 -1.152220 -0.227678   \n",
       "3       31453  0.042549  1.24465  0.642632  0.800949 -1.022410 -0.232490   \n",
       "4       35414 -0.101622  1.41675  0.595129  0.710680 -1.043770 -0.133462   \n",
       "\n",
       "      Emb_7     Emb_8     Emb_9  ...    Emb_55    Emb_56    Emb_57    Emb_58  \\\n",
       "0 -0.519212 -0.287490  0.222473  ... -0.100121  0.351349  0.366167  0.528196   \n",
       "1 -0.747791 -0.298603  0.407606  ...  0.026027  0.434113  0.355148  0.262016   \n",
       "2 -0.622231 -0.258657  0.415299  ... -0.132131  0.223323  0.379335  0.261916   \n",
       "3 -0.706641 -0.423225  0.442580  ...  0.033022 -0.008945  0.327635  0.190701   \n",
       "4 -0.707400 -0.344476  0.335967  ... -0.004407  0.101191  0.373935  0.131526   \n",
       "\n",
       "     Emb_59    Emb_60    Emb_61    Emb_62    Emb_63    Emb_64  \n",
       "0  0.007199  0.323710 -0.029984 -0.123899  0.252133  0.120400  \n",
       "1 -0.084275  0.234673  0.068018  0.002392 -0.042244  0.022104  \n",
       "2 -0.006982  0.400656 -0.070333 -0.129033  0.097223 -0.105203  \n",
       "3  0.087079  0.056520 -0.060676 -0.014538  0.279508  0.184814  \n",
       "4 -0.058632  0.100410  0.135683 -0.003284  0.106229 -0.041020  \n",
       "\n",
       "[5 rows x 65 columns]"
      ]
     },
     "execution_count": 11,
     "metadata": {},
     "output_type": "execute_result"
    }
   ],
   "source": [
    "X = pd.read_csv('ppi_emb_64.csv') # feature array\n",
    "X.head()"
   ]
  },
  {
   "cell_type": "code",
   "execution_count": 12,
   "id": "9d132de3-4175-442d-9547-6b2544d4ff5e",
   "metadata": {},
   "outputs": [
    {
     "data": {
      "text/html": [
       "<div>\n",
       "<style scoped>\n",
       "    .dataframe tbody tr th:only-of-type {\n",
       "        vertical-align: middle;\n",
       "    }\n",
       "\n",
       "    .dataframe tbody tr th {\n",
       "        vertical-align: top;\n",
       "    }\n",
       "\n",
       "    .dataframe thead th {\n",
       "        text-align: right;\n",
       "    }\n",
       "</style>\n",
       "<table border=\"1\" class=\"dataframe\">\n",
       "  <thead>\n",
       "    <tr style=\"text-align: right;\">\n",
       "      <th></th>\n",
       "      <th>Essentiality</th>\n",
       "    </tr>\n",
       "  </thead>\n",
       "  <tbody>\n",
       "    <tr>\n",
       "      <th>0</th>\n",
       "      <td>0</td>\n",
       "    </tr>\n",
       "    <tr>\n",
       "      <th>1</th>\n",
       "      <td>0</td>\n",
       "    </tr>\n",
       "    <tr>\n",
       "      <th>2</th>\n",
       "      <td>0</td>\n",
       "    </tr>\n",
       "    <tr>\n",
       "      <th>3</th>\n",
       "      <td>0</td>\n",
       "    </tr>\n",
       "    <tr>\n",
       "      <th>4</th>\n",
       "      <td>0</td>\n",
       "    </tr>\n",
       "  </tbody>\n",
       "</table>\n",
       "</div>"
      ],
      "text/plain": [
       "   Essentiality\n",
       "0             0\n",
       "1             0\n",
       "2             0\n",
       "3             0\n",
       "4             0"
      ]
     },
     "execution_count": 12,
     "metadata": {},
     "output_type": "execute_result"
    }
   ],
   "source": [
    "y = pd.read_csv('ppi_graph_1011.emb_out.csv')\n",
    "y.head()"
   ]
  },
  {
   "cell_type": "code",
   "execution_count": 13,
   "id": "24480ecd-e4e4-4b0b-b8d0-350d9781632b",
   "metadata": {},
   "outputs": [
    {
     "data": {
      "text/plain": [
       "0.152945979044768"
      ]
     },
     "execution_count": 13,
     "metadata": {},
     "output_type": "execute_result"
    }
   ],
   "source": [
    "sum(y['Essentiality'])/len(y['Essentiality'])"
   ]
  },
  {
   "cell_type": "code",
   "execution_count": 14,
   "id": "0bdf090e-0492-4253-8777-2d3ea42eef72",
   "metadata": {},
   "outputs": [],
   "source": [
    "X_train, X_test, y_train, y_test = train_test_split(X, y, random_state=42, stratify=y)"
   ]
  },
  {
   "cell_type": "code",
   "execution_count": 15,
   "id": "0735c7bb-8c08-4708-a56b-b5e126087795",
   "metadata": {},
   "outputs": [
    {
     "data": {
      "text/plain": [
       "0.15296679368535657"
      ]
     },
     "execution_count": 15,
     "metadata": {},
     "output_type": "execute_result"
    }
   ],
   "source": [
    "sum(y_train['Essentiality'])/len(y_train['Essentiality'])"
   ]
  },
  {
   "cell_type": "code",
   "execution_count": 16,
   "id": "fea66387-3bc0-4850-8b79-1ef5c36f74d5",
   "metadata": {},
   "outputs": [
    {
     "data": {
      "text/plain": [
       "0.1528835690968444"
      ]
     },
     "execution_count": 16,
     "metadata": {},
     "output_type": "execute_result"
    }
   ],
   "source": [
    "sum(y_test['Essentiality'])/len(y_test['Essentiality']) "
   ]
  },
  {
   "cell_type": "code",
   "execution_count": 17,
   "id": "abe1609e-22fa-495d-98ad-07c50dad6f41",
   "metadata": {},
   "outputs": [
    {
     "name": "stdout",
     "output_type": "stream",
     "text": [
      "[15:54:18] WARNING: C:/Users/Administrator/workspace/xgboost-win64_release_1.5.0/src/learner.cc:1115: Starting in XGBoost 1.3.0, the default evaluation metric used with the objective 'binary:logistic' was changed from 'error' to 'logloss'. Explicitly set eval_metric if you'd like to restore the old behavior.\n",
      "Accuracy: 0.8367791077257889\n",
      "Balanced Accuracy Score: 0.4982732099552703\n",
      "F1 Score: 0.0196078431372549\n",
      "Matthew's Correlation Coefficient -0.010729959721982629\n"
     ]
    },
    {
     "data": {
      "image/png": "[encoded data removed]",
      "text/plain": [
       "<Figure size 432x288 with 2 Axes>"
      ]
     },
     "metadata": {
      "needs_background": "light"
     },
     "output_type": "display_data"
    }
   ],
   "source": [
    "xgb_clf = xgb.XGBClassifier(objective='binary:logistic', use_label_encoder=False, seed=42)\n",
    "\n",
    "xgb_clf.fit(X_train, y_train)\n",
    "\n",
    "predictions = xgb_clf.predict(X_test)\n",
    "print(\"Accuracy:\", accuracy_score(y_test, predictions))\n",
    "print(\"Balanced Accuracy Score:\", balanced_accuracy_score(y_test, predictions))\n",
    "print(\"F1 Score:\", f1_score(y_test, predictions))\n",
    "print(\"Matthew's Correlation Coefficient\", matthews_corrcoef(y_test, predictions))\n",
    "\n",
    "c_matrix = confusion_matrix(y_test, predictions, labels=xgb_clf.classes_)\n",
    "disp = ConfusionMatrixDisplay(confusion_matrix=c_matrix,\n",
    "                              display_labels=xgb_clf.classes_)\n",
    "disp.plot()\n",
    "plt.show()"
   ]
  },
  {
   "cell_type": "markdown",
   "id": "9711c1e5-91eb-417e-a48a-f77afebaff55",
   "metadata": {},
   "source": [
    "## 128"
   ]
  },
  {
   "cell_type": "code",
   "execution_count": 18,
   "id": "228f5ffd-d306-4a51-a290-25ad80460cc5",
   "metadata": {},
   "outputs": [
    {
     "data": {
      "text/html": [
       "<div>\n",
       "<style scoped>\n",
       "    .dataframe tbody tr th:only-of-type {\n",
       "        vertical-align: middle;\n",
       "    }\n",
       "\n",
       "    .dataframe tbody tr th {\n",
       "        vertical-align: top;\n",
       "    }\n",
       "\n",
       "    .dataframe thead th {\n",
       "        text-align: right;\n",
       "    }\n",
       "</style>\n",
       "<table border=\"1\" class=\"dataframe\">\n",
       "  <thead>\n",
       "    <tr style=\"text-align: right;\">\n",
       "      <th></th>\n",
       "      <th>Protein_ID</th>\n",
       "      <th>Emb_1</th>\n",
       "      <th>Emb_2</th>\n",
       "      <th>Emb_3</th>\n",
       "      <th>Emb_4</th>\n",
       "      <th>Emb_5</th>\n",
       "      <th>Emb_6</th>\n",
       "      <th>Emb_7</th>\n",
       "      <th>Emb_8</th>\n",
       "      <th>Emb_9</th>\n",
       "      <th>...</th>\n",
       "      <th>Emb_55</th>\n",
       "      <th>Emb_56</th>\n",
       "      <th>Emb_57</th>\n",
       "      <th>Emb_58</th>\n",
       "      <th>Emb_59</th>\n",
       "      <th>Emb_60</th>\n",
       "      <th>Emb_61</th>\n",
       "      <th>Emb_62</th>\n",
       "      <th>Emb_63</th>\n",
       "      <th>Emb_64</th>\n",
       "    </tr>\n",
       "  </thead>\n",
       "  <tbody>\n",
       "    <tr>\n",
       "      <th>0</th>\n",
       "      <td>35172</td>\n",
       "      <td>-0.219197</td>\n",
       "      <td>-0.064536</td>\n",
       "      <td>0.529702</td>\n",
       "      <td>-0.036840</td>\n",
       "      <td>-0.208907</td>\n",
       "      <td>-2.63320</td>\n",
       "      <td>-0.520615</td>\n",
       "      <td>0.247777</td>\n",
       "      <td>0.097288</td>\n",
       "      <td>...</td>\n",
       "      <td>0.003640</td>\n",
       "      <td>0.039411</td>\n",
       "      <td>-0.003954</td>\n",
       "      <td>0.182813</td>\n",
       "      <td>0.097850</td>\n",
       "      <td>0.000713</td>\n",
       "      <td>0.177308</td>\n",
       "      <td>-0.036164</td>\n",
       "      <td>0.037220</td>\n",
       "      <td>-0.231684</td>\n",
       "    </tr>\n",
       "    <tr>\n",
       "      <th>1</th>\n",
       "      <td>36219</td>\n",
       "      <td>-0.051611</td>\n",
       "      <td>-0.055717</td>\n",
       "      <td>0.506512</td>\n",
       "      <td>-0.049237</td>\n",
       "      <td>-0.378294</td>\n",
       "      <td>-3.78505</td>\n",
       "      <td>-0.505021</td>\n",
       "      <td>0.222950</td>\n",
       "      <td>-0.022712</td>\n",
       "      <td>...</td>\n",
       "      <td>-0.167189</td>\n",
       "      <td>0.179861</td>\n",
       "      <td>0.005906</td>\n",
       "      <td>0.148420</td>\n",
       "      <td>-0.014184</td>\n",
       "      <td>-0.123245</td>\n",
       "      <td>0.068333</td>\n",
       "      <td>0.069126</td>\n",
       "      <td>0.305638</td>\n",
       "      <td>0.002000</td>\n",
       "    </tr>\n",
       "    <tr>\n",
       "      <th>2</th>\n",
       "      <td>33529</td>\n",
       "      <td>-0.206878</td>\n",
       "      <td>0.017723</td>\n",
       "      <td>0.581162</td>\n",
       "      <td>-0.305732</td>\n",
       "      <td>-0.340831</td>\n",
       "      <td>-3.08255</td>\n",
       "      <td>-0.460425</td>\n",
       "      <td>0.335661</td>\n",
       "      <td>-0.135026</td>\n",
       "      <td>...</td>\n",
       "      <td>0.011725</td>\n",
       "      <td>0.070937</td>\n",
       "      <td>-0.131839</td>\n",
       "      <td>0.109878</td>\n",
       "      <td>-0.089183</td>\n",
       "      <td>0.223468</td>\n",
       "      <td>0.000416</td>\n",
       "      <td>-0.228223</td>\n",
       "      <td>-0.212249</td>\n",
       "      <td>-0.078489</td>\n",
       "    </tr>\n",
       "    <tr>\n",
       "      <th>3</th>\n",
       "      <td>33140</td>\n",
       "      <td>-0.651552</td>\n",
       "      <td>0.113270</td>\n",
       "      <td>0.958247</td>\n",
       "      <td>-0.173385</td>\n",
       "      <td>-0.410222</td>\n",
       "      <td>-3.32279</td>\n",
       "      <td>-0.570396</td>\n",
       "      <td>0.425498</td>\n",
       "      <td>-0.109159</td>\n",
       "      <td>...</td>\n",
       "      <td>0.117070</td>\n",
       "      <td>0.142106</td>\n",
       "      <td>-0.247275</td>\n",
       "      <td>-0.143655</td>\n",
       "      <td>-0.040301</td>\n",
       "      <td>0.100117</td>\n",
       "      <td>0.117124</td>\n",
       "      <td>0.000500</td>\n",
       "      <td>-0.338804</td>\n",
       "      <td>-0.161684</td>\n",
       "    </tr>\n",
       "    <tr>\n",
       "      <th>4</th>\n",
       "      <td>36478</td>\n",
       "      <td>-0.279379</td>\n",
       "      <td>0.280165</td>\n",
       "      <td>0.525679</td>\n",
       "      <td>0.019386</td>\n",
       "      <td>-0.571736</td>\n",
       "      <td>-3.29977</td>\n",
       "      <td>-0.686731</td>\n",
       "      <td>0.304353</td>\n",
       "      <td>0.136698</td>\n",
       "      <td>...</td>\n",
       "      <td>0.080335</td>\n",
       "      <td>0.183600</td>\n",
       "      <td>0.480127</td>\n",
       "      <td>0.069734</td>\n",
       "      <td>-0.035892</td>\n",
       "      <td>0.197071</td>\n",
       "      <td>0.294827</td>\n",
       "      <td>-0.374624</td>\n",
       "      <td>-0.098853</td>\n",
       "      <td>-0.211935</td>\n",
       "    </tr>\n",
       "  </tbody>\n",
       "</table>\n",
       "<p>5 rows × 65 columns</p>\n",
       "</div>"
      ],
      "text/plain": [
       "   Protein_ID     Emb_1     Emb_2     Emb_3     Emb_4     Emb_5    Emb_6  \\\n",
       "0       35172 -0.219197 -0.064536  0.529702 -0.036840 -0.208907 -2.63320   \n",
       "1       36219 -0.051611 -0.055717  0.506512 -0.049237 -0.378294 -3.78505   \n",
       "2       33529 -0.206878  0.017723  0.581162 -0.305732 -0.340831 -3.08255   \n",
       "3       33140 -0.651552  0.113270  0.958247 -0.173385 -0.410222 -3.32279   \n",
       "4       36478 -0.279379  0.280165  0.525679  0.019386 -0.571736 -3.29977   \n",
       "\n",
       "      Emb_7     Emb_8     Emb_9  ...    Emb_55    Emb_56    Emb_57    Emb_58  \\\n",
       "0 -0.520615  0.247777  0.097288  ...  0.003640  0.039411 -0.003954  0.182813   \n",
       "1 -0.505021  0.222950 -0.022712  ... -0.167189  0.179861  0.005906  0.148420   \n",
       "2 -0.460425  0.335661 -0.135026  ...  0.011725  0.070937 -0.131839  0.109878   \n",
       "3 -0.570396  0.425498 -0.109159  ...  0.117070  0.142106 -0.247275 -0.143655   \n",
       "4 -0.686731  0.304353  0.136698  ...  0.080335  0.183600  0.480127  0.069734   \n",
       "\n",
       "     Emb_59    Emb_60    Emb_61    Emb_62    Emb_63    Emb_64  \n",
       "0  0.097850  0.000713  0.177308 -0.036164  0.037220 -0.231684  \n",
       "1 -0.014184 -0.123245  0.068333  0.069126  0.305638  0.002000  \n",
       "2 -0.089183  0.223468  0.000416 -0.228223 -0.212249 -0.078489  \n",
       "3 -0.040301  0.100117  0.117124  0.000500 -0.338804 -0.161684  \n",
       "4 -0.035892  0.197071  0.294827 -0.374624 -0.098853 -0.211935  \n",
       "\n",
       "[5 rows x 65 columns]"
      ]
     },
     "execution_count": 18,
     "metadata": {},
     "output_type": "execute_result"
    }
   ],
   "source": [
    "X = pd.read_csv('ppi_graph_e2.emb.csv') # feature array\n",
    "X.head()\n"
   ]
  },
  {
   "cell_type": "code",
   "execution_count": 19,
   "id": "2ae3d4b7-2357-42bd-9603-e631f5a239c9",
   "metadata": {},
   "outputs": [
    {
     "data": {
      "text/html": [
       "<div>\n",
       "<style scoped>\n",
       "    .dataframe tbody tr th:only-of-type {\n",
       "        vertical-align: middle;\n",
       "    }\n",
       "\n",
       "    .dataframe tbody tr th {\n",
       "        vertical-align: top;\n",
       "    }\n",
       "\n",
       "    .dataframe thead th {\n",
       "        text-align: right;\n",
       "    }\n",
       "</style>\n",
       "<table border=\"1\" class=\"dataframe\">\n",
       "  <thead>\n",
       "    <tr style=\"text-align: right;\">\n",
       "      <th></th>\n",
       "      <th>Essentiality</th>\n",
       "    </tr>\n",
       "  </thead>\n",
       "  <tbody>\n",
       "    <tr>\n",
       "      <th>0</th>\n",
       "      <td>0</td>\n",
       "    </tr>\n",
       "    <tr>\n",
       "      <th>1</th>\n",
       "      <td>0</td>\n",
       "    </tr>\n",
       "    <tr>\n",
       "      <th>2</th>\n",
       "      <td>0</td>\n",
       "    </tr>\n",
       "    <tr>\n",
       "      <th>3</th>\n",
       "      <td>1</td>\n",
       "    </tr>\n",
       "    <tr>\n",
       "      <th>4</th>\n",
       "      <td>0</td>\n",
       "    </tr>\n",
       "  </tbody>\n",
       "</table>\n",
       "</div>"
      ],
      "text/plain": [
       "   Essentiality\n",
       "0             0\n",
       "1             0\n",
       "2             0\n",
       "3             1\n",
       "4             0"
      ]
     },
     "execution_count": 19,
     "metadata": {},
     "output_type": "execute_result"
    }
   ],
   "source": [
    "y = pd.read_csv('ppi_graph_e2.emb_out.csv')\n",
    "y.head()"
   ]
  },
  {
   "cell_type": "code",
   "execution_count": 20,
   "id": "b7b8de14-adea-437b-a2cc-118d04a004ce",
   "metadata": {},
   "outputs": [
    {
     "data": {
      "text/plain": [
       "0.152945979044768"
      ]
     },
     "execution_count": 20,
     "metadata": {},
     "output_type": "execute_result"
    }
   ],
   "source": [
    "sum(y['Essentiality'])/len(y['Essentiality'])"
   ]
  },
  {
   "cell_type": "code",
   "execution_count": 21,
   "id": "31b266a7-3d88-4f62-ad54-b4889311cd94",
   "metadata": {},
   "outputs": [],
   "source": [
    "X_train, X_test, y_train, y_test = train_test_split(X, y, random_state=42, stratify=y)"
   ]
  },
  {
   "cell_type": "code",
   "execution_count": 22,
   "id": "82bce184-6aa2-4b7c-8a05-0096df6707b7",
   "metadata": {},
   "outputs": [
    {
     "data": {
      "text/plain": [
       "0.15296679368535657"
      ]
     },
     "execution_count": 22,
     "metadata": {},
     "output_type": "execute_result"
    }
   ],
   "source": [
    "sum(y_train['Essentiality'])/len(y_train['Essentiality'])"
   ]
  },
  {
   "cell_type": "code",
   "execution_count": 23,
   "id": "4042cdf3-5441-4896-a816-c86e1efa1b2c",
   "metadata": {},
   "outputs": [
    {
     "data": {
      "text/plain": [
       "0.1528835690968444"
      ]
     },
     "execution_count": 23,
     "metadata": {},
     "output_type": "execute_result"
    }
   ],
   "source": [
    "sum(y_test['Essentiality'])/len(y_test['Essentiality']) "
   ]
  },
  {
   "cell_type": "code",
   "execution_count": 24,
   "id": "2f893fd0-c789-408e-a7e2-d9030ab685c3",
   "metadata": {},
   "outputs": [
    {
     "name": "stdout",
     "output_type": "stream",
     "text": [
      "[15:54:24] WARNING: C:/Users/Administrator/workspace/xgboost-win64_release_1.5.0/src/learner.cc:1115: Starting in XGBoost 1.3.0, the default evaluation metric used with the objective 'binary:logistic' was changed from 'error' to 'logloss'. Explicitly set eval_metric if you'd like to restore the old behavior.\n",
      "Accuracy: 0.9238302502720348\n",
      "Balanced Accuracy Score: 0.7844289479037386\n",
      "F1 Score: 0.7008547008547009\n",
      "Matthew's Correlation Coefficient 0.6771843562680472\n"
     ]
    },
    {
     "data": {
      "image/png": "[encoded data removed]",
      "text/plain": [
       "<Figure size 432x288 with 2 Axes>"
      ]
     },
     "metadata": {
      "needs_background": "light"
     },
     "output_type": "display_data"
    }
   ],
   "source": [
    "xgb_clf = xgb.XGBClassifier(objective='binary:logistic', use_label_encoder=False, seed=42)\n",
    "\n",
    "xgb_clf.fit(X_train, y_train)\n",
    "\n",
    "predictions = xgb_clf.predict(X_test)\n",
    "print(\"Accuracy:\", accuracy_score(y_test, predictions))\n",
    "print(\"Balanced Accuracy Score:\", balanced_accuracy_score(y_test, predictions))\n",
    "print(\"F1 Score:\", f1_score(y_test, predictions))\n",
    "print(\"Matthew's Correlation Coefficient\", matthews_corrcoef(y_test, predictions))\n",
    "\n",
    "c_matrix = confusion_matrix(y_test, predictions, labels=xgb_clf.classes_)\n",
    "disp = ConfusionMatrixDisplay(confusion_matrix=c_matrix,\n",
    "                              display_labels=xgb_clf.classes_)\n",
    "disp.plot()\n",
    "plt.show()"
   ]
  },
  {
   "cell_type": "markdown",
   "id": "2aeacfd4-b999-443b-aa83-4d05854432ac",
   "metadata": {},
   "source": [
    "## Epoch=10"
   ]
  },
  {
   "cell_type": "code",
   "execution_count": 25,
   "id": "ce31f157-98c3-4fcf-a1aa-7f73ea707bc6",
   "metadata": {},
   "outputs": [
    {
     "data": {
      "text/html": [
       "<div>\n",
       "<style scoped>\n",
       "    .dataframe tbody tr th:only-of-type {\n",
       "        vertical-align: middle;\n",
       "    }\n",
       "\n",
       "    .dataframe tbody tr th {\n",
       "        vertical-align: top;\n",
       "    }\n",
       "\n",
       "    .dataframe thead th {\n",
       "        text-align: right;\n",
       "    }\n",
       "</style>\n",
       "<table border=\"1\" class=\"dataframe\">\n",
       "  <thead>\n",
       "    <tr style=\"text-align: right;\">\n",
       "      <th></th>\n",
       "      <th>protein_id</th>\n",
       "      <th>emb_1</th>\n",
       "      <th>emb_2</th>\n",
       "      <th>emb_3</th>\n",
       "      <th>emb_4</th>\n",
       "      <th>emb_5</th>\n",
       "      <th>emb_6</th>\n",
       "      <th>emb_7</th>\n",
       "      <th>emb_8</th>\n",
       "      <th>emb_9</th>\n",
       "      <th>...</th>\n",
       "      <th>emb_119</th>\n",
       "      <th>emb_120</th>\n",
       "      <th>emb_121</th>\n",
       "      <th>emb_122</th>\n",
       "      <th>emb_123</th>\n",
       "      <th>emb_124</th>\n",
       "      <th>emb_125</th>\n",
       "      <th>emb_126</th>\n",
       "      <th>emb_127</th>\n",
       "      <th>emb_128</th>\n",
       "    </tr>\n",
       "  </thead>\n",
       "  <tbody>\n",
       "    <tr>\n",
       "      <th>0</th>\n",
       "      <td>35453</td>\n",
       "      <td>-0.071900</td>\n",
       "      <td>0.323390</td>\n",
       "      <td>-0.341642</td>\n",
       "      <td>0.137416</td>\n",
       "      <td>0.418540</td>\n",
       "      <td>0.015601</td>\n",
       "      <td>-1.30523</td>\n",
       "      <td>0.477177</td>\n",
       "      <td>1.17112</td>\n",
       "      <td>...</td>\n",
       "      <td>0.142683</td>\n",
       "      <td>-0.153118</td>\n",
       "      <td>0.141608</td>\n",
       "      <td>-0.263766</td>\n",
       "      <td>-0.113139</td>\n",
       "      <td>0.043687</td>\n",
       "      <td>0.189464</td>\n",
       "      <td>0.141029</td>\n",
       "      <td>-0.018655</td>\n",
       "      <td>0.084978</td>\n",
       "    </tr>\n",
       "    <tr>\n",
       "      <th>1</th>\n",
       "      <td>34541</td>\n",
       "      <td>-0.000028</td>\n",
       "      <td>0.179229</td>\n",
       "      <td>-0.472758</td>\n",
       "      <td>0.011107</td>\n",
       "      <td>0.337032</td>\n",
       "      <td>0.046419</td>\n",
       "      <td>-1.39415</td>\n",
       "      <td>0.715963</td>\n",
       "      <td>1.09529</td>\n",
       "      <td>...</td>\n",
       "      <td>0.071234</td>\n",
       "      <td>0.072859</td>\n",
       "      <td>-0.135011</td>\n",
       "      <td>-0.060185</td>\n",
       "      <td>0.020260</td>\n",
       "      <td>0.005044</td>\n",
       "      <td>0.049998</td>\n",
       "      <td>-0.246181</td>\n",
       "      <td>-0.015463</td>\n",
       "      <td>-0.081796</td>\n",
       "    </tr>\n",
       "    <tr>\n",
       "      <th>2</th>\n",
       "      <td>34496</td>\n",
       "      <td>-0.300200</td>\n",
       "      <td>0.029528</td>\n",
       "      <td>-0.327213</td>\n",
       "      <td>0.173122</td>\n",
       "      <td>0.378983</td>\n",
       "      <td>-0.418844</td>\n",
       "      <td>-1.17801</td>\n",
       "      <td>0.524312</td>\n",
       "      <td>1.74226</td>\n",
       "      <td>...</td>\n",
       "      <td>-0.100104</td>\n",
       "      <td>0.056901</td>\n",
       "      <td>-0.369464</td>\n",
       "      <td>0.143987</td>\n",
       "      <td>-0.024520</td>\n",
       "      <td>0.304503</td>\n",
       "      <td>-0.038245</td>\n",
       "      <td>0.015238</td>\n",
       "      <td>0.031865</td>\n",
       "      <td>-0.074802</td>\n",
       "    </tr>\n",
       "    <tr>\n",
       "      <th>3</th>\n",
       "      <td>32783</td>\n",
       "      <td>0.084205</td>\n",
       "      <td>0.119421</td>\n",
       "      <td>-0.274436</td>\n",
       "      <td>0.066276</td>\n",
       "      <td>0.316684</td>\n",
       "      <td>0.241499</td>\n",
       "      <td>-1.27033</td>\n",
       "      <td>0.456444</td>\n",
       "      <td>1.33443</td>\n",
       "      <td>...</td>\n",
       "      <td>-0.265767</td>\n",
       "      <td>0.241059</td>\n",
       "      <td>-0.123604</td>\n",
       "      <td>0.071393</td>\n",
       "      <td>-0.150936</td>\n",
       "      <td>0.279875</td>\n",
       "      <td>-0.057841</td>\n",
       "      <td>-0.012771</td>\n",
       "      <td>-0.058049</td>\n",
       "      <td>-0.081486</td>\n",
       "    </tr>\n",
       "    <tr>\n",
       "      <th>4</th>\n",
       "      <td>33049</td>\n",
       "      <td>0.033426</td>\n",
       "      <td>-0.207836</td>\n",
       "      <td>-0.213357</td>\n",
       "      <td>0.264246</td>\n",
       "      <td>0.315720</td>\n",
       "      <td>0.041178</td>\n",
       "      <td>-1.39809</td>\n",
       "      <td>0.545583</td>\n",
       "      <td>1.05477</td>\n",
       "      <td>...</td>\n",
       "      <td>-0.062209</td>\n",
       "      <td>-0.008099</td>\n",
       "      <td>-0.255717</td>\n",
       "      <td>-0.046022</td>\n",
       "      <td>-0.086025</td>\n",
       "      <td>-0.010030</td>\n",
       "      <td>0.115172</td>\n",
       "      <td>0.110073</td>\n",
       "      <td>0.215150</td>\n",
       "      <td>0.027343</td>\n",
       "    </tr>\n",
       "  </tbody>\n",
       "</table>\n",
       "<p>5 rows × 129 columns</p>\n",
       "</div>"
      ],
      "text/plain": [
       "   protein_id     emb_1     emb_2     emb_3     emb_4     emb_5     emb_6  \\\n",
       "0       35453 -0.071900  0.323390 -0.341642  0.137416  0.418540  0.015601   \n",
       "1       34541 -0.000028  0.179229 -0.472758  0.011107  0.337032  0.046419   \n",
       "2       34496 -0.300200  0.029528 -0.327213  0.173122  0.378983 -0.418844   \n",
       "3       32783  0.084205  0.119421 -0.274436  0.066276  0.316684  0.241499   \n",
       "4       33049  0.033426 -0.207836 -0.213357  0.264246  0.315720  0.041178   \n",
       "\n",
       "     emb_7     emb_8    emb_9  ...   emb_119   emb_120   emb_121   emb_122  \\\n",
       "0 -1.30523  0.477177  1.17112  ...  0.142683 -0.153118  0.141608 -0.263766   \n",
       "1 -1.39415  0.715963  1.09529  ...  0.071234  0.072859 -0.135011 -0.060185   \n",
       "2 -1.17801  0.524312  1.74226  ... -0.100104  0.056901 -0.369464  0.143987   \n",
       "3 -1.27033  0.456444  1.33443  ... -0.265767  0.241059 -0.123604  0.071393   \n",
       "4 -1.39809  0.545583  1.05477  ... -0.062209 -0.008099 -0.255717 -0.046022   \n",
       "\n",
       "    emb_123   emb_124   emb_125   emb_126   emb_127   emb_128  \n",
       "0 -0.113139  0.043687  0.189464  0.141029 -0.018655  0.084978  \n",
       "1  0.020260  0.005044  0.049998 -0.246181 -0.015463 -0.081796  \n",
       "2 -0.024520  0.304503 -0.038245  0.015238  0.031865 -0.074802  \n",
       "3 -0.150936  0.279875 -0.057841 -0.012771 -0.058049 -0.081486  \n",
       "4 -0.086025 -0.010030  0.115172  0.110073  0.215150  0.027343  \n",
       "\n",
       "[5 rows x 129 columns]"
      ]
     },
     "execution_count": 25,
     "metadata": {},
     "output_type": "execute_result"
    }
   ],
   "source": [
    "X = pd.read_csv('ppi_graph_e10.emb.csv')\n",
    "X.drop(X.columns[[129]], axis=1, inplace=True) \n",
    "X.head()"
   ]
  },
  {
   "cell_type": "code",
   "execution_count": 26,
   "id": "992be9c0-28f8-4cca-a045-ceee0e9eac39",
   "metadata": {},
   "outputs": [
    {
     "data": {
      "text/html": [
       "<div>\n",
       "<style scoped>\n",
       "    .dataframe tbody tr th:only-of-type {\n",
       "        vertical-align: middle;\n",
       "    }\n",
       "\n",
       "    .dataframe tbody tr th {\n",
       "        vertical-align: top;\n",
       "    }\n",
       "\n",
       "    .dataframe thead th {\n",
       "        text-align: right;\n",
       "    }\n",
       "</style>\n",
       "<table border=\"1\" class=\"dataframe\">\n",
       "  <thead>\n",
       "    <tr style=\"text-align: right;\">\n",
       "      <th></th>\n",
       "      <th>Essentiality</th>\n",
       "    </tr>\n",
       "  </thead>\n",
       "  <tbody>\n",
       "    <tr>\n",
       "      <th>0</th>\n",
       "      <td>0</td>\n",
       "    </tr>\n",
       "    <tr>\n",
       "      <th>1</th>\n",
       "      <td>0</td>\n",
       "    </tr>\n",
       "    <tr>\n",
       "      <th>2</th>\n",
       "      <td>1</td>\n",
       "    </tr>\n",
       "    <tr>\n",
       "      <th>3</th>\n",
       "      <td>0</td>\n",
       "    </tr>\n",
       "    <tr>\n",
       "      <th>4</th>\n",
       "      <td>1</td>\n",
       "    </tr>\n",
       "  </tbody>\n",
       "</table>\n",
       "</div>"
      ],
      "text/plain": [
       "   Essentiality\n",
       "0             0\n",
       "1             0\n",
       "2             1\n",
       "3             0\n",
       "4             1"
      ]
     },
     "execution_count": 26,
     "metadata": {},
     "output_type": "execute_result"
    }
   ],
   "source": [
    "y = pd.read_csv('ppi_graph_e10.emb_out.csv')\n",
    "y.head()"
   ]
  },
  {
   "cell_type": "code",
   "execution_count": 27,
   "id": "f74bedf1-636c-4e73-a600-0b4df9ee7a8f",
   "metadata": {},
   "outputs": [
    {
     "data": {
      "text/plain": [
       "0.152945979044768"
      ]
     },
     "execution_count": 27,
     "metadata": {},
     "output_type": "execute_result"
    }
   ],
   "source": [
    "sum(y['Essentiality'])/len(y['Essentiality'])"
   ]
  },
  {
   "cell_type": "code",
   "execution_count": 28,
   "id": "0af788b7-50e1-4024-9407-e9d8c8a3ba30",
   "metadata": {},
   "outputs": [],
   "source": [
    "X_train, X_test, y_train, y_test = train_test_split(X, y, random_state=42, stratify=y)\n"
   ]
  },
  {
   "cell_type": "code",
   "execution_count": 29,
   "id": "98e19512-bd4f-4a0a-b1a9-74bdae20f6e9",
   "metadata": {},
   "outputs": [
    {
     "data": {
      "text/plain": [
       "0.15296679368535657"
      ]
     },
     "execution_count": 29,
     "metadata": {},
     "output_type": "execute_result"
    }
   ],
   "source": [
    "sum(y_train['Essentiality'])/len(y_train['Essentiality'])"
   ]
  },
  {
   "cell_type": "code",
   "execution_count": 30,
   "id": "60c12b1c-f2bc-4ec4-9dbc-4c1f8146e2e0",
   "metadata": {},
   "outputs": [
    {
     "data": {
      "text/plain": [
       "0.1528835690968444"
      ]
     },
     "execution_count": 30,
     "metadata": {},
     "output_type": "execute_result"
    }
   ],
   "source": [
    "sum(y_test['Essentiality'])/len(y_test['Essentiality']) "
   ]
  },
  {
   "cell_type": "code",
   "execution_count": 31,
   "id": "25addafe-bf43-43ac-a00e-6a6309936253",
   "metadata": {},
   "outputs": [
    {
     "name": "stdout",
     "output_type": "stream",
     "text": [
      "[15:54:29] WARNING: C:/Users/Administrator/workspace/xgboost-win64_release_1.5.0/src/learner.cc:1115: Starting in XGBoost 1.3.0, the default evaluation metric used with the objective 'binary:logistic' was changed from 'error' to 'logloss'. Explicitly set eval_metric if you'd like to restore the old behavior.\n",
      "Accuracy: 0.9075081610446137\n",
      "Balanced Accuracy Score: 0.7222987906755622\n",
      "F1 Score: 0.6009389671361502\n",
      "Matthew's Correlation Coefficient 0.5935428556400204\n"
     ]
    },
    {
     "data": {
      "image/png": "[encoded data removed]",
      "text/plain": [
       "<Figure size 432x288 with 2 Axes>"
      ]
     },
     "metadata": {
      "needs_background": "light"
     },
     "output_type": "display_data"
    }
   ],
   "source": [
    "xgb_clf = xgb.XGBClassifier(objective='binary:logistic', use_label_encoder=False, seed=42)\n",
    "\n",
    "xgb_clf.fit(X_train, y_train)\n",
    "\n",
    "predictions = xgb_clf.predict(X_test)\n",
    "print(\"Accuracy:\", accuracy_score(y_test, predictions))\n",
    "print(\"Balanced Accuracy Score:\", balanced_accuracy_score(y_test, predictions))\n",
    "print(\"F1 Score:\", f1_score(y_test, predictions))\n",
    "print(\"Matthew's Correlation Coefficient\", matthews_corrcoef(y_test, predictions))\n",
    "\n",
    "c_matrix = confusion_matrix(y_test, predictions, labels=xgb_clf.classes_)\n",
    "disp = ConfusionMatrixDisplay(confusion_matrix=c_matrix,\n",
    "                              display_labels=xgb_clf.classes_)\n",
    "disp.plot()\n",
    "plt.show()"
   ]
  },
  {
   "cell_type": "code",
   "execution_count": null,
   "id": "30b0d7cc-0504-4d84-8d70-644dc1d72fcf",
   "metadata": {},
   "outputs": [],
   "source": []
  },
  {
   "cell_type": "code",
   "execution_count": null,
   "id": "58603667-85d9-481b-a403-cfe435498319",
   "metadata": {},
   "outputs": [],
   "source": []
  }
 ],
 "metadata": {
  "kernelspec": {
   "display_name": "Python 3 (ipykernel)",
   "language": "python",
   "name": "python3"
  },
  "language_info": {
   "codemirror_mode": {
    "name": "ipython",
    "version": 3
   },
   "file_extension": ".py",
   "mimetype": "text/x-python",
   "name": "python",
   "nbconvert_exporter": "python",
   "pygments_lexer": "ipython3",
   "version": "3.9.6"
  }
 },
 "nbformat": 4,
 "nbformat_minor": 5
}

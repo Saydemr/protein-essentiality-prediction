{
 "cells": [
  {
   "cell_type": "code",
   "execution_count": 1,
   "id": "a1b7a780-455a-494e-9b4f-26422bfdf779",
   "metadata": {},
   "outputs": [],
   "source": [
    "import pandas as pd\n",
    "import numpy as np\n",
    "import xgboost as xgb\n",
    "import matplotlib.pyplot as plt\n",
    "from sklearn.model_selection import train_test_split\n",
    "from sklearn.metrics import balanced_accuracy_score, roc_auc_score, make_scorer\n",
    "from sklearn.model_selection import RandomizedSearchCV,  GridSearchCV\n",
    "from sklearn.metrics import confusion_matrix, ConfusionMatrixDisplay\n",
    "from sklearn.metrics import plot_confusion_matrix"
   ]
  },
  {
   "cell_type": "code",
   "execution_count": 2,
   "id": "ace71945-299e-44b7-8cdd-6fb6731a8026",
   "metadata": {},
   "outputs": [
    {
     "data": {
      "text/html": [
       "<div>\n",
       "<style scoped>\n",
       "    .dataframe tbody tr th:only-of-type {\n",
       "        vertical-align: middle;\n",
       "    }\n",
       "\n",
       "    .dataframe tbody tr th {\n",
       "        vertical-align: top;\n",
       "    }\n",
       "\n",
       "    .dataframe thead th {\n",
       "        text-align: right;\n",
       "    }\n",
       "</style>\n",
       "<table border=\"1\" class=\"dataframe\">\n",
       "  <thead>\n",
       "    <tr style=\"text-align: right;\">\n",
       "      <th></th>\n",
       "      <th>Protein_ID</th>\n",
       "      <th>Feature_1</th>\n",
       "      <th>Feature_2</th>\n",
       "      <th>Feature_3</th>\n",
       "      <th>Feature_4</th>\n",
       "      <th>Feature_5</th>\n",
       "      <th>Feature_6</th>\n",
       "      <th>Feature_7</th>\n",
       "      <th>Feature_8</th>\n",
       "      <th>Feature_9</th>\n",
       "      <th>...</th>\n",
       "      <th>Feature_119</th>\n",
       "      <th>Feature_120</th>\n",
       "      <th>Feature_121</th>\n",
       "      <th>Feature_122</th>\n",
       "      <th>Feature_123</th>\n",
       "      <th>Feature_124</th>\n",
       "      <th>Feature_125</th>\n",
       "      <th>Feature_126</th>\n",
       "      <th>Feature_127</th>\n",
       "      <th>Feature_128</th>\n",
       "    </tr>\n",
       "  </thead>\n",
       "  <tbody>\n",
       "    <tr>\n",
       "      <th>0</th>\n",
       "      <td>33604</td>\n",
       "      <td>-0.510713</td>\n",
       "      <td>-0.034698</td>\n",
       "      <td>0.226693</td>\n",
       "      <td>-0.104328</td>\n",
       "      <td>-0.538392</td>\n",
       "      <td>-0.507054</td>\n",
       "      <td>0.492950</td>\n",
       "      <td>-1.00316</td>\n",
       "      <td>0.028777</td>\n",
       "      <td>...</td>\n",
       "      <td>0.089326</td>\n",
       "      <td>0.051028</td>\n",
       "      <td>0.111069</td>\n",
       "      <td>0.001206</td>\n",
       "      <td>0.026827</td>\n",
       "      <td>-0.177385</td>\n",
       "      <td>0.000920</td>\n",
       "      <td>0.091404</td>\n",
       "      <td>0.057852</td>\n",
       "      <td>0.037080</td>\n",
       "    </tr>\n",
       "    <tr>\n",
       "      <th>1</th>\n",
       "      <td>32517</td>\n",
       "      <td>-0.491558</td>\n",
       "      <td>-0.046047</td>\n",
       "      <td>0.257778</td>\n",
       "      <td>-0.160126</td>\n",
       "      <td>-0.554985</td>\n",
       "      <td>-0.543983</td>\n",
       "      <td>0.572091</td>\n",
       "      <td>-1.18108</td>\n",
       "      <td>-0.016534</td>\n",
       "      <td>...</td>\n",
       "      <td>0.140605</td>\n",
       "      <td>0.056848</td>\n",
       "      <td>-0.025456</td>\n",
       "      <td>0.029715</td>\n",
       "      <td>0.044395</td>\n",
       "      <td>-0.051489</td>\n",
       "      <td>0.130238</td>\n",
       "      <td>0.117172</td>\n",
       "      <td>0.145234</td>\n",
       "      <td>-0.037787</td>\n",
       "    </tr>\n",
       "    <tr>\n",
       "      <th>2</th>\n",
       "      <td>33032</td>\n",
       "      <td>-0.185390</td>\n",
       "      <td>-0.045132</td>\n",
       "      <td>0.207800</td>\n",
       "      <td>-0.087014</td>\n",
       "      <td>-0.451806</td>\n",
       "      <td>-0.529272</td>\n",
       "      <td>0.541076</td>\n",
       "      <td>-1.15432</td>\n",
       "      <td>0.015249</td>\n",
       "      <td>...</td>\n",
       "      <td>-0.000517</td>\n",
       "      <td>0.003153</td>\n",
       "      <td>-0.055355</td>\n",
       "      <td>-0.023645</td>\n",
       "      <td>-0.044576</td>\n",
       "      <td>0.167176</td>\n",
       "      <td>-0.060008</td>\n",
       "      <td>-0.064866</td>\n",
       "      <td>-0.100815</td>\n",
       "      <td>-0.031260</td>\n",
       "    </tr>\n",
       "    <tr>\n",
       "      <th>3</th>\n",
       "      <td>32122</td>\n",
       "      <td>-0.419456</td>\n",
       "      <td>-0.043147</td>\n",
       "      <td>0.196954</td>\n",
       "      <td>-0.008683</td>\n",
       "      <td>-0.365592</td>\n",
       "      <td>-0.459568</td>\n",
       "      <td>0.522353</td>\n",
       "      <td>-1.08144</td>\n",
       "      <td>0.007236</td>\n",
       "      <td>...</td>\n",
       "      <td>-0.001924</td>\n",
       "      <td>0.036864</td>\n",
       "      <td>-0.023502</td>\n",
       "      <td>-0.012770</td>\n",
       "      <td>0.027593</td>\n",
       "      <td>-0.115401</td>\n",
       "      <td>0.006661</td>\n",
       "      <td>0.034642</td>\n",
       "      <td>-0.053900</td>\n",
       "      <td>-0.001947</td>\n",
       "    </tr>\n",
       "    <tr>\n",
       "      <th>4</th>\n",
       "      <td>31903</td>\n",
       "      <td>-0.270278</td>\n",
       "      <td>0.042724</td>\n",
       "      <td>0.222879</td>\n",
       "      <td>-0.087699</td>\n",
       "      <td>-0.453998</td>\n",
       "      <td>-0.456130</td>\n",
       "      <td>0.546997</td>\n",
       "      <td>-1.45105</td>\n",
       "      <td>0.066381</td>\n",
       "      <td>...</td>\n",
       "      <td>0.065648</td>\n",
       "      <td>-0.013739</td>\n",
       "      <td>-0.002602</td>\n",
       "      <td>-0.025708</td>\n",
       "      <td>0.006592</td>\n",
       "      <td>-0.025986</td>\n",
       "      <td>0.072824</td>\n",
       "      <td>0.108263</td>\n",
       "      <td>0.026072</td>\n",
       "      <td>0.053583</td>\n",
       "    </tr>\n",
       "  </tbody>\n",
       "</table>\n",
       "<p>5 rows × 129 columns</p>\n",
       "</div>"
      ],
      "text/plain": [
       "   Protein_ID  Feature_1  Feature_2  Feature_3  Feature_4  Feature_5  \\\n",
       "0       33604  -0.510713  -0.034698   0.226693  -0.104328  -0.538392   \n",
       "1       32517  -0.491558  -0.046047   0.257778  -0.160126  -0.554985   \n",
       "2       33032  -0.185390  -0.045132   0.207800  -0.087014  -0.451806   \n",
       "3       32122  -0.419456  -0.043147   0.196954  -0.008683  -0.365592   \n",
       "4       31903  -0.270278   0.042724   0.222879  -0.087699  -0.453998   \n",
       "\n",
       "   Feature_6  Feature_7  Feature_8  Feature_9  ...  Feature_119  Feature_120  \\\n",
       "0  -0.507054   0.492950   -1.00316   0.028777  ...     0.089326     0.051028   \n",
       "1  -0.543983   0.572091   -1.18108  -0.016534  ...     0.140605     0.056848   \n",
       "2  -0.529272   0.541076   -1.15432   0.015249  ...    -0.000517     0.003153   \n",
       "3  -0.459568   0.522353   -1.08144   0.007236  ...    -0.001924     0.036864   \n",
       "4  -0.456130   0.546997   -1.45105   0.066381  ...     0.065648    -0.013739   \n",
       "\n",
       "   Feature_121  Feature_122  Feature_123  Feature_124  Feature_125  \\\n",
       "0     0.111069     0.001206     0.026827    -0.177385     0.000920   \n",
       "1    -0.025456     0.029715     0.044395    -0.051489     0.130238   \n",
       "2    -0.055355    -0.023645    -0.044576     0.167176    -0.060008   \n",
       "3    -0.023502    -0.012770     0.027593    -0.115401     0.006661   \n",
       "4    -0.002602    -0.025708     0.006592    -0.025986     0.072824   \n",
       "\n",
       "   Feature_126  Feature_127  Feature_128  \n",
       "0     0.091404     0.057852     0.037080  \n",
       "1     0.117172     0.145234    -0.037787  \n",
       "2    -0.064866    -0.100815    -0.031260  \n",
       "3     0.034642    -0.053900    -0.001947  \n",
       "4     0.108263     0.026072     0.053583  \n",
       "\n",
       "[5 rows x 129 columns]"
      ]
     },
     "execution_count": 2,
     "metadata": {},
     "output_type": "execute_result"
    }
   ],
   "source": [
    "X = pd.read_csv('ppiemb.csv') # feature array\n",
    "X.head()\n"
   ]
  },
  {
   "cell_type": "code",
   "execution_count": 3,
   "id": "c5941098-acf2-4e24-83ff-7e91f94a8196",
   "metadata": {},
   "outputs": [
    {
     "data": {
      "text/html": [
       "<div>\n",
       "<style scoped>\n",
       "    .dataframe tbody tr th:only-of-type {\n",
       "        vertical-align: middle;\n",
       "    }\n",
       "\n",
       "    .dataframe tbody tr th {\n",
       "        vertical-align: top;\n",
       "    }\n",
       "\n",
       "    .dataframe thead th {\n",
       "        text-align: right;\n",
       "    }\n",
       "</style>\n",
       "<table border=\"1\" class=\"dataframe\">\n",
       "  <thead>\n",
       "    <tr style=\"text-align: right;\">\n",
       "      <th></th>\n",
       "      <th>Essentiality</th>\n",
       "    </tr>\n",
       "  </thead>\n",
       "  <tbody>\n",
       "    <tr>\n",
       "      <th>0</th>\n",
       "      <td>1</td>\n",
       "    </tr>\n",
       "    <tr>\n",
       "      <th>1</th>\n",
       "      <td>0</td>\n",
       "    </tr>\n",
       "    <tr>\n",
       "      <th>2</th>\n",
       "      <td>1</td>\n",
       "    </tr>\n",
       "    <tr>\n",
       "      <th>3</th>\n",
       "      <td>0</td>\n",
       "    </tr>\n",
       "    <tr>\n",
       "      <th>4</th>\n",
       "      <td>0</td>\n",
       "    </tr>\n",
       "  </tbody>\n",
       "</table>\n",
       "</div>"
      ],
      "text/plain": [
       "   Essentiality\n",
       "0             1\n",
       "1             0\n",
       "2             1\n",
       "3             0\n",
       "4             0"
      ]
     },
     "execution_count": 3,
     "metadata": {},
     "output_type": "execute_result"
    }
   ],
   "source": [
    "y = pd.read_csv('ppiemb_essentiality.csv') # target array\n",
    "y.head()"
   ]
  },
  {
   "cell_type": "code",
   "execution_count": 4,
   "id": "9de52bab-5738-4618-801b-4a0b29011a8e",
   "metadata": {},
   "outputs": [
    {
     "data": {
      "text/plain": [
       "Protein_ID       int64\n",
       "Feature_1      float64\n",
       "Feature_2      float64\n",
       "Feature_3      float64\n",
       "Feature_4      float64\n",
       "                ...   \n",
       "Feature_124    float64\n",
       "Feature_125    float64\n",
       "Feature_126    float64\n",
       "Feature_127    float64\n",
       "Feature_128    float64\n",
       "Length: 129, dtype: object"
      ]
     },
     "execution_count": 4,
     "metadata": {},
     "output_type": "execute_result"
    }
   ],
   "source": [
    "X.dtypes"
   ]
  },
  {
   "cell_type": "code",
   "execution_count": 5,
   "id": "cc1351f9-434a-4f3a-b8a9-dca9ebf8f7f4",
   "metadata": {},
   "outputs": [
    {
     "data": {
      "text/plain": [
       "Essentiality    int64\n",
       "dtype: object"
      ]
     },
     "execution_count": 5,
     "metadata": {},
     "output_type": "execute_result"
    }
   ],
   "source": [
    "y.dtypes"
   ]
  },
  {
   "cell_type": "code",
   "execution_count": 6,
   "id": "1946455f-4556-417a-9412-96cf8abf06bf",
   "metadata": {},
   "outputs": [
    {
     "data": {
      "text/plain": [
       "0.152945979044768"
      ]
     },
     "execution_count": 6,
     "metadata": {},
     "output_type": "execute_result"
    }
   ],
   "source": [
    "sum(y['Essentiality'])/len(y['Essentiality']) # to see the percentage of the essential genes in y."
   ]
  },
  {
   "cell_type": "code",
   "execution_count": 7,
   "id": "6b5cdbfe-72a1-444a-ad85-8c0488e2a74c",
   "metadata": {},
   "outputs": [],
   "source": [
    "X_train, X_test, y_train, y_test = train_test_split(X, y, random_state=42, stratify=y)\n",
    "# test_size = 0.25, train_size = 0.75"
   ]
  },
  {
   "cell_type": "code",
   "execution_count": 8,
   "id": "7db68b97-e90f-40e3-9db8-09efc7780def",
   "metadata": {},
   "outputs": [
    {
     "data": {
      "text/plain": [
       "0.15296679368535657"
      ]
     },
     "execution_count": 8,
     "metadata": {},
     "output_type": "execute_result"
    }
   ],
   "source": [
    "sum(y_train['Essentiality'])/len(y_train['Essentiality']) # check to see if the percentage of essential genes in training set is the same with y. "
   ]
  },
  {
   "cell_type": "code",
   "execution_count": 9,
   "id": "06968d30-b52e-4f6d-b444-0effb01dd5bc",
   "metadata": {},
   "outputs": [
    {
     "data": {
      "text/plain": [
       "0.1528835690968444"
      ]
     },
     "execution_count": 9,
     "metadata": {},
     "output_type": "execute_result"
    }
   ],
   "source": [
    "sum(y_test['Essentiality'])/len(y_test['Essentiality']) # check to see if the percentage of essential genes in testing set is the same with y. "
   ]
  },
  {
   "cell_type": "code",
   "execution_count": 12,
   "id": "be0a60cd-9117-45dc-980c-b33682a4110c",
   "metadata": {},
   "outputs": [
    {
     "name": "stdout",
     "output_type": "stream",
     "text": [
      "[02:20:19] WARNING: C:/Users/Administrator/workspace/xgboost-win64_release_1.5.0/src/learner.cc:1115: Starting in XGBoost 1.3.0, the default evaluation metric used with the objective 'binary:logistic' was changed from 'error' to 'logloss'. Explicitly set eval_metric if you'd like to restore the old behavior.\n",
      "0.8069446444366732\n"
     ]
    },
    {
     "data": {
      "image/png": "[encoded data removed]",
      "text/plain": [
       "<Figure size 432x288 with 2 Axes>"
      ]
     },
     "metadata": {
      "needs_background": "light"
     },
     "output_type": "display_data"
    }
   ],
   "source": [
    "# plot_confusion_matrix(clf_xgb,\n",
    "#                      X_test,\n",
    "#                      y_test)\n",
    "xgb_clf = xgb.XGBClassifier(objective='binary:logistic', use_label_encoder=False, seed=42)\n",
    "\n",
    "xgb_clf.fit(X_train, y_train)\n",
    "\n",
    "predictions = xgb_clf.predict(X_test)\n",
    "print(balanced_accuracy_score(y_test, predictions))\n",
    "\n",
    "c_matrix = confusion_matrix(y_test, predictions, labels=xgb_clf.classes_)\n",
    "disp = ConfusionMatrixDisplay(confusion_matrix=c_matrix,\n",
    "                              display_labels=xgb_clf.classes_)\n",
    "disp.plot()\n",
    "plt.show()"
   ]
  },
  {
   "cell_type": "markdown",
   "id": "4d8e0c43-b3f2-4cdb-84ca-28a7012d5b53",
   "metadata": {
    "tags": []
   },
   "source": [
    "## Hyperparameter Optimization (WIP)"
   ]
  },
  {
   "cell_type": "markdown",
   "id": "2ca4972d-eeaa-4e92-8304-c9017b173a79",
   "metadata": {
    "tags": []
   },
   "source": [
    "## GridSearchCV()"
   ]
  },
  {
   "cell_type": "code",
   "execution_count": 14,
   "id": "a6e8e564-536d-4609-8ece-94725c260e60",
   "metadata": {},
   "outputs": [
    {
     "name": "stdout",
     "output_type": "stream",
     "text": [
      "Fitting 3 folds for each of 15 candidates, totalling 45 fits\n",
      "[0]\tvalidation_0-auc:0.81642\n",
      "[1]\tvalidation_0-auc:0.85419\n",
      "[2]\tvalidation_0-auc:0.86285\n",
      "[3]\tvalidation_0-auc:0.86389\n",
      "[4]\tvalidation_0-auc:0.87276\n",
      "[5]\tvalidation_0-auc:0.87318\n",
      "[6]\tvalidation_0-auc:0.87795\n",
      "[7]\tvalidation_0-auc:0.88335\n",
      "[8]\tvalidation_0-auc:0.88552\n"
     ]
    },
    {
     "name": "stderr",
     "output_type": "stream",
     "text": [
      "C:\\Users\\Burcu\\AppData\\Roaming\\Python\\Python39\\site-packages\\xgboost\\sklearn.py:1224: UserWarning: The use of label encoder in XGBClassifier is deprecated and will be removed in a future release. To remove this warning, do the following: 1) Pass option use_label_encoder=False when constructing XGBClassifier object; and 2) Encode your labels (y) as integers starting with 0, i.e. 0, 1, 2, ..., [num_class - 1].\n",
      "  warnings.warn(label_encoder_deprecation_msg, UserWarning)\n",
      "C:\\Users\\Burcu\\AppData\\Roaming\\Python\\Python39\\site-packages\\sklearn\\preprocessing\\_label.py:98: DataConversionWarning: A column-vector y was passed when a 1d array was expected. Please change the shape of y to (n_samples, ), for example using ravel().\n",
      "  y = column_or_1d(y, warn=True)\n",
      "C:\\Users\\Burcu\\AppData\\Roaming\\Python\\Python39\\site-packages\\sklearn\\preprocessing\\_label.py:133: DataConversionWarning: A column-vector y was passed when a 1d array was expected. Please change the shape of y to (n_samples, ), for example using ravel().\n",
      "  y = column_or_1d(y, warn=True)\n"
     ]
    },
    {
     "name": "stdout",
     "output_type": "stream",
     "text": [
      "[9]\tvalidation_0-auc:0.88725\n",
      "[10]\tvalidation_0-auc:0.88738\n",
      "[11]\tvalidation_0-auc:0.88780\n",
      "[12]\tvalidation_0-auc:0.89002\n",
      "[13]\tvalidation_0-auc:0.89354\n",
      "[14]\tvalidation_0-auc:0.89591\n",
      "[15]\tvalidation_0-auc:0.89707\n",
      "[16]\tvalidation_0-auc:0.89743\n",
      "[17]\tvalidation_0-auc:0.89796\n",
      "[18]\tvalidation_0-auc:0.89975\n",
      "[19]\tvalidation_0-auc:0.89986\n",
      "[20]\tvalidation_0-auc:0.90047\n",
      "[21]\tvalidation_0-auc:0.90058\n",
      "[22]\tvalidation_0-auc:0.90120\n",
      "[23]\tvalidation_0-auc:0.90085\n",
      "[24]\tvalidation_0-auc:0.90170\n",
      "[25]\tvalidation_0-auc:0.90275\n",
      "[26]\tvalidation_0-auc:0.90340\n",
      "[27]\tvalidation_0-auc:0.90444\n",
      "[28]\tvalidation_0-auc:0.90346\n",
      "[29]\tvalidation_0-auc:0.90440\n",
      "[30]\tvalidation_0-auc:0.90468\n",
      "[31]\tvalidation_0-auc:0.90548\n",
      "[32]\tvalidation_0-auc:0.90598\n",
      "[33]\tvalidation_0-auc:0.90693\n",
      "[34]\tvalidation_0-auc:0.90803\n",
      "[35]\tvalidation_0-auc:0.90819\n",
      "[36]\tvalidation_0-auc:0.90770\n",
      "[37]\tvalidation_0-auc:0.90819\n",
      "[38]\tvalidation_0-auc:0.90838\n",
      "[39]\tvalidation_0-auc:0.90814\n",
      "[40]\tvalidation_0-auc:0.90794\n",
      "[41]\tvalidation_0-auc:0.90794\n",
      "[42]\tvalidation_0-auc:0.90811\n",
      "[43]\tvalidation_0-auc:0.90827\n",
      "[44]\tvalidation_0-auc:0.90868\n",
      "[45]\tvalidation_0-auc:0.90854\n",
      "[46]\tvalidation_0-auc:0.90856\n",
      "[47]\tvalidation_0-auc:0.90913\n",
      "[48]\tvalidation_0-auc:0.90936\n",
      "[49]\tvalidation_0-auc:0.90915\n",
      "[50]\tvalidation_0-auc:0.91002\n",
      "[51]\tvalidation_0-auc:0.91036\n",
      "[52]\tvalidation_0-auc:0.91102\n",
      "[53]\tvalidation_0-auc:0.91133\n",
      "[54]\tvalidation_0-auc:0.91193\n",
      "[55]\tvalidation_0-auc:0.91240\n",
      "[56]\tvalidation_0-auc:0.91249\n",
      "[57]\tvalidation_0-auc:0.91302\n",
      "[58]\tvalidation_0-auc:0.91335\n",
      "[59]\tvalidation_0-auc:0.91394\n",
      "[60]\tvalidation_0-auc:0.91421\n",
      "[61]\tvalidation_0-auc:0.91418\n",
      "[62]\tvalidation_0-auc:0.91412\n",
      "[63]\tvalidation_0-auc:0.91483\n",
      "[64]\tvalidation_0-auc:0.91494\n",
      "[65]\tvalidation_0-auc:0.91497\n",
      "[66]\tvalidation_0-auc:0.91494\n",
      "[67]\tvalidation_0-auc:0.91506\n",
      "[68]\tvalidation_0-auc:0.91481\n",
      "[69]\tvalidation_0-auc:0.91512\n",
      "[70]\tvalidation_0-auc:0.91538\n",
      "[71]\tvalidation_0-auc:0.91514\n",
      "[72]\tvalidation_0-auc:0.91511\n",
      "[73]\tvalidation_0-auc:0.91575\n",
      "[74]\tvalidation_0-auc:0.91608\n",
      "[75]\tvalidation_0-auc:0.91643\n",
      "[76]\tvalidation_0-auc:0.91707\n",
      "[77]\tvalidation_0-auc:0.91667\n",
      "[78]\tvalidation_0-auc:0.91659\n",
      "[79]\tvalidation_0-auc:0.91690\n",
      "[80]\tvalidation_0-auc:0.91704\n",
      "[81]\tvalidation_0-auc:0.91702\n",
      "[82]\tvalidation_0-auc:0.91736\n",
      "[83]\tvalidation_0-auc:0.91716\n",
      "[84]\tvalidation_0-auc:0.91756\n",
      "[85]\tvalidation_0-auc:0.91771\n",
      "[86]\tvalidation_0-auc:0.91741\n",
      "[87]\tvalidation_0-auc:0.91772\n",
      "[88]\tvalidation_0-auc:0.91795\n",
      "[89]\tvalidation_0-auc:0.91852\n",
      "[90]\tvalidation_0-auc:0.91919\n",
      "[91]\tvalidation_0-auc:0.91905\n",
      "[92]\tvalidation_0-auc:0.91862\n",
      "[93]\tvalidation_0-auc:0.91871\n",
      "[94]\tvalidation_0-auc:0.91895\n",
      "[95]\tvalidation_0-auc:0.91905\n",
      "[96]\tvalidation_0-auc:0.91893\n",
      "[97]\tvalidation_0-auc:0.91863\n",
      "[98]\tvalidation_0-auc:0.91877\n",
      "[99]\tvalidation_0-auc:0.91908\n",
      "XGBClassifier(base_score=0.5, booster='gbtree', colsample_bylevel=1,\n",
      "              colsample_bynode=1, colsample_bytree=0.5,\n",
      "              enable_categorical=False, gamma=2.0, gpu_id=-1,\n",
      "              importance_type=None, interaction_constraints='',\n",
      "              learning_rate=0.15, max_delta_step=0, max_depth=7,\n",
      "              min_child_weight=1, missing=nan, monotone_constraints='()',\n",
      "              n_estimators=100, n_jobs=12, num_parallel_tree=1,\n",
      "              predictor='auto', random_state=42, reg_alpha=0, reg_lambda=20.0,\n",
      "              scale_pos_weight=1, seed=42, subsample=0.9, tree_method='exact',\n",
      "              validate_parameters=1, verbosity=None)\n",
      "{'gamma': 2.0, 'learning_rate': 0.15, 'max_depth': 7, 'reg_lambda': 20.0, 'scale_pos_weight': 1}\n"
     ]
    }
   ],
   "source": [
    "#GridSearchCV()\n",
    "\n",
    "## Round 1\n",
    "    # param_grid = {\n",
    "    #     'max_depth': [3,4,5], # possible tree levels\n",
    "    #     'learning_rate': [0.1, 0.01, 0.05],\n",
    "    #     'gamma': [0, 0.25, 1.0],\n",
    "    #     'reg_lambda': [0, 1.0, 10.0],\n",
    "    #     'scale_pos_weight': [1, 3, 5]\n",
    "    # }\n",
    "\n",
    "## Results of Round 1\n",
    "    # XGBClassifier(base_score=0.5, booster='gbtree', colsample_bylevel=1,\n",
    "    #               colsample_bynode=1, colsample_bytree=0.5,\n",
    "    #               enable_categorical=False, gamma=1.0, gpu_id=-1,\n",
    "    #               importance_type=None, interaction_constraints='',\n",
    "    #               learning_rate=0.1, max_delta_step=0, max_depth=5,\n",
    "    #               min_child_weight=1, missing=nan, monotone_constraints='()',\n",
    "    #               n_estimators=100, n_jobs=12, num_parallel_tree=1,\n",
    "    #               predictor='auto', random_state=42, reg_alpha=0, reg_lambda=10.0,\n",
    "    #               scale_pos_weight=1, seed=42, subsample=0.9, tree_method='exact',\n",
    "    #               validate_parameters=1, verbosity=None)\n",
    "    # {'gamma': 1.0, 'learning_rate': 0.1, 'max_depth': 5, 'reg_lambda': 10.0, 'scale_pos_weight': 1}\n",
    "\n",
    "## Round 2\n",
    "    # param_grid = {\n",
    "    #     'max_depth': [5, 6, 7],\n",
    "    #     'learning_rate': [0.2, 0.15, 0.1],\n",
    "    #     'gamma': [1.0, 2.0, 3.0, 4.0],\n",
    "    #     'reg_lambda': [10.0, 20.0, 100.0],\n",
    "    #     'scale_pos_weight': [1]\n",
    "    #}\n",
    "    \n",
    "## Results of Round 2\n",
    "   # XGBClassifier(base_score=0.5, booster='gbtree', colsample_bylevel=1,\n",
    "   #            colsample_bynode=1, colsample_bytree=0.5,\n",
    "   #            enable_categorical=False, gamma=2.0, gpu_id=-1,\n",
    "   #            importance_type=None, interaction_constraints='',\n",
    "   #            learning_rate=0.15, max_delta_step=0, max_depth=7,\n",
    "   #            min_child_weight=1, missing=nan, monotone_constraints='()',\n",
    "   #            n_estimators=100, n_jobs=12, num_parallel_tree=1,\n",
    "   #            predictor='auto', random_state=42, reg_alpha=0, reg_lambda=20.0,\n",
    "   #            scale_pos_weight=1, seed=42, subsample=0.9, tree_method='exact',\n",
    "   #            validate_parameters=1, verbosity=None)\n",
    "   #  {'gamma': 2.0, 'learning_rate': 0.15, 'max_depth': 7, 'reg_lambda': 20.0, 'scale_pos_weight': 1}\n",
    "\n",
    "## Round 3\n",
    "# param_grid= {     \n",
    "#      'learning_rate'    : [0.15] ,\n",
    "#      'max_depth'        : [7, 10, 13],\n",
    "#      'min_child_weight' : [1, 3, 5],\n",
    "#      'gamma'            : [1.0],\n",
    "#      'reg_lambda'       : [20.0, 40.0, 60.0],\n",
    "#      'scale_pos_weight' : [1]\n",
    "# }\n",
    "\n",
    "## Results of Round 3\n",
    "    # XGBClassifier(base_score=0.5, booster='gbtree', colsample_bylevel=1,\n",
    "    #               colsample_bynode=1, colsample_bytree=0.5,\n",
    "    #               enable_categorical=False, gamma=1.0, gpu_id=-1,\n",
    "    #               importance_type=None, interaction_constraints='',\n",
    "    #               learning_rate=0.15, max_delta_step=0, max_depth=7,\n",
    "    #               min_child_weight=5, missing=nan, monotone_constraints='()',\n",
    "    #               n_estimators=100, n_jobs=12, num_parallel_tree=1,\n",
    "    #               predictor='auto', random_state=42, reg_alpha=0, reg_lambda=40.0,\n",
    "    #               scale_pos_weight=1, seed=42, subsample=0.9, tree_method='exact',\n",
    "    #               validate_parameters=1, verbosity=None)\n",
    "    # {'gamma': 1.0, 'learning_rate': 0.15, 'max_depth': 7, 'min_child_weight': 5, 'reg_lambda': 40.0, 'scale_pos_weight': 1}\n",
    "    \n",
    "##Round 4\n",
    "\n",
    "param_grid = {\n",
    "          'max_depth': [7, 9, 11, 13, 15],\n",
    "          'learning_rate': [0.15],\n",
    "          'gamma': [2.0],\n",
    "          'reg_lambda': [20.0, 40.0, 60.0],\n",
    "          'scale_pos_weight': [1]\n",
    "     }\n",
    "\n",
    "## Results of Round 4\n",
    "    # XGBClassifier(base_score=0.5, booster='gbtree', colsample_bylevel=1,\n",
    "    #               colsample_bynode=1, colsample_bytree=0.5,\n",
    "    #               enable_categorical=False, gamma=2.0, gpu_id=-1,\n",
    "    #               importance_type=None, interaction_constraints='',\n",
    "    #               learning_rate=0.15, max_delta_step=0, max_depth=7,\n",
    "    #               min_child_weight=1, missing=nan, monotone_constraints='()',\n",
    "    #               n_estimators=100, n_jobs=12, num_parallel_tree=1,\n",
    "    #               predictor='auto', random_state=42, reg_alpha=0, reg_lambda=20.0,\n",
    "    #               scale_pos_weight=1, seed=42, subsample=0.9, tree_method='exact',\n",
    "    #               validate_parameters=1, verbosity=None)\n",
    "    # {'gamma': 2.0, 'learning_rate': 0.15, 'max_depth': 7, 'reg_lambda': 20.0, 'scale_pos_weight': 1}\n",
    "\n",
    "## when working with imbalanced data:\n",
    "## balance the positive and negative weights with scale_pos_weight\n",
    "## use AUC for evaluation\n",
    "\n",
    "## to prevent overfitting and to speed up the process, \n",
    "## set subsample = 0.9,\n",
    "## set colsample_bytree = 0.5 so that a random subset (50%) of columns are used\n",
    "## cv = 3, three-fold cross-validation\n",
    "\n",
    "optimal_parameters = GridSearchCV(estimator = xgb.XGBClassifier(objective='binary:logistic',\n",
    "                                                              seed=42,\n",
    "                                                              subsample=0.9,\n",
    "                                                              colsample_bytree=0.5\n",
    "                                                               ),\n",
    "                                 param_grid = param_grid,\n",
    "                                 scoring = 'roc_auc',\n",
    "                                 verbose = 2,\n",
    "                                 n_jobs = 10,\n",
    "                                 cv = 3)\n",
    "\n",
    "optimal_parameters.fit(X_train,\n",
    "                       y_train,\n",
    "                       early_stopping_rounds=10,\n",
    "                       eval_metric='auc',\n",
    "                       eval_set=[(X_test, y_test)],\n",
    "                       verbose=True)\n",
    "\n",
    "\n",
    "# classifier=xgb.XGBClassifier()\n",
    "# random_search = RandomizedSearchCV(classifier, param_distributions=param_grid, n_iter=5, scoring='roc_auc', n_jobs=-1, cv=5, verbose=3)\n",
    "\n",
    "\n",
    "# random_search.fit(X_train,y_train)\n",
    "\n",
    "print(optimal_parameters.best_estimator_)\n",
    "print(optimal_parameters.best_params_)"
   ]
  },
  {
   "cell_type": "code",
   "execution_count": 15,
   "id": "2c80c567-cd39-4c52-aebc-12928f2b7b80",
   "metadata": {},
   "outputs": [
    {
     "name": "stdout",
     "output_type": "stream",
     "text": [
      "[02:23:36] WARNING: C:/Users/Administrator/workspace/xgboost-win64_release_1.5.0/src/learner.cc:576: \n",
      "Parameters: { \"learn_rate\" } might not be used.\n",
      "\n",
      "  This could be a false alarm, with some parameters getting used by language bindings but\n",
      "  then being mistakenly passed down to XGBoost core, or some parameter actually being used\n",
      "  but getting flagged wrongly here. Please open an issue if you find any such cases.\n",
      "\n",
      "\n",
      "[0]\tvalidation_0-aucpr:0.55546\n",
      "[1]\tvalidation_0-aucpr:0.65993\n",
      "[2]\tvalidation_0-aucpr:0.68089\n",
      "[3]\tvalidation_0-aucpr:0.69059\n",
      "[4]\tvalidation_0-aucpr:0.69805\n",
      "[5]\tvalidation_0-aucpr:0.70098\n",
      "[6]\tvalidation_0-aucpr:0.71153\n",
      "[7]\tvalidation_0-aucpr:0.72651\n",
      "[8]\tvalidation_0-aucpr:0.72654\n",
      "[9]\tvalidation_0-aucpr:0.73193\n",
      "[10]\tvalidation_0-aucpr:0.73504\n",
      "[11]\tvalidation_0-aucpr:0.73882\n",
      "[12]\tvalidation_0-aucpr:0.74325\n",
      "[13]\tvalidation_0-aucpr:0.74735\n",
      "[14]\tvalidation_0-aucpr:0.74698\n",
      "[15]\tvalidation_0-aucpr:0.74709\n",
      "[16]\tvalidation_0-aucpr:0.75382\n",
      "[17]\tvalidation_0-aucpr:0.75516\n",
      "[18]\tvalidation_0-aucpr:0.75339\n",
      "[19]\tvalidation_0-aucpr:0.75601\n",
      "[20]\tvalidation_0-aucpr:0.75743\n",
      "[21]\tvalidation_0-aucpr:0.75747\n",
      "[22]\tvalidation_0-aucpr:0.75789\n",
      "[23]\tvalidation_0-aucpr:0.76024\n",
      "[24]\tvalidation_0-aucpr:0.76132\n",
      "[25]\tvalidation_0-aucpr:0.76520\n",
      "[26]\tvalidation_0-aucpr:0.76435\n",
      "[27]\tvalidation_0-aucpr:0.76471\n",
      "[28]\tvalidation_0-aucpr:0.76475\n",
      "[29]\tvalidation_0-aucpr:0.76754\n",
      "[30]\tvalidation_0-aucpr:0.77004\n",
      "[31]\tvalidation_0-aucpr:0.76802\n",
      "[32]\tvalidation_0-aucpr:0.76646\n",
      "[33]\tvalidation_0-aucpr:0.76528\n",
      "[34]\tvalidation_0-aucpr:0.76560\n",
      "[35]\tvalidation_0-aucpr:0.76375\n",
      "[36]\tvalidation_0-aucpr:0.76593\n",
      "[37]\tvalidation_0-aucpr:0.76878\n",
      "[38]\tvalidation_0-aucpr:0.76803\n",
      "[39]\tvalidation_0-aucpr:0.76851\n"
     ]
    },
    {
     "data": {
      "text/plain": [
       "XGBClassifier(base_score=0.5, booster='gbtree', colsample_bylevel=1,\n",
       "              colsample_bynode=1, colsample_bytree=0.5,\n",
       "              enable_categorical=False, gamma=1.0, gpu_id=-1,\n",
       "              importance_type=None, interaction_constraints='', learn_rate=0.15,\n",
       "              learning_rate=0.300000012, max_delta_step=0, max_depth=7,\n",
       "              min_child_weight=1, missing=nan, monotone_constraints='()',\n",
       "              n_estimators=100, n_jobs=12, num_parallel_tree=1,\n",
       "              predictor='auto', random_state=42, reg_alpha=0, reg_lambda=20.0,\n",
       "              scale_pos_weight=1, seed=42, subsample=0.9, tree_method='exact',\n",
       "              validate_parameters=1, verbosity=None)"
      ]
     },
     "execution_count": 15,
     "metadata": {},
     "output_type": "execute_result"
    }
   ],
   "source": [
    "# With GridSearchCV\n",
    "# {'gamma': 1.0, 'learning_rate': 0.1, 'max_depth': 5, 'reg_lambda': 10.0, 'scale_pos_weight': 1} -> 0.7999746295572515\n",
    "\n",
    "# {'gamma': 2.0, 'learning_rate': 0.15, 'max_depth': 7, 'reg_lambda': 20.0, 'scale_pos_weight': 1} -> 0.790582994489357\n",
    "clf_grid = xgb.XGBClassifier(seed=42,\n",
    "                            objective='binary:logistic',\n",
    "                            gamma=1.0,\n",
    "                            learn_rate=0.15,\n",
    "                            max_depth=7,\n",
    "                            reg_lambda=20.0,\n",
    "                            scale_pos_weight=1,\n",
    "                            subsample=0.9,\n",
    "                            colsample_bytree=0.5,\n",
    "                            n_estimators=100)\n",
    "\n",
    "\n",
    "clf_grid.fit(X_train, \n",
    "            y_train,\n",
    "            verbose=True,\n",
    "            early_stopping_rounds=10,\n",
    "            eval_metric='aucpr',\n",
    "            eval_set=[(X_test, y_test)])"
   ]
  },
  {
   "cell_type": "code",
   "execution_count": 16,
   "id": "55307e1a-be94-43c2-a8ff-e0c079c90134",
   "metadata": {},
   "outputs": [
    {
     "name": "stdout",
     "output_type": "stream",
     "text": [
      "0.7799331225986648\n"
     ]
    },
    {
     "data": {
      "image/png": "[encoded data removed]",
      "text/plain": [
       "<Figure size 432x288 with 2 Axes>"
      ]
     },
     "metadata": {
      "needs_background": "light"
     },
     "output_type": "display_data"
    }
   ],
   "source": [
    "# with GridSearchCV, 0.7999746295572515 for\n",
    "# {'gamma': 1.0, 'learning_rate': 0.1, 'max_depth': 5, 'reg_lambda': 10.0, 'scale_pos_weight': 1}\n",
    "predictions = clf_grid.predict(X_test)\n",
    "print(balanced_accuracy_score(y_test, predictions))\n",
    "\n",
    "c_matrix = confusion_matrix(y_test, predictions, labels=clf_grid.classes_)\n",
    "disp = ConfusionMatrixDisplay(confusion_matrix=c_matrix,\n",
    "                              display_labels=clf_grid.classes_)\n",
    "disp.plot()\n",
    "plt.show()"
   ]
  },
  {
   "cell_type": "markdown",
   "id": "54a215fa-ffe0-4cf7-9322-95cc72c75760",
   "metadata": {
    "tags": []
   },
   "source": [
    "## RandomizedSearchCV()"
   ]
  },
  {
   "cell_type": "code",
   "execution_count": 17,
   "id": "a4b19b96-d383-4126-85ce-45be12c04d0e",
   "metadata": {},
   "outputs": [
    {
     "name": "stdout",
     "output_type": "stream",
     "text": [
      "Fitting 5 folds for each of 5 candidates, totalling 25 fits\n"
     ]
    },
    {
     "name": "stderr",
     "output_type": "stream",
     "text": [
      "C:\\Users\\Burcu\\AppData\\Roaming\\Python\\Python39\\site-packages\\xgboost\\sklearn.py:1224: UserWarning: The use of label encoder in XGBClassifier is deprecated and will be removed in a future release. To remove this warning, do the following: 1) Pass option use_label_encoder=False when constructing XGBClassifier object; and 2) Encode your labels (y) as integers starting with 0, i.e. 0, 1, 2, ..., [num_class - 1].\n",
      "  warnings.warn(label_encoder_deprecation_msg, UserWarning)\n",
      "C:\\Users\\Burcu\\AppData\\Roaming\\Python\\Python39\\site-packages\\sklearn\\preprocessing\\_label.py:98: DataConversionWarning: A column-vector y was passed when a 1d array was expected. Please change the shape of y to (n_samples, ), for example using ravel().\n",
      "  y = column_or_1d(y, warn=True)\n",
      "C:\\Users\\Burcu\\AppData\\Roaming\\Python\\Python39\\site-packages\\sklearn\\preprocessing\\_label.py:133: DataConversionWarning: A column-vector y was passed when a 1d array was expected. Please change the shape of y to (n_samples, ), for example using ravel().\n",
      "  y = column_or_1d(y, warn=True)\n"
     ]
    },
    {
     "name": "stdout",
     "output_type": "stream",
     "text": [
      "[02:24:19] WARNING: C:/Users/Administrator/workspace/xgboost-win64_release_1.5.0/src/learner.cc:1115: Starting in XGBoost 1.3.0, the default evaluation metric used with the objective 'binary:logistic' was changed from 'error' to 'logloss'. Explicitly set eval_metric if you'd like to restore the old behavior.\n",
      "XGBClassifier(base_score=0.5, booster='gbtree', colsample_bylevel=1,\n",
      "              colsample_bynode=1, colsample_bytree=1, enable_categorical=False,\n",
      "              gamma=0.25, gpu_id=-1, importance_type=None,\n",
      "              interaction_constraints='', learning_rate=0.1, max_delta_step=0,\n",
      "              max_depth=4, min_child_weight=1, missing=nan,\n",
      "              monotone_constraints='()', n_estimators=100, n_jobs=12,\n",
      "              num_parallel_tree=1, predictor='auto', random_state=0,\n",
      "              reg_alpha=0, reg_lambda=1.0, scale_pos_weight=5, subsample=1,\n",
      "              tree_method='exact', validate_parameters=1, verbosity=None)\n",
      "{'scale_pos_weight': 5, 'reg_lambda': 1.0, 'max_depth': 4, 'learning_rate': 0.1, 'gamma': 0.25}\n"
     ]
    }
   ],
   "source": [
    "#RandomizedSearchCV()\n",
    "\n",
    "#Round 1\n",
    "# param_grid = {\n",
    "#     'max_depth': [3,4,5], # possible tree levels\n",
    "#     'learning_rate': [0.1, 0.01, 0.05],\n",
    "#     'gamma': [0, 0.25, 1.0],\n",
    "#     'reg_lambda': [0, 1.0, 10.0],\n",
    "#     'scale_pos_weight': [1, 3, 5]\n",
    "# }\n",
    "\n",
    "# XGBClassifier(base_score=0.5, booster='gbtree', colsample_bylevel=1,\n",
    "#               colsample_bynode=1, colsample_bytree=1, enable_categorical=False,\n",
    "#               gamma=0.25, gpu_id=-1, importance_type=None,\n",
    "#               interaction_constraints='', learning_rate=0.1, max_delta_step=0,\n",
    "#               max_depth=4, min_child_weight=1, missing=nan,\n",
    "#               monotone_constraints='()', n_estimators=100, n_jobs=12,\n",
    "#               num_parallel_tree=1, predictor='auto', random_state=0,\n",
    "#               reg_alpha=0, reg_lambda=1.0, scale_pos_weight=5, subsample=1,\n",
    "#               tree_method='exact', validate_parameters=1, verbosity=None)\n",
    "# {'scale_pos_weight': 5, 'reg_lambda': 1.0, 'max_depth': 4, 'learning_rate': 0.1, 'gamma': 0.25}\n",
    "\n",
    "## Round 2\n",
    "param_grid = {\n",
    "     'max_depth': [4],\n",
    "     'learning_rate': [0.2, 0.05, 0.1],\n",
    "     'gamma': [0.25],\n",
    "     'reg_lambda': [1.0],\n",
    "     'scale_pos_weight': [5, 6, 7]\n",
    "} \n",
    "\n",
    "classifier=xgb.XGBClassifier()\n",
    "#andom_search = RandomizedSearchCV(classifier, pram_distributions=param_grid,n_iter=5,scoring='roc_auc',n_jobs=-1,cv=5,verbose=3)\n",
    "random_search = RandomizedSearchCV(classifier, param_distributions=param_grid, n_iter=5, scoring='roc_auc', n_jobs=-1, cv = 5, verbose = 3)\n",
    "\n",
    "\n",
    "random_search.fit(X_train,y_train)\n",
    "\n",
    "print(random_search.best_estimator_)\n",
    "print(random_search.best_params_)\n",
    "\n",
    "# Fitting 5 folds for each of 5 candidates, totalling 25 fits\n",
    "# XGBClassifier(base_score=0.5, booster='gbtree', colsample_bylevel=1,\n",
    "#               colsample_bynode=1, colsample_bytree=1, enable_categorical=False,\n",
    "#               gamma=0.25, gpu_id=-1, importance_type=None,\n",
    "#               interaction_constraints='', learning_rate=0.05, max_delta_step=0,\n",
    "#               max_depth=4, min_child_weight=1, missing=nan,\n",
    "#               monotone_constraints='()', n_estimators=100, n_jobs=12,\n",
    "#               num_parallel_tree=1, predictor='auto', random_state=0,\n",
    "#               reg_alpha=0, reg_lambda=1.0, scale_pos_weight=3, subsample=1,\n",
    "#               tree_method='exact', validate_parameters=1, verbosity=None)\n",
    "# {'scale_pos_weight': 3, 'reg_lambda': 1.0, 'max_depth': 4, 'learning_rate': 0.05, 'gamma': 0.25}"
   ]
  },
  {
   "cell_type": "code",
   "execution_count": 18,
   "id": "0efd12e4-5a87-4046-9d9a-a2bdf45bc53e",
   "metadata": {},
   "outputs": [
    {
     "name": "stdout",
     "output_type": "stream",
     "text": [
      "[0]\tvalidation_0-aucpr:0.52557\n",
      "[1]\tvalidation_0-aucpr:0.62572\n",
      "[2]\tvalidation_0-aucpr:0.65886\n",
      "[3]\tvalidation_0-aucpr:0.66421\n",
      "[4]\tvalidation_0-aucpr:0.67735\n",
      "[5]\tvalidation_0-aucpr:0.68538\n",
      "[6]\tvalidation_0-aucpr:0.68081\n",
      "[7]\tvalidation_0-aucpr:0.68782\n",
      "[8]\tvalidation_0-aucpr:0.69990\n",
      "[9]\tvalidation_0-aucpr:0.69863\n",
      "[10]\tvalidation_0-aucpr:0.70000\n",
      "[11]\tvalidation_0-aucpr:0.70185\n",
      "[12]\tvalidation_0-aucpr:0.70134\n",
      "[13]\tvalidation_0-aucpr:0.70455\n",
      "[14]\tvalidation_0-aucpr:0.71034\n",
      "[15]\tvalidation_0-aucpr:0.71219\n",
      "[16]\tvalidation_0-aucpr:0.71257\n",
      "[17]\tvalidation_0-aucpr:0.71792\n",
      "[18]\tvalidation_0-aucpr:0.72088\n",
      "[19]\tvalidation_0-aucpr:0.72010\n",
      "[20]\tvalidation_0-aucpr:0.71991\n",
      "[21]\tvalidation_0-aucpr:0.72668\n",
      "[22]\tvalidation_0-aucpr:0.73245\n",
      "[23]\tvalidation_0-aucpr:0.73599\n",
      "[24]\tvalidation_0-aucpr:0.74186\n",
      "[25]\tvalidation_0-aucpr:0.74682\n",
      "[26]\tvalidation_0-aucpr:0.75028\n",
      "[27]\tvalidation_0-aucpr:0.75117\n",
      "[28]\tvalidation_0-aucpr:0.75280\n",
      "[29]\tvalidation_0-aucpr:0.75533\n",
      "[30]\tvalidation_0-aucpr:0.75643\n",
      "[31]\tvalidation_0-aucpr:0.75982\n",
      "[32]\tvalidation_0-aucpr:0.76126\n",
      "[33]\tvalidation_0-aucpr:0.76383\n",
      "[34]\tvalidation_0-aucpr:0.76544\n",
      "[35]\tvalidation_0-aucpr:0.76834\n",
      "[36]\tvalidation_0-aucpr:0.76736\n",
      "[37]\tvalidation_0-aucpr:0.76695\n",
      "[38]\tvalidation_0-aucpr:0.76821\n",
      "[39]\tvalidation_0-aucpr:0.76745\n",
      "[40]\tvalidation_0-aucpr:0.76912\n",
      "[41]\tvalidation_0-aucpr:0.76943\n",
      "[42]\tvalidation_0-aucpr:0.76969\n",
      "[43]\tvalidation_0-aucpr:0.77248\n",
      "[44]\tvalidation_0-aucpr:0.77302\n",
      "[45]\tvalidation_0-aucpr:0.77167\n",
      "[46]\tvalidation_0-aucpr:0.77313\n",
      "[47]\tvalidation_0-aucpr:0.77347\n",
      "[48]\tvalidation_0-aucpr:0.77184\n",
      "[49]\tvalidation_0-aucpr:0.77265\n",
      "[50]\tvalidation_0-aucpr:0.77341\n",
      "[51]\tvalidation_0-aucpr:0.77441\n",
      "[52]\tvalidation_0-aucpr:0.77401\n",
      "[53]\tvalidation_0-aucpr:0.77581\n",
      "[54]\tvalidation_0-aucpr:0.77608\n",
      "[55]\tvalidation_0-aucpr:0.77496\n",
      "[56]\tvalidation_0-aucpr:0.77536\n",
      "[57]\tvalidation_0-aucpr:0.77554\n",
      "[58]\tvalidation_0-aucpr:0.77594\n",
      "[59]\tvalidation_0-aucpr:0.77489\n",
      "[60]\tvalidation_0-aucpr:0.77558\n",
      "[61]\tvalidation_0-aucpr:0.77545\n",
      "[62]\tvalidation_0-aucpr:0.77592\n",
      "[63]\tvalidation_0-aucpr:0.77671\n",
      "[64]\tvalidation_0-aucpr:0.77758\n",
      "[65]\tvalidation_0-aucpr:0.77819\n",
      "[66]\tvalidation_0-aucpr:0.77877\n",
      "[67]\tvalidation_0-aucpr:0.77990\n",
      "[68]\tvalidation_0-aucpr:0.77960\n",
      "[69]\tvalidation_0-aucpr:0.77960\n",
      "[70]\tvalidation_0-aucpr:0.77977\n",
      "[71]\tvalidation_0-aucpr:0.78026\n",
      "[72]\tvalidation_0-aucpr:0.78122\n",
      "[73]\tvalidation_0-aucpr:0.78135\n",
      "[74]\tvalidation_0-aucpr:0.78084\n",
      "[75]\tvalidation_0-aucpr:0.78191\n",
      "[76]\tvalidation_0-aucpr:0.78118\n",
      "[77]\tvalidation_0-aucpr:0.78200\n",
      "[78]\tvalidation_0-aucpr:0.78216\n",
      "[79]\tvalidation_0-aucpr:0.78235\n",
      "[80]\tvalidation_0-aucpr:0.78147\n",
      "[81]\tvalidation_0-aucpr:0.78143\n",
      "[82]\tvalidation_0-aucpr:0.78118\n",
      "[83]\tvalidation_0-aucpr:0.78172\n",
      "[84]\tvalidation_0-aucpr:0.78292\n",
      "[85]\tvalidation_0-aucpr:0.78372\n",
      "[86]\tvalidation_0-aucpr:0.78325\n",
      "[87]\tvalidation_0-aucpr:0.78351\n",
      "[88]\tvalidation_0-aucpr:0.78338\n",
      "[89]\tvalidation_0-aucpr:0.78325\n",
      "[90]\tvalidation_0-aucpr:0.78413\n",
      "[91]\tvalidation_0-aucpr:0.78354\n",
      "[92]\tvalidation_0-aucpr:0.78483\n",
      "[93]\tvalidation_0-aucpr:0.78533\n",
      "[94]\tvalidation_0-aucpr:0.78527\n",
      "[95]\tvalidation_0-aucpr:0.78604\n",
      "[96]\tvalidation_0-aucpr:0.78543\n",
      "[97]\tvalidation_0-aucpr:0.78589\n",
      "[98]\tvalidation_0-aucpr:0.78878\n",
      "[99]\tvalidation_0-aucpr:0.78883\n"
     ]
    },
    {
     "data": {
      "text/plain": [
       "XGBClassifier(base_score=0.5, booster='gbtree', colsample_bylevel=1,\n",
       "              colsample_bynode=1, colsample_bytree=1, enable_categorical=False,\n",
       "              gamma=0.25, gpu_id=-1, importance_type=None,\n",
       "              interaction_constraints='', learning_rate=0.1, max_delta_step=0,\n",
       "              max_depth=4, min_child_weight=1, missing=1,\n",
       "              monotone_constraints='()', n_estimators=100, n_jobs=12,\n",
       "              num_parallel_tree=1, predictor='auto', random_state=0,\n",
       "              reg_alpha=0, reg_lambda=0, scale_pos_weight=3, subsample=1,\n",
       "              tree_method='exact', validate_parameters=1, verbosity=None)"
      ]
     },
     "execution_count": 18,
     "metadata": {},
     "output_type": "execute_result"
    }
   ],
   "source": [
    "# With RandomizedSearchCV\n",
    "# {'scale_pos_weight': 3, 'reg_lambda': 0, 'max_depth': 4, 'learning_rate': 0.1, 'gamma': 0.25}\n",
    "\n",
    "# missing = 1 -> X_train or y_train has missing data?\n",
    "\n",
    "clf_rnd = xgb.XGBClassifier(base_score=0.5, booster='gbtree', colsample_bylevel=1,\n",
    "              colsample_bynode=1, colsample_bytree=1, enable_categorical=False,\n",
    "              gamma=0.25, gpu_id=-1, importance_type=None,\n",
    "              interaction_constraints='', learning_rate=0.1, max_delta_step=0,\n",
    "              max_depth=4, min_child_weight=1, missing=1,\n",
    "              monotone_constraints='()', n_estimators=100, n_jobs=12,\n",
    "              num_parallel_tree=1, predictor='auto', random_state=0,\n",
    "              reg_alpha=0, reg_lambda=0, scale_pos_weight=3, subsample=1,\n",
    "              tree_method='exact', validate_parameters=1, verbosity=None)\n",
    "clf_rnd.fit(X_train, \n",
    "            y_train,\n",
    "            verbose=True,\n",
    "            early_stopping_rounds=10,\n",
    "            eval_metric='aucpr',\n",
    "            eval_set=[(X_test, y_test)])"
   ]
  },
  {
   "cell_type": "code",
   "execution_count": 19,
   "id": "d4d960d0-d6a7-448c-8006-65438eed1bb9",
   "metadata": {},
   "outputs": [
    {
     "name": "stdout",
     "output_type": "stream",
     "text": [
      "0.8366566327708409\n"
     ]
    },
    {
     "data": {
      "image/png": "[encoded data removed]",
      "text/plain": [
       "<Figure size 432x288 with 2 Axes>"
      ]
     },
     "metadata": {
      "needs_background": "light"
     },
     "output_type": "display_data"
    }
   ],
   "source": [
    "# With RandomizedSearchCV, 0.8366566327708409 for\n",
    "# {'scale_pos_weight': 3, 'reg_lambda': 0, 'max_depth': 4, 'learning_rate': 0.1, 'gamma': 0.25}\n",
    "\n",
    "predictions = clf_rnd.predict(X_test)\n",
    "print(balanced_accuracy_score(y_test, predictions))\n",
    "\n",
    "c_matrix = confusion_matrix(y_test, predictions, labels=clf_rnd.classes_)\n",
    "disp = ConfusionMatrixDisplay(confusion_matrix=c_matrix,\n",
    "                              display_labels=clf_rnd.classes_)\n",
    "disp.plot()\n",
    "plt.show()"
   ]
  },
  {
   "cell_type": "code",
   "execution_count": null,
   "id": "296364aa-3a3a-4051-92d9-7bf8a2c9d7c9",
   "metadata": {},
   "outputs": [],
   "source": []
  },
  {
   "cell_type": "code",
   "execution_count": null,
   "id": "4a38450d-8bfa-47f0-81fc-9616dfecc001",
   "metadata": {},
   "outputs": [],
   "source": []
  },
  {
   "cell_type": "code",
   "execution_count": null,
   "id": "675bb0be-e34b-4022-ad04-40bb9a6ebc62",
   "metadata": {},
   "outputs": [],
   "source": []
  },
  {
   "cell_type": "code",
   "execution_count": null,
   "id": "9625bbf3-b660-429f-926e-dd5254f04963",
   "metadata": {},
   "outputs": [],
   "source": []
  }
 ],
 "metadata": {
  "kernelspec": {
   "display_name": "Python 3 (ipykernel)",
   "language": "python",
   "name": "python3"
  },
  "language_info": {
   "codemirror_mode": {
    "name": "ipython",
    "version": 3
   },
   "file_extension": ".py",
   "mimetype": "text/x-python",
   "name": "python",
   "nbconvert_exporter": "python",
   "pygments_lexer": "ipython3",
   "version": "3.9.6"
  }
 },
 "nbformat": 4,
 "nbformat_minor": 5
}

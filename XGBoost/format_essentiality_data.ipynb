{
 "cells": [
  {
   "cell_type": "code",
   "execution_count": 50,
   "id": "52178836-ff20-4022-9cfe-0bed4a85e98d",
   "metadata": {},
   "outputs": [],
   "source": [
    "import pandas as pd\n",
    "import numpy as np\n",
    "import xgboost as xgb\n",
    "from sklearn.model_selection import train_test_split\n",
    "from sklearn.metrics import balanced_accuracy_score, roc_auc_score, make_scorer\n",
    "from sklearn.model_selection import GridSearchCV\n",
    "from sklearn.metrics import confusion_matrix, ConfusionMatrixDisplay\n",
    "from sklearn.metrics import plot_confusion_matrix\n"
   ]
  },
  {
   "cell_type": "code",
   "execution_count": 42,
   "id": "abfea35e-ce13-41d8-a316-fecf7a378c97",
   "metadata": {},
   "outputs": [],
   "source": [
    "# get the BioGRID_ID_Interactor_A and BioGRID_ID_Interactor_B, combine and create a new csv with them and their \n",
    "#      Official_Symbol_Interactor_A Official_Symbol_Interactor_B\n",
    "\n",
    "# add the essentiality data to the csv according to Official_Symbol_Interactor_A & Official_Symbol_Interactor_B\n",
    "# create y, add the essentiality data according to the order of the Protein_ID on ppiemb.csv "
   ]
  },
  {
   "cell_type": "code",
   "execution_count": 51,
   "id": "06afb31b-4581-476d-abed-e2475ba811af",
   "metadata": {},
   "outputs": [
    {
     "data": {
      "text/html": [
       "<div>\n",
       "<style scoped>\n",
       "    .dataframe tbody tr th:only-of-type {\n",
       "        vertical-align: middle;\n",
       "    }\n",
       "\n",
       "    .dataframe tbody tr th {\n",
       "        vertical-align: top;\n",
       "    }\n",
       "\n",
       "    .dataframe thead th {\n",
       "        text-align: right;\n",
       "    }\n",
       "</style>\n",
       "<table border=\"1\" class=\"dataframe\">\n",
       "  <thead>\n",
       "    <tr style=\"text-align: right;\">\n",
       "      <th></th>\n",
       "      <th>BioGRID ID Interactor A</th>\n",
       "      <th>Systematic Name Interactor A</th>\n",
       "    </tr>\n",
       "  </thead>\n",
       "  <tbody>\n",
       "    <tr>\n",
       "      <th>0</th>\n",
       "      <td>31676</td>\n",
       "      <td>YLR418C</td>\n",
       "    </tr>\n",
       "    <tr>\n",
       "      <th>1</th>\n",
       "      <td>34272</td>\n",
       "      <td>YOL145C</td>\n",
       "    </tr>\n",
       "    <tr>\n",
       "      <th>2</th>\n",
       "      <td>31676</td>\n",
       "      <td>YLR418C</td>\n",
       "    </tr>\n",
       "    <tr>\n",
       "      <th>3</th>\n",
       "      <td>34518</td>\n",
       "      <td>YOR123C</td>\n",
       "    </tr>\n",
       "    <tr>\n",
       "      <th>4</th>\n",
       "      <td>31676</td>\n",
       "      <td>YLR418C</td>\n",
       "    </tr>\n",
       "  </tbody>\n",
       "</table>\n",
       "</div>"
      ],
      "text/plain": [
       "   BioGRID ID Interactor A Systematic Name Interactor A\n",
       "0                    31676                      YLR418C\n",
       "1                    34272                      YOL145C\n",
       "2                    31676                      YLR418C\n",
       "3                    34518                      YOR123C\n",
       "4                    31676                      YLR418C"
      ]
     },
     "execution_count": 51,
     "metadata": {},
     "output_type": "execute_result"
    }
   ],
   "source": [
    "# ids_df =  pd.read_csv(\"BIOGRID-ORGANISM-Saccharomyces_cerevisiae.csv\", usecols= ['BioGRID ID Interactor A', 'BioGRID ID Interactor B', 'Systematic Name Interactor A', 'Systematic Name Interactor B' ]) \n",
    "a_ids_df =  pd.read_csv(\"BIOGRID-ORGANISM-Saccharomyces_cerevisiae.csv\", usecols= ['BioGRID ID Interactor A', 'Systematic Name Interactor A']) \n",
    "b_ids_df =  pd.read_csv(\"BIOGRID-ORGANISM-Saccharomyces_cerevisiae.csv\", usecols= ['BioGRID ID Interactor B', 'Systematic Name Interactor B']) \n",
    "\n",
    "a_ids_df.head()"
   ]
  },
  {
   "cell_type": "code",
   "execution_count": 52,
   "id": "09ae4514-aae9-4020-b47f-424ed86d1adc",
   "metadata": {},
   "outputs": [
    {
     "data": {
      "text/html": [
       "<div>\n",
       "<style scoped>\n",
       "    .dataframe tbody tr th:only-of-type {\n",
       "        vertical-align: middle;\n",
       "    }\n",
       "\n",
       "    .dataframe tbody tr th {\n",
       "        vertical-align: top;\n",
       "    }\n",
       "\n",
       "    .dataframe thead th {\n",
       "        text-align: right;\n",
       "    }\n",
       "</style>\n",
       "<table border=\"1\" class=\"dataframe\">\n",
       "  <thead>\n",
       "    <tr style=\"text-align: right;\">\n",
       "      <th></th>\n",
       "      <th>BioGRID ID Interactor B</th>\n",
       "      <th>Systematic Name Interactor B</th>\n",
       "    </tr>\n",
       "  </thead>\n",
       "  <tbody>\n",
       "    <tr>\n",
       "      <th>0</th>\n",
       "      <td>34272</td>\n",
       "      <td>YOL145C</td>\n",
       "    </tr>\n",
       "    <tr>\n",
       "      <th>1</th>\n",
       "      <td>31676</td>\n",
       "      <td>YLR418C</td>\n",
       "    </tr>\n",
       "    <tr>\n",
       "      <th>2</th>\n",
       "      <td>34518</td>\n",
       "      <td>YOR123C</td>\n",
       "    </tr>\n",
       "    <tr>\n",
       "      <th>3</th>\n",
       "      <td>31676</td>\n",
       "      <td>YLR418C</td>\n",
       "    </tr>\n",
       "    <tr>\n",
       "      <th>4</th>\n",
       "      <td>32973</td>\n",
       "      <td>YBR279W</td>\n",
       "    </tr>\n",
       "  </tbody>\n",
       "</table>\n",
       "</div>"
      ],
      "text/plain": [
       "   BioGRID ID Interactor B Systematic Name Interactor B\n",
       "0                    34272                      YOL145C\n",
       "1                    31676                      YLR418C\n",
       "2                    34518                      YOR123C\n",
       "3                    31676                      YLR418C\n",
       "4                    32973                      YBR279W"
      ]
     },
     "execution_count": 52,
     "metadata": {},
     "output_type": "execute_result"
    }
   ],
   "source": [
    "b_ids_df.head()"
   ]
  },
  {
   "cell_type": "code",
   "execution_count": 53,
   "id": "9cb568eb-c346-44c2-a4ac-8072a1b91bae",
   "metadata": {},
   "outputs": [
    {
     "data": {
      "text/plain": [
       "BioGRID ID Interactor A         783485\n",
       "Systematic Name Interactor A    783485\n",
       "dtype: int64"
      ]
     },
     "execution_count": 53,
     "metadata": {},
     "output_type": "execute_result"
    }
   ],
   "source": [
    "a_ids_df.count()"
   ]
  },
  {
   "cell_type": "code",
   "execution_count": 54,
   "id": "c5eafa93-45f1-45e2-84f3-52dbe206ebd8",
   "metadata": {},
   "outputs": [
    {
     "data": {
      "text/plain": [
       "BioGRID ID Interactor B         783485\n",
       "Systematic Name Interactor B    783485\n",
       "dtype: int64"
      ]
     },
     "execution_count": 54,
     "metadata": {},
     "output_type": "execute_result"
    }
   ],
   "source": [
    "b_ids_df.count()\n",
    "b_ids_df.drop_duplicates"
   ]
  },
  {
   "cell_type": "code",
   "execution_count": null,
   "id": "fe801859-c9de-49de-b827-50429fafa2d9",
   "metadata": {},
   "outputs": [],
   "source": []
  },
  {
   "cell_type": "code",
   "execution_count": 55,
   "id": "e5b95d1d-3b72-49a7-8518-f60d92ed01c8",
   "metadata": {},
   "outputs": [
    {
     "data": {
      "text/html": [
       "<div>\n",
       "<style scoped>\n",
       "    .dataframe tbody tr th:only-of-type {\n",
       "        vertical-align: middle;\n",
       "    }\n",
       "\n",
       "    .dataframe tbody tr th {\n",
       "        vertical-align: top;\n",
       "    }\n",
       "\n",
       "    .dataframe thead th {\n",
       "        text-align: right;\n",
       "    }\n",
       "</style>\n",
       "<table border=\"1\" class=\"dataframe\">\n",
       "  <thead>\n",
       "    <tr style=\"text-align: right;\">\n",
       "      <th></th>\n",
       "      <th>Protein_ID</th>\n",
       "    </tr>\n",
       "  </thead>\n",
       "  <tbody>\n",
       "    <tr>\n",
       "      <th>0</th>\n",
       "      <td>33604</td>\n",
       "    </tr>\n",
       "    <tr>\n",
       "      <th>1</th>\n",
       "      <td>32517</td>\n",
       "    </tr>\n",
       "    <tr>\n",
       "      <th>2</th>\n",
       "      <td>33032</td>\n",
       "    </tr>\n",
       "    <tr>\n",
       "      <th>3</th>\n",
       "      <td>32122</td>\n",
       "    </tr>\n",
       "    <tr>\n",
       "      <th>4</th>\n",
       "      <td>31903</td>\n",
       "    </tr>\n",
       "  </tbody>\n",
       "</table>\n",
       "</div>"
      ],
      "text/plain": [
       "   Protein_ID\n",
       "0       33604\n",
       "1       32517\n",
       "2       33032\n",
       "3       32122\n",
       "4       31903"
      ]
     },
     "execution_count": 55,
     "metadata": {},
     "output_type": "execute_result"
    }
   ],
   "source": [
    "ids_emb_df = pd.read_csv(\"ppiemb.csv\", usecols=[\"Protein_ID\"])\n",
    "ids_emb_df.head()"
   ]
  },
  {
   "cell_type": "code",
   "execution_count": 74,
   "id": "8dc2d778-6106-497e-8fb0-bece1637e8cd",
   "metadata": {},
   "outputs": [
    {
     "data": {
      "text/html": [
       "<div>\n",
       "<style scoped>\n",
       "    .dataframe tbody tr th:only-of-type {\n",
       "        vertical-align: middle;\n",
       "    }\n",
       "\n",
       "    .dataframe tbody tr th {\n",
       "        vertical-align: top;\n",
       "    }\n",
       "\n",
       "    .dataframe thead th {\n",
       "        text-align: right;\n",
       "    }\n",
       "</style>\n",
       "<table border=\"1\" class=\"dataframe\">\n",
       "  <thead>\n",
       "    <tr style=\"text-align: right;\">\n",
       "      <th></th>\n",
       "      <th>Protein_ID</th>\n",
       "      <th>Systematic Name Interactor A</th>\n",
       "      <th>Systematic Name Interactor B</th>\n",
       "    </tr>\n",
       "  </thead>\n",
       "  <tbody>\n",
       "    <tr>\n",
       "      <th>0</th>\n",
       "      <td>31676</td>\n",
       "      <td>YLR418C</td>\n",
       "      <td>YLR418C</td>\n",
       "    </tr>\n",
       "    <tr>\n",
       "      <th>1</th>\n",
       "      <td>31676</td>\n",
       "      <td>YLR418C</td>\n",
       "      <td>YLR418C</td>\n",
       "    </tr>\n",
       "    <tr>\n",
       "      <th>2</th>\n",
       "      <td>31676</td>\n",
       "      <td>YLR418C</td>\n",
       "      <td>YLR418C</td>\n",
       "    </tr>\n",
       "    <tr>\n",
       "      <th>3</th>\n",
       "      <td>31676</td>\n",
       "      <td>YLR418C</td>\n",
       "      <td>YLR418C</td>\n",
       "    </tr>\n",
       "    <tr>\n",
       "      <th>4</th>\n",
       "      <td>31676</td>\n",
       "      <td>YLR418C</td>\n",
       "      <td>YLR418C</td>\n",
       "    </tr>\n",
       "  </tbody>\n",
       "</table>\n",
       "</div>"
      ],
      "text/plain": [
       "   Protein_ID Systematic Name Interactor A Systematic Name Interactor B\n",
       "0       31676                      YLR418C                      YLR418C\n",
       "1       31676                      YLR418C                      YLR418C\n",
       "2       31676                      YLR418C                      YLR418C\n",
       "3       31676                      YLR418C                      YLR418C\n",
       "4       31676                      YLR418C                      YLR418C"
      ]
     },
     "execution_count": 74,
     "metadata": {},
     "output_type": "execute_result"
    }
   ],
   "source": [
    "a_ids_df = a_ids_df.rename(columns = {'BioGRID ID Interactor A':'Protein_ID'})\n",
    "b_ids_df = b_ids_df.rename(columns = {'BioGRID ID Interactor B':'Protein_ID'})\n",
    "\n",
    "interactors_df = pd.merge(a_ids_df, b_ids_df, on=['Protein_ID'], how='inner')\n",
    "interactors_df.head()\n",
    "\n"
   ]
  },
  {
   "cell_type": "code",
   "execution_count": 75,
   "id": "d8e56258-f634-411c-9f97-1b366f03985a",
   "metadata": {},
   "outputs": [
    {
     "data": {
      "text/html": [
       "<div>\n",
       "<style scoped>\n",
       "    .dataframe tbody tr th:only-of-type {\n",
       "        vertical-align: middle;\n",
       "    }\n",
       "\n",
       "    .dataframe tbody tr th {\n",
       "        vertical-align: top;\n",
       "    }\n",
       "\n",
       "    .dataframe thead th {\n",
       "        text-align: right;\n",
       "    }\n",
       "</style>\n",
       "<table border=\"1\" class=\"dataframe\">\n",
       "  <thead>\n",
       "    <tr style=\"text-align: right;\">\n",
       "      <th></th>\n",
       "      <th>Protein_ID</th>\n",
       "      <th>Official_Symbol_Interactor</th>\n",
       "    </tr>\n",
       "  </thead>\n",
       "  <tbody>\n",
       "    <tr>\n",
       "      <th>0</th>\n",
       "      <td>31676</td>\n",
       "      <td>YLR418C</td>\n",
       "    </tr>\n",
       "    <tr>\n",
       "      <th>1</th>\n",
       "      <td>31676</td>\n",
       "      <td>YLR418C</td>\n",
       "    </tr>\n",
       "    <tr>\n",
       "      <th>2</th>\n",
       "      <td>31676</td>\n",
       "      <td>YLR418C</td>\n",
       "    </tr>\n",
       "    <tr>\n",
       "      <th>3</th>\n",
       "      <td>31676</td>\n",
       "      <td>YLR418C</td>\n",
       "    </tr>\n",
       "    <tr>\n",
       "      <th>4</th>\n",
       "      <td>31676</td>\n",
       "      <td>YLR418C</td>\n",
       "    </tr>\n",
       "  </tbody>\n",
       "</table>\n",
       "</div>"
      ],
      "text/plain": [
       "   Protein_ID Official_Symbol_Interactor\n",
       "0       31676                    YLR418C\n",
       "1       31676                    YLR418C\n",
       "2       31676                    YLR418C\n",
       "3       31676                    YLR418C\n",
       "4       31676                    YLR418C"
      ]
     },
     "execution_count": 75,
     "metadata": {},
     "output_type": "execute_result"
    }
   ],
   "source": [
    "interactors_df.drop(['Systematic Name Interactor B'], axis=1, inplace=True)\n",
    "interactors_df = interactors_df.rename(columns = {'Systematic Name Interactor A':'Official_Symbol_Interactor'})\n",
    "interactors_df.head()"
   ]
  },
  {
   "cell_type": "code",
   "execution_count": 68,
   "id": "d31ae39b-ef96-4f98-ae66-118b4480544b",
   "metadata": {},
   "outputs": [
    {
     "data": {
      "text/plain": [
       "Protein_ID                    5756\n",
       "Official_Symbol_Interactor    5756\n",
       "dtype: int64"
      ]
     },
     "execution_count": 68,
     "metadata": {},
     "output_type": "execute_result"
    }
   ],
   "source": [
    "interactors_df['Protein_ID'].unique()\n",
    "interactors_df.count()"
   ]
  },
  {
   "cell_type": "code",
   "execution_count": 31,
   "id": "7f258336-00f6-485d-b026-4c510a6ab4eb",
   "metadata": {},
   "outputs": [
    {
     "data": {
      "text/html": [
       "<div>\n",
       "<style scoped>\n",
       "    .dataframe tbody tr th:only-of-type {\n",
       "        vertical-align: middle;\n",
       "    }\n",
       "\n",
       "    .dataframe tbody tr th {\n",
       "        vertical-align: top;\n",
       "    }\n",
       "\n",
       "    .dataframe thead th {\n",
       "        text-align: right;\n",
       "    }\n",
       "</style>\n",
       "<table border=\"1\" class=\"dataframe\">\n",
       "  <thead>\n",
       "    <tr style=\"text-align: right;\">\n",
       "      <th></th>\n",
       "      <th>Protein_ID</th>\n",
       "    </tr>\n",
       "  </thead>\n",
       "  <tbody>\n",
       "    <tr>\n",
       "      <th>0</th>\n",
       "      <td>33604</td>\n",
       "    </tr>\n",
       "    <tr>\n",
       "      <th>1</th>\n",
       "      <td>32517</td>\n",
       "    </tr>\n",
       "    <tr>\n",
       "      <th>2</th>\n",
       "      <td>33032</td>\n",
       "    </tr>\n",
       "    <tr>\n",
       "      <th>3</th>\n",
       "      <td>32122</td>\n",
       "    </tr>\n",
       "    <tr>\n",
       "      <th>4</th>\n",
       "      <td>31903</td>\n",
       "    </tr>\n",
       "  </tbody>\n",
       "</table>\n",
       "</div>"
      ],
      "text/plain": [
       "   Protein_ID\n",
       "0       33604\n",
       "1       32517\n",
       "2       33032\n",
       "3       32122\n",
       "4       31903"
      ]
     },
     "execution_count": 31,
     "metadata": {},
     "output_type": "execute_result"
    }
   ],
   "source": [
    "ids_emb_df.head()"
   ]
  },
  {
   "cell_type": "code",
   "execution_count": 69,
   "id": "726c3ef0-ddd6-40e8-b58a-a2a02d28e055",
   "metadata": {},
   "outputs": [
    {
     "data": {
      "text/plain": [
       "Protein_ID    7349\n",
       "dtype: int64"
      ]
     },
     "execution_count": 69,
     "metadata": {},
     "output_type": "execute_result"
    }
   ],
   "source": [
    "ids_emb_df.count()"
   ]
  },
  {
   "cell_type": "code",
   "execution_count": 72,
   "id": "e204e40f-6027-4041-bf68-9207b5db2b9d",
   "metadata": {},
   "outputs": [
    {
     "data": {
      "text/plain": [
       "array([  33604,   32517,   33032, ..., 1258635,  276279,   31678],\n",
       "      dtype=int64)"
      ]
     },
     "execution_count": 72,
     "metadata": {},
     "output_type": "execute_result"
    }
   ],
   "source": [
    "ids_emb_df['Protein_ID'].unique()"
   ]
  },
  {
   "cell_type": "code",
   "execution_count": 73,
   "id": "215c297b-790c-4247-85cf-6cb6d1b77b08",
   "metadata": {},
   "outputs": [
    {
     "data": {
      "text/plain": [
       "Protein_ID    7349\n",
       "dtype: int64"
      ]
     },
     "execution_count": 73,
     "metadata": {},
     "output_type": "execute_result"
    }
   ],
   "source": [
    "ids_emb_df.drop_duplicates()\n",
    "ids_emb_df.count()"
   ]
  },
  {
   "cell_type": "code",
   "execution_count": 39,
   "id": "1420788e-038f-4b1d-b034-fc49062ea9fd",
   "metadata": {},
   "outputs": [
    {
     "data": {
      "text/html": [
       "<div>\n",
       "<style scoped>\n",
       "    .dataframe tbody tr th:only-of-type {\n",
       "        vertical-align: middle;\n",
       "    }\n",
       "\n",
       "    .dataframe tbody tr th {\n",
       "        vertical-align: top;\n",
       "    }\n",
       "\n",
       "    .dataframe thead th {\n",
       "        text-align: right;\n",
       "    }\n",
       "</style>\n",
       "<table border=\"1\" class=\"dataframe\">\n",
       "  <thead>\n",
       "    <tr style=\"text-align: right;\">\n",
       "      <th></th>\n",
       "      <th>Protein_ID</th>\n",
       "      <th>Systematic Name Interactor A</th>\n",
       "      <th>Systematic Name Interactor B</th>\n",
       "    </tr>\n",
       "  </thead>\n",
       "  <tbody>\n",
       "    <tr>\n",
       "      <th>0</th>\n",
       "      <td>31676</td>\n",
       "      <td>YLR418C</td>\n",
       "      <td>YLR418C</td>\n",
       "    </tr>\n",
       "    <tr>\n",
       "      <th>1</th>\n",
       "      <td>34272</td>\n",
       "      <td>YOL145C</td>\n",
       "      <td>YOL145C</td>\n",
       "    </tr>\n",
       "    <tr>\n",
       "      <th>2</th>\n",
       "      <td>34518</td>\n",
       "      <td>YOR123C</td>\n",
       "      <td>YOR123C</td>\n",
       "    </tr>\n",
       "    <tr>\n",
       "      <th>3</th>\n",
       "      <td>32973</td>\n",
       "      <td>YBR279W</td>\n",
       "      <td>YBR279W</td>\n",
       "    </tr>\n",
       "    <tr>\n",
       "      <th>4</th>\n",
       "      <td>35097</td>\n",
       "      <td>YML069W</td>\n",
       "      <td>YML069W</td>\n",
       "    </tr>\n",
       "  </tbody>\n",
       "</table>\n",
       "</div>"
      ],
      "text/plain": [
       "   Protein_ID Systematic Name Interactor A Systematic Name Interactor B\n",
       "0       31676                      YLR418C                      YLR418C\n",
       "1       34272                      YOL145C                      YOL145C\n",
       "2       34518                      YOR123C                      YOR123C\n",
       "3       32973                      YBR279W                      YBR279W\n",
       "4       35097                      YML069W                      YML069W"
      ]
     },
     "execution_count": 39,
     "metadata": {},
     "output_type": "execute_result"
    }
   ],
   "source": [
    "# interactors_df = pd.merge(a_interactors_df, b_interactors_df, on=['Protein_ID'], how='inner').drop_duplicates()\n",
    "\n",
    "interactors_df = pd.merge(a_interactors_df, b_interactors_df, on=['Protein_ID'], how='inner')\n",
    "\n",
    "interactors_df.head()"
   ]
  },
  {
   "cell_type": "code",
   "execution_count": 40,
   "id": "49b80da7-6a47-4a39-b444-9851cc175508",
   "metadata": {},
   "outputs": [
    {
     "data": {
      "text/plain": [
       "Protein_ID                      5756\n",
       "Systematic Name Interactor A    5756\n",
       "Systematic Name Interactor B    5756\n",
       "dtype: int64"
      ]
     },
     "execution_count": 40,
     "metadata": {},
     "output_type": "execute_result"
    }
   ],
   "source": [
    "interactors_df.count()"
   ]
  },
  {
   "cell_type": "code",
   "execution_count": null,
   "id": "5ee93ad2-0f26-4235-8292-84afb5f400bd",
   "metadata": {},
   "outputs": [],
   "source": []
  },
  {
   "cell_type": "code",
   "execution_count": 56,
   "id": "2cb1c191-2c60-4d46-aab5-4078c3f44d9f",
   "metadata": {},
   "outputs": [],
   "source": [
    "# get the Official_Symbol_Interactor on esn amd match it with the Official Symbol Interactor A & Official Symbol Interactor B from ppiemb\n",
    "\n",
    "# DF[DF['ALPHABET'].apply(lambda set: any(s in set for s in strings_list))]\n"
   ]
  },
  {
   "cell_type": "code",
   "execution_count": null,
   "id": "1584af6c-8f97-4cd8-a545-7120f9e7b49c",
   "metadata": {},
   "outputs": [],
   "source": []
  }
 ],
 "metadata": {
  "kernelspec": {
   "display_name": "Python 3 (ipykernel)",
   "language": "python",
   "name": "python3"
  },
  "language_info": {
   "codemirror_mode": {
    "name": "ipython",
    "version": 3
   },
   "file_extension": ".py",
   "mimetype": "text/x-python",
   "name": "python",
   "nbconvert_exporter": "python",
   "pygments_lexer": "ipython3",
   "version": "3.9.6"
  }
 },
 "nbformat": 4,
 "nbformat_minor": 5
}

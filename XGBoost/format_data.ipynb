{
 "cells": [
  {
   "cell_type": "code",
   "execution_count": 2,
   "id": "36ccbeec-ef98-420c-b87a-93158c223593",
   "metadata": {},
   "outputs": [],
   "source": [
    "import pandas as pd\n",
    "import numpy as np\n",
    "import xgboost as xgb\n",
    "from sklearn.model_selection import train_test_split\n",
    "from sklearn.metrics import balanced_accuracy_score, roc_auc_score, make_scorer\n",
    "from sklearn.model_selection import GridSearchCV\n",
    "from sklearn.metrics import confusion_matrix, ConfusionMatrixDisplay\n",
    "from sklearn.metrics import plot_confusion_matrix\n"
   ]
  },
  {
   "cell_type": "code",
   "execution_count": 3,
   "id": "c93461d1-af37-4c52-9055-1775a7e5065a",
   "metadata": {},
   "outputs": [
    {
     "name": "stderr",
     "output_type": "stream",
     "text": [
      "C:\\Users\\Burcu\\AppData\\Roaming\\Python\\Python39\\site-packages\\IPython\\core\\interactiveshell.py:3444: DtypeWarning: Columns (1,2,18) have mixed types.Specify dtype option on import or set low_memory=False.\n",
      "  exec(code_obj, self.user_global_ns, self.user_ns)\n"
     ]
    }
   ],
   "source": [
    "bg_df = pd.read_csv('BIOGRID-ORGANISM-Saccharomyces_cerevisiae.csv')\n",
    "bg_genes_df = pd.read_csv('BIOGRID-ORGANISM-Saccharomyces_cerevisiae.csv' , usecols = ['Official Symbol Interactor A','Official Symbol Interactor B'])\n",
    "ess_df = pd.read_csv('scerevisiae_essentiality.csv')"
   ]
  },
  {
   "cell_type": "code",
   "execution_count": 4,
   "id": "ed8d116e-f47e-465b-bc86-73f4063e559e",
   "metadata": {},
   "outputs": [
    {
     "data": {
      "text/html": [
       "<div>\n",
       "<style scoped>\n",
       "    .dataframe tbody tr th:only-of-type {\n",
       "        vertical-align: middle;\n",
       "    }\n",
       "\n",
       "    .dataframe tbody tr th {\n",
       "        vertical-align: top;\n",
       "    }\n",
       "\n",
       "    .dataframe thead th {\n",
       "        text-align: right;\n",
       "    }\n",
       "</style>\n",
       "<table border=\"1\" class=\"dataframe\">\n",
       "  <thead>\n",
       "    <tr style=\"text-align: right;\">\n",
       "      <th></th>\n",
       "      <th>Official Symbol Interactor A</th>\n",
       "      <th>Official Symbol Interactor B</th>\n",
       "    </tr>\n",
       "  </thead>\n",
       "  <tbody>\n",
       "    <tr>\n",
       "      <th>0</th>\n",
       "      <td>CDC73</td>\n",
       "      <td>CTR9</td>\n",
       "    </tr>\n",
       "    <tr>\n",
       "      <th>1</th>\n",
       "      <td>CTR9</td>\n",
       "      <td>CDC73</td>\n",
       "    </tr>\n",
       "    <tr>\n",
       "      <th>2</th>\n",
       "      <td>CDC73</td>\n",
       "      <td>LEO1</td>\n",
       "    </tr>\n",
       "    <tr>\n",
       "      <th>3</th>\n",
       "      <td>LEO1</td>\n",
       "      <td>CDC73</td>\n",
       "    </tr>\n",
       "    <tr>\n",
       "      <th>4</th>\n",
       "      <td>CDC73</td>\n",
       "      <td>PAF1</td>\n",
       "    </tr>\n",
       "  </tbody>\n",
       "</table>\n",
       "</div>"
      ],
      "text/plain": [
       "  Official Symbol Interactor A Official Symbol Interactor B\n",
       "0                        CDC73                         CTR9\n",
       "1                         CTR9                        CDC73\n",
       "2                        CDC73                         LEO1\n",
       "3                         LEO1                        CDC73\n",
       "4                        CDC73                         PAF1"
      ]
     },
     "execution_count": 4,
     "metadata": {},
     "output_type": "execute_result"
    }
   ],
   "source": [
    " #  bg_df.head()\n",
    "bg_genes_df.head()"
   ]
  },
  {
   "cell_type": "code",
   "execution_count": 5,
   "id": "8403f00a-1f0c-4d65-ad2f-8fdc5b57d790",
   "metadata": {},
   "outputs": [
    {
     "data": {
      "text/html": [
       "<div>\n",
       "<style scoped>\n",
       "    .dataframe tbody tr th:only-of-type {\n",
       "        vertical-align: middle;\n",
       "    }\n",
       "\n",
       "    .dataframe tbody tr th {\n",
       "        vertical-align: top;\n",
       "    }\n",
       "\n",
       "    .dataframe thead th {\n",
       "        text-align: right;\n",
       "    }\n",
       "</style>\n",
       "<table border=\"1\" class=\"dataframe\">\n",
       "  <thead>\n",
       "    <tr style=\"text-align: right;\">\n",
       "      <th></th>\n",
       "      <th>Official_Symbol_Interactor</th>\n",
       "      <th>Score</th>\n",
       "      <th>Essentiality</th>\n",
       "    </tr>\n",
       "  </thead>\n",
       "  <tbody>\n",
       "    <tr>\n",
       "      <th>0</th>\n",
       "      <td>MED6</td>\n",
       "      <td>0.36</td>\n",
       "      <td>C</td>\n",
       "    </tr>\n",
       "    <tr>\n",
       "      <th>1</th>\n",
       "      <td>SMC2</td>\n",
       "      <td>0.36</td>\n",
       "      <td>C</td>\n",
       "    </tr>\n",
       "    <tr>\n",
       "      <th>2</th>\n",
       "      <td>MED8</td>\n",
       "      <td>0.00</td>\n",
       "      <td>NE</td>\n",
       "    </tr>\n",
       "    <tr>\n",
       "      <th>3</th>\n",
       "      <td>MED4</td>\n",
       "      <td>0.00</td>\n",
       "      <td>NE</td>\n",
       "    </tr>\n",
       "    <tr>\n",
       "      <th>4</th>\n",
       "      <td>MED11</td>\n",
       "      <td>1.00</td>\n",
       "      <td>E</td>\n",
       "    </tr>\n",
       "  </tbody>\n",
       "</table>\n",
       "</div>"
      ],
      "text/plain": [
       "  Official_Symbol_Interactor  Score Essentiality\n",
       "0                       MED6   0.36            C\n",
       "1                       SMC2   0.36            C\n",
       "2                       MED8   0.00           NE\n",
       "3                       MED4   0.00           NE\n",
       "4                      MED11   1.00            E"
      ]
     },
     "execution_count": 5,
     "metadata": {},
     "output_type": "execute_result"
    }
   ],
   "source": [
    "#bg_df.drop(['Synonyms Interactor A', 'Synonyms Interactor B', 'Experimental System',\n",
    "#         'Experimental System Type', 'Author', 'Publication Source', 'Throughput',\n",
    "#         'Modification', 'Qualifications', 'Tags', 'Source Database', 'Ontology Term Names',\n",
    "#         'Ontology Term Categories', 'Ontology Term Qualifier IDs', 'Ontology Term Qualifier Names',\n",
    "#         'Ontology Term Types', ], \n",
    "#          axis=1, \n",
    "#          inplace=True)\n",
    "ess_df.head()"
   ]
  },
  {
   "cell_type": "code",
   "execution_count": 6,
   "id": "d87445b4-9ef6-4d42-947c-8e5e29f90231",
   "metadata": {},
   "outputs": [
    {
     "data": {
      "text/plain": [
       "Official_Symbol_Interactor     object\n",
       "Score                         float64\n",
       "Essentiality                   object\n",
       "dtype: object"
      ]
     },
     "execution_count": 6,
     "metadata": {},
     "output_type": "execute_result"
    }
   ],
   "source": [
    "# bg_df.head()\n",
    "# ess_df.loc[ess_df['Essentiality'] == -1, 'Essentiality'] = 'C'\n",
    "# ess_df.loc[ess_df['Essentiality'] == 'NE', 'Essentiality'] = 'NE'\n",
    "# ess_df.loc[ess_df['Essentiality'] == 'E', 'Essentiality'] = 'E'\n",
    "ess_df.dtypes"
   ]
  },
  {
   "cell_type": "code",
   "execution_count": 7,
   "id": "b943dab9-2386-436b-8f97-2a17c4f43fdc",
   "metadata": {},
   "outputs": [
    {
     "data": {
      "text/html": [
       "<div>\n",
       "<style scoped>\n",
       "    .dataframe tbody tr th:only-of-type {\n",
       "        vertical-align: middle;\n",
       "    }\n",
       "\n",
       "    .dataframe tbody tr th {\n",
       "        vertical-align: top;\n",
       "    }\n",
       "\n",
       "    .dataframe thead th {\n",
       "        text-align: right;\n",
       "    }\n",
       "</style>\n",
       "<table border=\"1\" class=\"dataframe\">\n",
       "  <thead>\n",
       "    <tr style=\"text-align: right;\">\n",
       "      <th></th>\n",
       "      <th>Official_Symbol_Interactor</th>\n",
       "      <th>Score</th>\n",
       "      <th>Essentiality</th>\n",
       "    </tr>\n",
       "  </thead>\n",
       "  <tbody>\n",
       "    <tr>\n",
       "      <th>0</th>\n",
       "      <td>MED6</td>\n",
       "      <td>0.36</td>\n",
       "      <td>C</td>\n",
       "    </tr>\n",
       "    <tr>\n",
       "      <th>1</th>\n",
       "      <td>SMC2</td>\n",
       "      <td>0.36</td>\n",
       "      <td>C</td>\n",
       "    </tr>\n",
       "    <tr>\n",
       "      <th>2</th>\n",
       "      <td>MED8</td>\n",
       "      <td>0.00</td>\n",
       "      <td>NE</td>\n",
       "    </tr>\n",
       "    <tr>\n",
       "      <th>3</th>\n",
       "      <td>MED4</td>\n",
       "      <td>0.00</td>\n",
       "      <td>NE</td>\n",
       "    </tr>\n",
       "    <tr>\n",
       "      <th>4</th>\n",
       "      <td>MED11</td>\n",
       "      <td>1.00</td>\n",
       "      <td>E</td>\n",
       "    </tr>\n",
       "  </tbody>\n",
       "</table>\n",
       "</div>"
      ],
      "text/plain": [
       "  Official_Symbol_Interactor  Score Essentiality\n",
       "0                       MED6   0.36            C\n",
       "1                       SMC2   0.36            C\n",
       "2                       MED8   0.00           NE\n",
       "3                       MED4   0.00           NE\n",
       "4                      MED11   1.00            E"
      ]
     },
     "execution_count": 7,
     "metadata": {},
     "output_type": "execute_result"
    }
   ],
   "source": [
    "ess_df.head()"
   ]
  },
  {
   "cell_type": "code",
   "execution_count": 8,
   "id": "aaade9b8-7153-4f2a-8915-ea7bd35146fa",
   "metadata": {},
   "outputs": [
    {
     "data": {
      "text/html": [
       "<div>\n",
       "<style scoped>\n",
       "    .dataframe tbody tr th:only-of-type {\n",
       "        vertical-align: middle;\n",
       "    }\n",
       "\n",
       "    .dataframe tbody tr th {\n",
       "        vertical-align: top;\n",
       "    }\n",
       "\n",
       "    .dataframe thead th {\n",
       "        text-align: right;\n",
       "    }\n",
       "</style>\n",
       "<table border=\"1\" class=\"dataframe\">\n",
       "  <thead>\n",
       "    <tr style=\"text-align: right;\">\n",
       "      <th></th>\n",
       "      <th>Official Symbol Interactor A</th>\n",
       "      <th>Official Symbol Interactor B</th>\n",
       "    </tr>\n",
       "  </thead>\n",
       "  <tbody>\n",
       "    <tr>\n",
       "      <th>0</th>\n",
       "      <td>CDC73</td>\n",
       "      <td>CTR9</td>\n",
       "    </tr>\n",
       "    <tr>\n",
       "      <th>1</th>\n",
       "      <td>CTR9</td>\n",
       "      <td>CDC73</td>\n",
       "    </tr>\n",
       "    <tr>\n",
       "      <th>2</th>\n",
       "      <td>CDC73</td>\n",
       "      <td>LEO1</td>\n",
       "    </tr>\n",
       "    <tr>\n",
       "      <th>3</th>\n",
       "      <td>LEO1</td>\n",
       "      <td>CDC73</td>\n",
       "    </tr>\n",
       "    <tr>\n",
       "      <th>4</th>\n",
       "      <td>CDC73</td>\n",
       "      <td>PAF1</td>\n",
       "    </tr>\n",
       "  </tbody>\n",
       "</table>\n",
       "</div>"
      ],
      "text/plain": [
       "  Official Symbol Interactor A Official Symbol Interactor B\n",
       "0                        CDC73                         CTR9\n",
       "1                         CTR9                        CDC73\n",
       "2                        CDC73                         LEO1\n",
       "3                         LEO1                        CDC73\n",
       "4                        CDC73                         PAF1"
      ]
     },
     "execution_count": 8,
     "metadata": {},
     "output_type": "execute_result"
    }
   ],
   "source": [
    "bg_genes_df.dtypes\n",
    "bg_genes_df.head()"
   ]
  },
  {
   "cell_type": "code",
   "execution_count": 9,
   "id": "1832458b-66e1-437c-9363-be5eda74a310",
   "metadata": {},
   "outputs": [],
   "source": [
    "# iseq = ess_df['Official_Symbol_Interactor'] == csv2['Official Symbol Interactor A']\n",
    "# csv3 = pd.DataFrame(csv2[iseq])\n",
    "# ess_col = ess_df['Official_Symbol_Interactor']\n",
    "# bg_col_a = bg_genes_df['Official Symbol Interactor A']\n",
    "# bg_col_b = bg_genes_df['Official Symbol Interactor B']\n",
    "# bg_ess_df = bg_genes_df\n",
    "# bg_ess_df[\"ColumnsMatch\"] = np.where(ess_col == bg_col_a, 'True', 'False')\n",
    "\n",
    "#filter rows based on that column and remove the extra column\n",
    "# bg_ess_df = bg_ess_df[bg_ess_df['ColumnsMatch'] == 'True'].drop('ColumnsMatch', 1)\n",
    "            \n",
    "bg_ess_df = bg_genes_df\n",
    "bg_ess_df['Essentiality'] = list(range(len(bg_ess_df.index)))  "
   ]
  },
  {
   "cell_type": "code",
   "execution_count": 10,
   "id": "c04b87c5-2b1a-4c5b-aa31-6400f469fc6f",
   "metadata": {},
   "outputs": [
    {
     "data": {
      "text/html": [
       "<div>\n",
       "<style scoped>\n",
       "    .dataframe tbody tr th:only-of-type {\n",
       "        vertical-align: middle;\n",
       "    }\n",
       "\n",
       "    .dataframe tbody tr th {\n",
       "        vertical-align: top;\n",
       "    }\n",
       "\n",
       "    .dataframe thead th {\n",
       "        text-align: right;\n",
       "    }\n",
       "</style>\n",
       "<table border=\"1\" class=\"dataframe\">\n",
       "  <thead>\n",
       "    <tr style=\"text-align: right;\">\n",
       "      <th></th>\n",
       "      <th>Official Symbol Interactor A</th>\n",
       "      <th>Official Symbol Interactor B</th>\n",
       "      <th>Essentiality</th>\n",
       "    </tr>\n",
       "  </thead>\n",
       "  <tbody>\n",
       "    <tr>\n",
       "      <th>0</th>\n",
       "      <td>CDC73</td>\n",
       "      <td>CTR9</td>\n",
       "      <td>0</td>\n",
       "    </tr>\n",
       "    <tr>\n",
       "      <th>1</th>\n",
       "      <td>CTR9</td>\n",
       "      <td>CDC73</td>\n",
       "      <td>1</td>\n",
       "    </tr>\n",
       "    <tr>\n",
       "      <th>2</th>\n",
       "      <td>CDC73</td>\n",
       "      <td>LEO1</td>\n",
       "      <td>2</td>\n",
       "    </tr>\n",
       "    <tr>\n",
       "      <th>3</th>\n",
       "      <td>LEO1</td>\n",
       "      <td>CDC73</td>\n",
       "      <td>3</td>\n",
       "    </tr>\n",
       "    <tr>\n",
       "      <th>4</th>\n",
       "      <td>CDC73</td>\n",
       "      <td>PAF1</td>\n",
       "      <td>4</td>\n",
       "    </tr>\n",
       "  </tbody>\n",
       "</table>\n",
       "</div>"
      ],
      "text/plain": [
       "  Official Symbol Interactor A Official Symbol Interactor B  Essentiality\n",
       "0                        CDC73                         CTR9             0\n",
       "1                         CTR9                        CDC73             1\n",
       "2                        CDC73                         LEO1             2\n",
       "3                         LEO1                        CDC73             3\n",
       "4                        CDC73                         PAF1             4"
      ]
     },
     "execution_count": 10,
     "metadata": {},
     "output_type": "execute_result"
    }
   ],
   "source": [
    "bg_ess_df.head() # will be adding essentiality here according to the matching genes "
   ]
  },
  {
   "cell_type": "code",
   "execution_count": 11,
   "id": "cb566bb0-d950-4796-9f19-ee06550af69d",
   "metadata": {},
   "outputs": [
    {
     "data": {
      "text/html": [
       "<div>\n",
       "<style scoped>\n",
       "    .dataframe tbody tr th:only-of-type {\n",
       "        vertical-align: middle;\n",
       "    }\n",
       "\n",
       "    .dataframe tbody tr th {\n",
       "        vertical-align: top;\n",
       "    }\n",
       "\n",
       "    .dataframe thead th {\n",
       "        text-align: right;\n",
       "    }\n",
       "</style>\n",
       "<table border=\"1\" class=\"dataframe\">\n",
       "  <thead>\n",
       "    <tr style=\"text-align: right;\">\n",
       "      <th></th>\n",
       "      <th>Official_Symbol_Interactor_A</th>\n",
       "      <th>Official_Symbol_Interactor_B</th>\n",
       "      <th>Essentiality</th>\n",
       "    </tr>\n",
       "  </thead>\n",
       "  <tbody>\n",
       "    <tr>\n",
       "      <th>0</th>\n",
       "      <td>CDC73</td>\n",
       "      <td>CTR9</td>\n",
       "      <td>0</td>\n",
       "    </tr>\n",
       "    <tr>\n",
       "      <th>1</th>\n",
       "      <td>CTR9</td>\n",
       "      <td>CDC73</td>\n",
       "      <td>1</td>\n",
       "    </tr>\n",
       "    <tr>\n",
       "      <th>2</th>\n",
       "      <td>CDC73</td>\n",
       "      <td>LEO1</td>\n",
       "      <td>2</td>\n",
       "    </tr>\n",
       "    <tr>\n",
       "      <th>3</th>\n",
       "      <td>LEO1</td>\n",
       "      <td>CDC73</td>\n",
       "      <td>3</td>\n",
       "    </tr>\n",
       "    <tr>\n",
       "      <th>4</th>\n",
       "      <td>CDC73</td>\n",
       "      <td>PAF1</td>\n",
       "      <td>4</td>\n",
       "    </tr>\n",
       "  </tbody>\n",
       "</table>\n",
       "</div>"
      ],
      "text/plain": [
       "  Official_Symbol_Interactor_A Official_Symbol_Interactor_B  Essentiality\n",
       "0                        CDC73                         CTR9             0\n",
       "1                         CTR9                        CDC73             1\n",
       "2                        CDC73                         LEO1             2\n",
       "3                         LEO1                        CDC73             3\n",
       "4                        CDC73                         PAF1             4"
      ]
     },
     "execution_count": 11,
     "metadata": {},
     "output_type": "execute_result"
    }
   ],
   "source": [
    "# ess_df['Official_Symbol_Interactor'].isin(bg_ess_df['Official Symbol Interactor A'])\n",
    "bg_ess_df.columns = bg_ess_df.columns.str.replace(' ', '_')\n",
    "bg_ess_df.head()"
   ]
  },
  {
   "cell_type": "code",
   "execution_count": 12,
   "id": "049d9adc-29b3-4277-ab51-2f3dedd22533",
   "metadata": {},
   "outputs": [
    {
     "name": "stdout",
     "output_type": "stream",
     "text": [
      "       Official_Symbol_Interactor_A Official_Symbol_Interactor_B  Essentiality\n",
      "60                             DSN1                         AME1            60\n",
      "61                             DSN1                         CHL4            61\n",
      "62                             DSN1                        CTF19            62\n",
      "63                             DSN1                         CTF3            63\n",
      "64                             DSN1                        MCM22            64\n",
      "...                             ...                          ...           ...\n",
      "783460                         MEC1                         SAE2        783460\n",
      "783461                         MEC1                        RAD50        783461\n",
      "783463                         MEC1                        MRE11        783463\n",
      "783468                         BRN1                         SMC4        783468\n",
      "783469                         SMC4                         BRN1        783469\n",
      "\n",
      "[79406 rows x 3 columns]\n"
     ]
    }
   ],
   "source": [
    "print (bg_ess_df[bg_ess_df.Official_Symbol_Interactor_A.isin(ess_df.Official_Symbol_Interactor)])"
   ]
  },
  {
   "cell_type": "code",
   "execution_count": 13,
   "id": "85009cb2-560c-4b72-bec2-cb8345391cb9",
   "metadata": {},
   "outputs": [
    {
     "name": "stdout",
     "output_type": "stream",
     "text": [
      "       Official_Symbol_Interactor_A Official_Symbol_Interactor_B  Essentiality\n",
      "42                             CWC2                        PRP45            42\n",
      "43                             CWC2                        PRP46            43\n",
      "49                             CWC2                       SNU114            49\n",
      "50                             CWC2                         SYF1            50\n",
      "52                             CWC2                         YJU2            52\n",
      "...                             ...                          ...           ...\n",
      "783377                         SSD1                         MPS3        783377\n",
      "783383                         SSD1                        RPB11        783383\n",
      "783387                         SSD1                         ATG1        783387\n",
      "783468                         BRN1                         SMC4        783468\n",
      "783469                         SMC4                         BRN1        783469\n",
      "\n",
      "[57620 rows x 3 columns]\n"
     ]
    }
   ],
   "source": [
    "print (bg_ess_df[bg_ess_df.Official_Symbol_Interactor_B.isin(ess_df.Official_Symbol_Interactor)])"
   ]
  },
  {
   "cell_type": "code",
   "execution_count": 14,
   "id": "e2d0e342-2ef4-44f2-a9d7-b5b37bd99ed6",
   "metadata": {},
   "outputs": [
    {
     "name": "stdout",
     "output_type": "stream",
     "text": [
      "       Official_Symbol_Interactor_A Official_Symbol_Interactor_B  \\\n",
      "0                              DSN1                         AME1   \n",
      "1                              DSN1                         CHL4   \n",
      "2                              DSN1                        CTF19   \n",
      "3                              DSN1                         CTF3   \n",
      "4                              DSN1                        MCM22   \n",
      "...                             ...                          ...   \n",
      "129753                         BCD1                       RTT106   \n",
      "129754                         BCD1                       RTT106   \n",
      "129755                         BCD1                       RTT106   \n",
      "129756                         ECM9                         RCE1   \n",
      "129757                         ECM9                      YNL320W   \n",
      "\n",
      "        Essentiality_x  Score Essentiality_y  \n",
      "0                   60    1.0              E  \n",
      "1                   61    1.0              E  \n",
      "2                   62    1.0              E  \n",
      "3                   63    1.0              E  \n",
      "4                   64    1.0              E  \n",
      "...                ...    ...            ...  \n",
      "129753          779264    1.0              E  \n",
      "129754          779265    1.0              E  \n",
      "129755          779267    1.0              E  \n",
      "129756          757211    1.0              E  \n",
      "129757          757212    1.0              E  \n",
      "\n",
      "[129758 rows x 5 columns]\n"
     ]
    }
   ],
   "source": [
    "ess_df=ess_df.rename(columns = {'Official_Symbol_Interactor':'Official_Symbol_Interactor_A'}) # change the column name of ess_df to be able to use merge\n",
    "print (pd.merge(bg_ess_df,ess_df, on='Official_Symbol_Interactor_A'))"
   ]
  },
  {
   "cell_type": "code",
   "execution_count": 15,
   "id": "100425df-0fa6-4457-9e28-9fbac2404477",
   "metadata": {
    "tags": []
   },
   "outputs": [
    {
     "name": "stdout",
     "output_type": "stream",
     "text": [
      "['E' 'C' 'NE']\n"
     ]
    }
   ],
   "source": [
    "print (pd.merge(bg_ess_df,ess_df, on='Official_Symbol_Interactor_A')['Essentiality_y'].unique())"
   ]
  },
  {
   "cell_type": "code",
   "execution_count": 16,
   "id": "8c96e6dc-1945-46ff-9903-4918d9202c7f",
   "metadata": {},
   "outputs": [
    {
     "name": "stdout",
     "output_type": "stream",
     "text": [
      "[1.         0.5625     0.         0.25       0.44444444 0.64\n",
      " 0.16       0.11111111 0.36       0.69444444 0.0625    ]\n"
     ]
    }
   ],
   "source": [
    "print (pd.merge(bg_ess_df,ess_df, on='Official_Symbol_Interactor_A')['Score'].unique())"
   ]
  },
  {
   "cell_type": "code",
   "execution_count": 17,
   "id": "20e8dca5-12e8-4680-941e-63c45839888f",
   "metadata": {},
   "outputs": [
    {
     "data": {
      "text/plain": [
       "783485"
      ]
     },
     "execution_count": 17,
     "metadata": {},
     "output_type": "execute_result"
    }
   ],
   "source": [
    "len(bg_ess_df)"
   ]
  },
  {
   "cell_type": "code",
   "execution_count": 18,
   "id": "d1a95c45-61f5-4418-a0bf-453a50805dc4",
   "metadata": {},
   "outputs": [
    {
     "name": "stdout",
     "output_type": "stream",
     "text": [
      "0         DSN1\n",
      "1         DSN1\n",
      "2         DSN1\n",
      "3         DSN1\n",
      "4         DSN1\n",
      "          ... \n",
      "129753    BCD1\n",
      "129754    BCD1\n",
      "129755    BCD1\n",
      "129756    ECM9\n",
      "129757    ECM9\n",
      "Name: Official_Symbol_Interactor_A, Length: 129758, dtype: object\n"
     ]
    }
   ],
   "source": [
    "print (pd.merge(bg_ess_df,ess_df, on='Official_Symbol_Interactor_A')['Official_Symbol_Interactor_A'])"
   ]
  },
  {
   "cell_type": "code",
   "execution_count": 19,
   "id": "ee0dfc51-ab25-4842-ab18-0cd489fd436a",
   "metadata": {},
   "outputs": [],
   "source": [
    "# return all rows from df2 having values of df1\n",
    "# return all values from BIOGRID-ORGANISM having values of scerevisiae_essentiality\n",
    "# print(bg_ess_df.merge(ess_df,left_on=['Official_Symbol_Interactor_A','Essentiality'],right_on=['Official_Symbol_Interactor_A','Essentiality'],how='left').dropna()[bg_ess_df.columns]\n",
    "# )\n",
    "bg_ess_df.to_csv('bg_ess.csv', index = None)"
   ]
  },
  {
   "cell_type": "code",
   "execution_count": 20,
   "id": "553543b6-a004-4e2b-b78a-10c0d1d70769",
   "metadata": {},
   "outputs": [],
   "source": [
    "# file_path = 'C:\\Users\\Burcu\\Desktop\\nt\\xgboost_ppi\\ppiemb.txt'\n",
    "# dataframe1 = pd.read_csv(file_path, delim_whitespace=True)\n",
    "\n",
    "# dataframe1.to_csv('ppiemb.csv', index = None)\n",
    "\n",
    "dataframe1 = pd.read_csv(\"ppiemb.txt\", delim_whitespace=True) \n",
    "dataframe1.to_csv('ppiemb.csv', index = None)\n",
    "ppiemb_df = pd.read_csv('ppiemb.csv')\n"
   ]
  },
  {
   "cell_type": "code",
   "execution_count": 21,
   "id": "1189d6a7-2080-4e84-811f-5c6e54a93468",
   "metadata": {},
   "outputs": [
    {
     "data": {
      "text/plain": [
       "33604            int64\n",
       "-0.510713      float64\n",
       "-0.0346978     float64\n",
       "0.226693       float64\n",
       "-0.104328      float64\n",
       "                ...   \n",
       "-0.177385      float64\n",
       "0.000920155    float64\n",
       "0.0914044      float64\n",
       "0.0578524      float64\n",
       "0.0370801      float64\n",
       "Length: 129, dtype: object"
      ]
     },
     "execution_count": 21,
     "metadata": {},
     "output_type": "execute_result"
    }
   ],
   "source": [
    "ppiemb_df.dtypes"
   ]
  },
  {
   "cell_type": "code",
   "execution_count": null,
   "id": "40bb0483-00a5-4a15-b359-c44b9b5694cb",
   "metadata": {},
   "outputs": [],
   "source": []
  },
  {
   "cell_type": "code",
   "execution_count": null,
   "id": "8a4ea334-b069-4466-b5b2-2ee862f7e501",
   "metadata": {},
   "outputs": [],
   "source": []
  }
 ],
 "metadata": {
  "kernelspec": {
   "display_name": "Python 3 (ipykernel)",
   "language": "python",
   "name": "python3"
  },
  "language_info": {
   "codemirror_mode": {
    "name": "ipython",
    "version": 3
   },
   "file_extension": ".py",
   "mimetype": "text/x-python",
   "name": "python",
   "nbconvert_exporter": "python",
   "pygments_lexer": "ipython3",
   "version": "3.9.6"
  }
 },
 "nbformat": 4,
 "nbformat_minor": 5
}

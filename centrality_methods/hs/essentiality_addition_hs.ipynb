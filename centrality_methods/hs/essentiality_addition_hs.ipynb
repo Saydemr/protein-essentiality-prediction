{
 "cells": [
  {
   "cell_type": "code",
   "execution_count": 4,
   "metadata": {},
   "outputs": [],
   "source": [
    "import pandas as pd\n",
    "import numpy as np\n",
    "import networkx as nx\n",
    "import csv\n",
    "import time\n",
    "import json"
   ]
  },
  {
   "cell_type": "code",
   "execution_count": 5,
   "metadata": {},
   "outputs": [
    {
     "name": "stdout",
     "output_type": "stream",
     "text": [
      "Count of Essential Proteins :  1966\n",
      "Count of Essential Proteins :  1966\n",
      "Count of Essential Proteins :  1966\n",
      "Count of Essential Proteins :  1966\n",
      "Count of Essential Proteins :  1966\n"
     ]
    }
   ],
   "source": [
    " \n",
    "centrality_methods = [\"Betweenness\", \"Degree\", \"Closeness\", \"Eigenvector\",\"Information\"]\n",
    "\n",
    "for x in centrality_methods:\n",
    "    centrality_df = pd.read_csv('data/'+x.lower()+'_centrality_sorted.csv')\n",
    "    \n",
    "    cols_list = [3, 4, 7, 8]\n",
    "    id_name_dict = json.load(open('../../data/hs-id_name_dict.json'))\n",
    "\n",
    "    \n",
    "    essential_dict = set()\n",
    "    with open('../../data/deg_hs.dat') as f:\n",
    "        for line in f:\n",
    "            line = line.strip().split('\\t')\n",
    "            essential_dict.add(line[0].strip())\n",
    "\n",
    "    ess_df = pd.DataFrame(columns=['ID', x+'_Centrality', 'Essentiality'])\n",
    "    selected_columns = centrality_df[['ID', x+'_Centrality']]\n",
    "    ess_df = selected_columns.copy()\n",
    "    ess_df['Essentiality'] = 0\n",
    "\n",
    "    essentials = []\n",
    "    i= 0\n",
    "    for item in centrality_df['ID'].tolist():\n",
    "        if id_name_dict[str(item)] in essential_dict:\n",
    "            essentials.append(item)\n",
    "            ess_df.at[i, 'Essentiality'] = 1\n",
    "        i += 1\n",
    "\n",
    "    count = (ess_df['Essentiality'] == 1).sum()\n",
    "    print('Count of Essential Proteins : ', count)\n",
    "\n",
    "    ess_df.to_csv('data/'+x.lower()+'_centrality_ess.csv', index=False)\n",
    "\n",
    "\n",
    "    "
   ]
  }
 ],
 "metadata": {
  "kernelspec": {
   "display_name": "Python 3.9.6 64-bit",
   "language": "python",
   "name": "python3"
  },
  "language_info": {
   "codemirror_mode": {
    "name": "ipython",
    "version": 3
   },
   "file_extension": ".py",
   "mimetype": "text/x-python",
   "name": "python",
   "nbconvert_exporter": "python",
   "pygments_lexer": "ipython3",
   "version": "3.10.4"
  },
  "orig_nbformat": 4,
  "vscode": {
   "interpreter": {
    "hash": "11938c6bc6919ae2720b4d5011047913343b08a43b18698fd82dedb0d4417594"
   }
  }
 },
 "nbformat": 4,
 "nbformat_minor": 2
}

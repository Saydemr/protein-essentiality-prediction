{
 "cells": [
  {
   "cell_type": "code",
   "execution_count": 2,
   "metadata": {},
   "outputs": [],
   "source": [
    "import pandas as pd\n",
    "import numpy as np\n",
    "import networkx as nx\n",
    "import csv"
   ]
  },
  {
   "cell_type": "code",
   "execution_count": 3,
   "metadata": {},
   "outputs": [],
   "source": [
    "centrality_methods = [\"data/betweenness_centrality_ess.csv\", \"data/closeness_centrality_ess.csv\", \n",
    "          \"data/degree_centrality_ess.csv\", \"data/eigenvector_centrality_ess.csv\", \n",
    "          \"data/information_centrality_ess.csv\"]\n",
    "fill = [0, 0, 0]"
   ]
  },
  {
   "cell_type": "code",
   "execution_count": 4,
   "metadata": {},
   "outputs": [
    {
     "data": {
      "text/html": [
       "<div>\n",
       "<style scoped>\n",
       "    .dataframe tbody tr th:only-of-type {\n",
       "        vertical-align: middle;\n",
       "    }\n",
       "\n",
       "    .dataframe tbody tr th {\n",
       "        vertical-align: top;\n",
       "    }\n",
       "\n",
       "    .dataframe thead th {\n",
       "        text-align: right;\n",
       "    }\n",
       "</style>\n",
       "<table border=\"1\" class=\"dataframe\">\n",
       "  <thead>\n",
       "    <tr style=\"text-align: right;\">\n",
       "      <th></th>\n",
       "      <th>Centrality_Method</th>\n",
       "      <th>Num_Essential_Proteins</th>\n",
       "      <th>Percentage</th>\n",
       "    </tr>\n",
       "  </thead>\n",
       "  <tbody>\n",
       "  </tbody>\n",
       "</table>\n",
       "</div>"
      ],
      "text/plain": [
       "Empty DataFrame\n",
       "Columns: [Centrality_Method, Num_Essential_Proteins, Percentage]\n",
       "Index: []"
      ]
     },
     "execution_count": 4,
     "metadata": {},
     "output_type": "execute_result"
    }
   ],
   "source": [
    "results = pd.DataFrame(columns= ['Centrality_Method', 'Num_Essential_Proteins', 'Percentage'])\n",
    "results.head()\n",
    "\n"
   ]
  },
  {
   "cell_type": "code",
   "execution_count": 21,
   "metadata": {},
   "outputs": [
    {
     "data": {
      "text/html": [
       "<div>\n",
       "<style scoped>\n",
       "    .dataframe tbody tr th:only-of-type {\n",
       "        vertical-align: middle;\n",
       "    }\n",
       "\n",
       "    .dataframe tbody tr th {\n",
       "        vertical-align: top;\n",
       "    }\n",
       "\n",
       "    .dataframe thead th {\n",
       "        text-align: right;\n",
       "    }\n",
       "</style>\n",
       "<table border=\"1\" class=\"dataframe\">\n",
       "  <thead>\n",
       "    <tr style=\"text-align: right;\">\n",
       "      <th></th>\n",
       "      <th>__</th>\n",
       "      <th>Predicted_Positive</th>\n",
       "      <th>Predicted_Negative</th>\n",
       "    </tr>\n",
       "  </thead>\n",
       "  <tbody>\n",
       "    <tr>\n",
       "      <th>0</th>\n",
       "      <td>Actual_Positive</td>\n",
       "      <td>NaN</td>\n",
       "      <td>NaN</td>\n",
       "    </tr>\n",
       "    <tr>\n",
       "      <th>1</th>\n",
       "      <td>Actual_Negative</td>\n",
       "      <td>NaN</td>\n",
       "      <td>NaN</td>\n",
       "    </tr>\n",
       "  </tbody>\n",
       "</table>\n",
       "</div>"
      ],
      "text/plain": [
       "                __ Predicted_Positive Predicted_Negative\n",
       "0  Actual_Positive                NaN                NaN\n",
       "1  Actual_Negative                NaN                NaN"
      ]
     },
     "execution_count": 21,
     "metadata": {},
     "output_type": "execute_result"
    }
   ],
   "source": [
    "diagram = pd.DataFrame(columns= ['__', 'Predicted_Positive', 'Predicted_Negative'])\n",
    "col = ['Actual_Positive', 'Actual_Negative']\n",
    "diagram['__'] = col\n",
    "diagram.head()"
   ]
  },
  {
   "cell_type": "code",
   "execution_count": 24,
   "metadata": {},
   "outputs": [
    {
     "name": "stdout",
     "output_type": "stream",
     "text": [
      "Centrality Method:  data/betweenness_centrality_ess.csv\n",
      "True Positive:  404\n",
      "False Negative:  698\n",
      "False Positive: 707\n",
      "True Negative: 5540\n",
      "Centrality Method:  data/closeness_centrality_ess.csv\n",
      "True Positive:  404\n",
      "False Negative:  1800\n",
      "False Positive: 707\n",
      "True Negative: 11787\n",
      "Centrality Method:  data/degree_centrality_ess.csv\n",
      "True Positive:  404\n",
      "False Negative:  2902\n",
      "False Positive: 707\n",
      "True Negative: 18034\n",
      "Centrality Method:  data/eigenvector_centrality_ess.csv\n",
      "True Positive:  404\n",
      "False Negative:  4004\n",
      "False Positive: 707\n",
      "True Negative: 24281\n",
      "Centrality Method:  data/information_centrality_ess.csv\n",
      "True Positive:  404\n",
      "False Negative:  5106\n",
      "False Positive: 707\n",
      "True Negative: 30528\n"
     ]
    }
   ],
   "source": [
    "true_positive = 0\n",
    "true_negative = 0 \n",
    "false_positive = 0\n",
    "false_negative = 0\n",
    "index = 0\n",
    "for i in centrality_methods:\n",
    "    centrality_df = pd.read_csv(i)\n",
    "    for item in centrality_df['Essentiality']:\n",
    "        essential_count = (centrality_df['Essentiality'] == 1).sum()\n",
    "        essential_percent = essential_count/1110*100\n",
    "        if(index<=1110 and item==1):\n",
    "            true_positive+=1\n",
    "        elif(index<=1110 and item==0):\n",
    "            false_positive+=1\n",
    "        elif(index>1110 and item==1):\n",
    "            false_negative+=1\n",
    "        elif(index>1110 and item==0):\n",
    "            true_negative+=1\n",
    "        index+=1\n",
    "\n",
    "    print('Centrality Method: ', i)\n",
    "    print('True Positive: ', true_positive)\n",
    "    print('False Negative: ', false_negative)\n",
    "    print('False Positive:', false_positive) \n",
    "    print('True Negative:', true_negative)\n",
    "\n",
    "\n",
    "diagram.loc[0,'Predicted_Positive']=true_positive\n",
    "diagram.loc[0,'Predicted_Negative']=false_negative\n",
    "diagram.loc[1,'Predicted_Positive']=false_positive\n",
    "diagram.loc[1,'Predicted_Negative']=true_negative    \n"
   ]
  },
  {
   "cell_type": "code",
   "execution_count": 25,
   "metadata": {},
   "outputs": [
    {
     "data": {
      "text/html": [
       "<div>\n",
       "<style scoped>\n",
       "    .dataframe tbody tr th:only-of-type {\n",
       "        vertical-align: middle;\n",
       "    }\n",
       "\n",
       "    .dataframe tbody tr th {\n",
       "        vertical-align: top;\n",
       "    }\n",
       "\n",
       "    .dataframe thead th {\n",
       "        text-align: right;\n",
       "    }\n",
       "</style>\n",
       "<table border=\"1\" class=\"dataframe\">\n",
       "  <thead>\n",
       "    <tr style=\"text-align: right;\">\n",
       "      <th></th>\n",
       "      <th>__</th>\n",
       "      <th>Predicted_Positive</th>\n",
       "      <th>Predicted_Negative</th>\n",
       "    </tr>\n",
       "  </thead>\n",
       "  <tbody>\n",
       "    <tr>\n",
       "      <th>0</th>\n",
       "      <td>Actual_Positive</td>\n",
       "      <td>404</td>\n",
       "      <td>5106</td>\n",
       "    </tr>\n",
       "    <tr>\n",
       "      <th>1</th>\n",
       "      <td>Actual_Negative</td>\n",
       "      <td>707</td>\n",
       "      <td>30528</td>\n",
       "    </tr>\n",
       "  </tbody>\n",
       "</table>\n",
       "</div>"
      ],
      "text/plain": [
       "                __ Predicted_Positive Predicted_Negative\n",
       "0  Actual_Positive                404               5106\n",
       "1  Actual_Negative                707              30528"
      ]
     },
     "execution_count": 25,
     "metadata": {},
     "output_type": "execute_result"
    }
   ],
   "source": [
    "diagram.head()"
   ]
  },
  {
   "cell_type": "code",
   "execution_count": 26,
   "metadata": {},
   "outputs": [],
   "source": [
    "diagram.to_csv('data/diagram.csv', index=False)"
   ]
  }
 ],
 "metadata": {
  "kernelspec": {
   "display_name": "Python 3.9.6 64-bit",
   "language": "python",
   "name": "python3"
  },
  "language_info": {
   "codemirror_mode": {
    "name": "ipython",
    "version": 3
   },
   "file_extension": ".py",
   "mimetype": "text/x-python",
   "name": "python",
   "nbconvert_exporter": "python",
   "pygments_lexer": "ipython3",
   "version": "3.9.6"
  },
  "orig_nbformat": 4,
  "vscode": {
   "interpreter": {
    "hash": "11938c6bc6919ae2720b4d5011047913343b08a43b18698fd82dedb0d4417594"
   }
  }
 },
 "nbformat": 4,
 "nbformat_minor": 2
}

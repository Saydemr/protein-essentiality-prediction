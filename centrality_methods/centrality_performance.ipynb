{
 "cells": [
  {
   "cell_type": "code",
   "execution_count": 1,
   "metadata": {},
   "outputs": [],
   "source": [
    "import pandas as pd\n",
    "import numpy as np\n",
    "import networkx as nx\n",
    "import csv\n",
    "import time"
   ]
  },
  {
   "cell_type": "code",
   "execution_count": 2,
   "metadata": {},
   "outputs": [],
   "source": [
    "centrality_methods = [\"data/Betweenness_centrality_ess.csv\", \"data/Closeness_centrality_ess.csv\", \n",
    "          \"data/Degree_centrality_ess.csv\", \"data/Eigenvector_centrality_ess.csv\", \n",
    "          \"data/Information_centrality_ess.csv\"]\n",
    "fill = [0, 0, 0]"
   ]
  },
  {
   "cell_type": "code",
   "execution_count": 3,
   "metadata": {},
   "outputs": [
    {
     "data": {
      "text/html": [
       "<div>\n",
       "<style scoped>\n",
       "    .dataframe tbody tr th:only-of-type {\n",
       "        vertical-align: middle;\n",
       "    }\n",
       "\n",
       "    .dataframe tbody tr th {\n",
       "        vertical-align: top;\n",
       "    }\n",
       "\n",
       "    .dataframe thead th {\n",
       "        text-align: right;\n",
       "    }\n",
       "</style>\n",
       "<table border=\"1\" class=\"dataframe\">\n",
       "  <thead>\n",
       "    <tr style=\"text-align: right;\">\n",
       "      <th></th>\n",
       "      <th>Centrality_Method</th>\n",
       "      <th>Num_Essential_Proteins</th>\n",
       "      <th>Percentage</th>\n",
       "    </tr>\n",
       "  </thead>\n",
       "  <tbody>\n",
       "  </tbody>\n",
       "</table>\n",
       "</div>"
      ],
      "text/plain": [
       "Empty DataFrame\n",
       "Columns: [Centrality_Method, Num_Essential_Proteins, Percentage]\n",
       "Index: []"
      ]
     },
     "execution_count": 3,
     "metadata": {},
     "output_type": "execute_result"
    }
   ],
   "source": [
    "results = pd.DataFrame(columns= ['Centrality_Method', 'Num_Essential_Proteins', 'Percentage'])\n",
    "results.head()\n",
    "\n"
   ]
  },
  {
   "cell_type": "code",
   "execution_count": 4,
   "metadata": {},
   "outputs": [
    {
     "data": {
      "text/html": [
       "<div>\n",
       "<style scoped>\n",
       "    .dataframe tbody tr th:only-of-type {\n",
       "        vertical-align: middle;\n",
       "    }\n",
       "\n",
       "    .dataframe tbody tr th {\n",
       "        vertical-align: top;\n",
       "    }\n",
       "\n",
       "    .dataframe thead th {\n",
       "        text-align: right;\n",
       "    }\n",
       "</style>\n",
       "<table border=\"1\" class=\"dataframe\">\n",
       "  <thead>\n",
       "    <tr style=\"text-align: right;\">\n",
       "      <th></th>\n",
       "      <th>__</th>\n",
       "      <th>Predicted_Positive</th>\n",
       "      <th>Predicted_Negative</th>\n",
       "    </tr>\n",
       "  </thead>\n",
       "  <tbody>\n",
       "    <tr>\n",
       "      <th>0</th>\n",
       "      <td>Actual_Positive</td>\n",
       "      <td>NaN</td>\n",
       "      <td>NaN</td>\n",
       "    </tr>\n",
       "    <tr>\n",
       "      <th>1</th>\n",
       "      <td>Actual_Negative</td>\n",
       "      <td>NaN</td>\n",
       "      <td>NaN</td>\n",
       "    </tr>\n",
       "  </tbody>\n",
       "</table>\n",
       "</div>"
      ],
      "text/plain": [
       "                __ Predicted_Positive Predicted_Negative\n",
       "0  Actual_Positive                NaN                NaN\n",
       "1  Actual_Negative                NaN                NaN"
      ]
     },
     "execution_count": 4,
     "metadata": {},
     "output_type": "execute_result"
    }
   ],
   "source": [
    "diagram = pd.DataFrame(columns= ['__', 'Predicted_Positive', 'Predicted_Negative'])\n",
    "col = ['Actual_Positive', 'Actual_Negative']\n",
    "diagram['__'] = col\n",
    "diagram.head()"
   ]
  },
  {
   "cell_type": "code",
   "execution_count": 5,
   "metadata": {},
   "outputs": [
    {
     "name": "stdout",
     "output_type": "stream",
     "text": [
      "Centrality Method:  data/Betweenness_centrality_ess.csv\n",
      "True Positive:  403\n",
      "False Negative:  699\n",
      "False Positive: 708\n",
      "True Negative: 5547\n",
      "time taken:  0.8692078590393066\n",
      "Centrality Method:  data/Closeness_centrality_ess.csv\n",
      "True Positive:  431\n",
      "False Negative:  671\n",
      "False Positive: 680\n",
      "True Negative: 5575\n",
      "time taken:  1.0549757480621338\n",
      "Centrality Method:  data/Degree_centrality_ess.csv\n",
      "True Positive:  438\n",
      "False Negative:  664\n",
      "False Positive: 673\n",
      "True Negative: 5582\n",
      "time taken:  0.8960976600646973\n",
      "Centrality Method:  data/Eigenvector_centrality_ess.csv\n",
      "True Positive:  458\n",
      "False Negative:  644\n",
      "False Positive: 653\n",
      "True Negative: 5602\n",
      "time taken:  0.868675708770752\n",
      "Centrality Method:  data/Information_centrality_ess.csv\n",
      "True Positive:  439\n",
      "False Negative:  663\n",
      "False Positive: 672\n",
      "True Negative: 5583\n",
      "time taken:  0.910550594329834\n"
     ]
    }
   ],
   "source": [
    "true_positive = 0\n",
    "true_negative = 0 \n",
    "false_positive = 0\n",
    "false_negative = 0\n",
    "\n",
    "for i in centrality_methods:\n",
    "    first = time.time()\n",
    "    centrality_df = pd.read_csv(i)\n",
    "    index = 0\n",
    "    true_positive = 0\n",
    "    true_negative = 0 \n",
    "    false_positive = 0\n",
    "    false_negative = 0\n",
    "    for item in centrality_df['Essentiality']:\n",
    "        essential_count = (centrality_df['Essentiality'] == 1).sum()\n",
    "        essential_percent = essential_count/1110*100\n",
    "        if(index<=1110 and item==1):\n",
    "            true_positive+=1\n",
    "        elif(index<=1110 and item==0):\n",
    "            false_positive+=1\n",
    "        elif(index>1110 and item==1):\n",
    "            false_negative+=1\n",
    "        elif(index>1110 and item==0):\n",
    "            true_negative+=1\n",
    "        index+=1\n",
    "\n",
    "    print('Centrality Method: ', i)\n",
    "    print('True Positive: ', true_positive)\n",
    "    print('False Negative: ', false_negative)\n",
    "    print('False Positive:', false_positive) \n",
    "    print('True Negative:', true_negative)\n",
    "    last = time.time()\n",
    "    print(\"time taken: \", last-first)\n",
    "\n",
    "\n",
    "diagram.loc[0,'Predicted_Positive']=true_positive\n",
    "diagram.loc[0,'Predicted_Negative']=false_negative\n",
    "diagram.loc[1,'Predicted_Positive']=false_positive\n",
    "diagram.loc[1,'Predicted_Negative']=true_negative    \n"
   ]
  },
  {
   "cell_type": "code",
   "execution_count": 6,
   "metadata": {},
   "outputs": [
    {
     "data": {
      "text/html": [
       "<div>\n",
       "<style scoped>\n",
       "    .dataframe tbody tr th:only-of-type {\n",
       "        vertical-align: middle;\n",
       "    }\n",
       "\n",
       "    .dataframe tbody tr th {\n",
       "        vertical-align: top;\n",
       "    }\n",
       "\n",
       "    .dataframe thead th {\n",
       "        text-align: right;\n",
       "    }\n",
       "</style>\n",
       "<table border=\"1\" class=\"dataframe\">\n",
       "  <thead>\n",
       "    <tr style=\"text-align: right;\">\n",
       "      <th></th>\n",
       "      <th>__</th>\n",
       "      <th>Predicted_Positive</th>\n",
       "      <th>Predicted_Negative</th>\n",
       "    </tr>\n",
       "  </thead>\n",
       "  <tbody>\n",
       "    <tr>\n",
       "      <th>0</th>\n",
       "      <td>Actual_Positive</td>\n",
       "      <td>439</td>\n",
       "      <td>663</td>\n",
       "    </tr>\n",
       "    <tr>\n",
       "      <th>1</th>\n",
       "      <td>Actual_Negative</td>\n",
       "      <td>672</td>\n",
       "      <td>5583</td>\n",
       "    </tr>\n",
       "  </tbody>\n",
       "</table>\n",
       "</div>"
      ],
      "text/plain": [
       "                __ Predicted_Positive Predicted_Negative\n",
       "0  Actual_Positive                439                663\n",
       "1  Actual_Negative                672               5583"
      ]
     },
     "execution_count": 6,
     "metadata": {},
     "output_type": "execute_result"
    }
   ],
   "source": [
    "diagram.head()"
   ]
  },
  {
   "cell_type": "code",
   "execution_count": 7,
   "metadata": {},
   "outputs": [],
   "source": [
    "diagram.to_csv('data/diagram.csv', index=False)"
   ]
  }
 ],
 "metadata": {
  "kernelspec": {
   "display_name": "Python 3.9.6 64-bit",
   "language": "python",
   "name": "python3"
  },
  "language_info": {
   "codemirror_mode": {
    "name": "ipython",
    "version": 3
   },
   "file_extension": ".py",
   "mimetype": "text/x-python",
   "name": "python",
   "nbconvert_exporter": "python",
   "pygments_lexer": "ipython3",
   "version": "3.9.6"
  },
  "orig_nbformat": 4,
  "vscode": {
   "interpreter": {
    "hash": "11938c6bc6919ae2720b4d5011047913343b08a43b18698fd82dedb0d4417594"
   }
  }
 },
 "nbformat": 4,
 "nbformat_minor": 2
}

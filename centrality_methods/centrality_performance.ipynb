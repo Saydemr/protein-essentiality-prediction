{
 "cells": [
  {
   "cell_type": "code",
   "execution_count": 1,
   "metadata": {},
   "outputs": [],
   "source": [
    "import pandas as pd\n",
    "import numpy as np\n",
    "import networkx as nx\n",
    "import csv\n",
    "import time"
   ]
  },
  {
   "cell_type": "code",
   "execution_count": 2,
   "metadata": {},
   "outputs": [],
   "source": [
    "centrality_methods = [\"data/Betweenness_centrality_ess.csv\", \"data/Closeness_centrality_ess.csv\", \n",
    "          \"data/Degree_centrality_ess.csv\", \"data/Eigenvector_centrality_ess.csv\", \n",
    "          \"data/Information_centrality_ess.csv\"]\n",
    "fill = [0, 0, 0]"
   ]
  },
  {
   "cell_type": "code",
   "execution_count": 3,
   "metadata": {},
   "outputs": [
    {
     "data": {
      "text/html": [
       "<div>\n",
       "<style scoped>\n",
       "    .dataframe tbody tr th:only-of-type {\n",
       "        vertical-align: middle;\n",
       "    }\n",
       "\n",
       "    .dataframe tbody tr th {\n",
       "        vertical-align: top;\n",
       "    }\n",
       "\n",
       "    .dataframe thead th {\n",
       "        text-align: right;\n",
       "    }\n",
       "</style>\n",
       "<table border=\"1\" class=\"dataframe\">\n",
       "  <thead>\n",
       "    <tr style=\"text-align: right;\">\n",
       "      <th></th>\n",
       "      <th>Centrality_Method</th>\n",
       "      <th>Accuracy</th>\n",
       "      <th>F1 Score</th>\n",
       "      <th>Precision</th>\n",
       "      <th>Recall</th>\n",
       "      <th>Time</th>\n",
       "    </tr>\n",
       "  </thead>\n",
       "  <tbody>\n",
       "  </tbody>\n",
       "</table>\n",
       "</div>"
      ],
      "text/plain": [
       "Empty DataFrame\n",
       "Columns: [Centrality_Method, Accuracy, F1 Score, Precision, Recall, Time]\n",
       "Index: []"
      ]
     },
     "execution_count": 3,
     "metadata": {},
     "output_type": "execute_result"
    }
   ],
   "source": [
    "results = pd.DataFrame(columns= ['Centrality_Method', 'Accuracy', 'F1 Score', 'Precision', 'Recall', 'Time'])\n",
    "results.head()\n",
    "\n"
   ]
  },
  {
   "cell_type": "code",
   "execution_count": 4,
   "metadata": {},
   "outputs": [
    {
     "data": {
      "text/html": [
       "<div>\n",
       "<style scoped>\n",
       "    .dataframe tbody tr th:only-of-type {\n",
       "        vertical-align: middle;\n",
       "    }\n",
       "\n",
       "    .dataframe tbody tr th {\n",
       "        vertical-align: top;\n",
       "    }\n",
       "\n",
       "    .dataframe thead th {\n",
       "        text-align: right;\n",
       "    }\n",
       "</style>\n",
       "<table border=\"1\" class=\"dataframe\">\n",
       "  <thead>\n",
       "    <tr style=\"text-align: right;\">\n",
       "      <th></th>\n",
       "      <th>__</th>\n",
       "      <th>Predicted_Positive</th>\n",
       "      <th>Predicted_Negative</th>\n",
       "    </tr>\n",
       "  </thead>\n",
       "  <tbody>\n",
       "    <tr>\n",
       "      <th>0</th>\n",
       "      <td>Actual_Positive</td>\n",
       "      <td>NaN</td>\n",
       "      <td>NaN</td>\n",
       "    </tr>\n",
       "    <tr>\n",
       "      <th>1</th>\n",
       "      <td>Actual_Negative</td>\n",
       "      <td>NaN</td>\n",
       "      <td>NaN</td>\n",
       "    </tr>\n",
       "  </tbody>\n",
       "</table>\n",
       "</div>"
      ],
      "text/plain": [
       "                __ Predicted_Positive Predicted_Negative\n",
       "0  Actual_Positive                NaN                NaN\n",
       "1  Actual_Negative                NaN                NaN"
      ]
     },
     "execution_count": 4,
     "metadata": {},
     "output_type": "execute_result"
    }
   ],
   "source": [
    "diagram = pd.DataFrame(columns= ['__', 'Predicted_Positive', 'Predicted_Negative'])\n",
    "col = ['Actual_Positive', 'Actual_Negative']\n",
    "diagram['__'] = col\n",
    "diagram.head()"
   ]
  },
  {
   "cell_type": "code",
   "execution_count": 5,
   "metadata": {},
   "outputs": [
    {
     "name": "stdout",
     "output_type": "stream",
     "text": [
      "Centrality Method:  data/Betweenness_centrality_ess.csv\n",
      "True Positive:  403\n",
      "False Negative:  699\n",
      "False Positive: 708\n",
      "True Negative: 5547\n",
      "Accuracy:  0.8087535680304472\n",
      "F1 Score:  0.36421147763217354\n",
      "Precision:  0.3627362736273627\n",
      "Recall:  0.36569872958257715\n",
      "time taken:  1.1556675434112549\n",
      "Centrality Method:  data/Closeness_centrality_ess.csv\n",
      "True Positive:  431\n",
      "False Negative:  671\n",
      "False Positive: 680\n",
      "True Negative: 5575\n",
      "Accuracy:  0.8163653663177926\n",
      "F1 Score:  0.3895164934478084\n",
      "Precision:  0.38793879387938796\n",
      "Recall:  0.3911070780399274\n",
      "time taken:  1.1853306293487549\n",
      "Centrality Method:  data/Degree_centrality_ess.csv\n",
      "True Positive:  438\n",
      "False Negative:  664\n",
      "False Positive: 673\n",
      "True Negative: 5582\n",
      "Accuracy:  0.8182683158896289\n",
      "F1 Score:  0.39584274740171715\n",
      "Precision:  0.39423942394239425\n",
      "Recall:  0.397459165154265\n",
      "time taken:  1.1724860668182373\n",
      "Centrality Method:  data/Eigenvector_centrality_ess.csv\n",
      "True Positive:  458\n",
      "False Negative:  644\n",
      "False Positive: 653\n",
      "True Negative: 5602\n",
      "Accuracy:  0.8237053146663041\n",
      "F1 Score:  0.41391775869859915\n",
      "Precision:  0.41224122412241226\n",
      "Recall:  0.41560798548094374\n",
      "time taken:  1.1032276153564453\n",
      "Centrality Method:  data/Information_centrality_ess.csv\n",
      "True Positive:  439\n",
      "False Negative:  663\n",
      "False Positive: 672\n",
      "True Negative: 5583\n",
      "Accuracy:  0.8185401658284627\n",
      "F1 Score:  0.39674649796656125\n",
      "Precision:  0.3951395139513951\n",
      "Recall:  0.39836660617059894\n",
      "time taken:  1.134119987487793\n"
     ]
    }
   ],
   "source": [
    "true_positive = 0\n",
    "true_negative = 0 \n",
    "false_positive = 0\n",
    "false_negative = 0\n",
    "\n",
    "\n",
    "\n",
    "for i in centrality_methods:\n",
    "    first = time.time()\n",
    "    centrality_df = pd.read_csv(i)\n",
    "    results.at[i, 'Centrality_Method'] = i\n",
    "    index = 0\n",
    "    true_positive = 0\n",
    "    true_negative = 0 \n",
    "    false_positive = 0\n",
    "    false_negative = 0\n",
    "    for item in centrality_df['Essentiality']:\n",
    "        essential_count = (centrality_df['Essentiality'] == 1).sum()\n",
    "        essential_percent = essential_count/1110*100\n",
    "        if(index<=1110 and item==1):\n",
    "            true_positive+=1\n",
    "        elif(index<=1110 and item==0):\n",
    "            false_positive+=1\n",
    "        elif(index>1110 and item==1):\n",
    "            false_negative+=1\n",
    "        elif(index>1110 and item==0):\n",
    "            true_negative+=1\n",
    "        index+=1\n",
    "\n",
    "    print('Centrality Method: ', i)\n",
    "    print('True Positive: ', true_positive)\n",
    "    print('False Negative: ', false_negative)\n",
    "    print('False Positive:', false_positive) \n",
    "    print('True Negative:', true_negative)\n",
    "    last = time.time()\n",
    "\n",
    "    accuracy = (true_positive+true_negative)/(true_positive+true_negative+false_positive+false_negative)\n",
    "    precision = true_positive/(true_positive+false_positive)\n",
    "    recall = true_positive/(true_positive+false_negative)\n",
    "    f1 = 2*((precision*recall)/(precision+recall))  \n",
    "\n",
    "    row = [i, accuracy, f1, precision, recall, last-first]\n",
    "    results.loc[i] = row\n",
    "    results.to_csv('data/results.csv', index=False)\n",
    "\n",
    "    print('Accuracy: ', accuracy)\n",
    "    print('F1 Score: ', f1)\n",
    "    print('Precision: ', precision)\n",
    "    print('Recall: ', recall)\n",
    "    print(\"time taken: \", last-first)\n",
    "\n",
    "\n",
    "\n",
    "\n",
    "diagram.loc[0,'Predicted_Positive']=true_positive\n",
    "diagram.loc[0,'Predicted_Negative']=false_negative\n",
    "diagram.loc[1,'Predicted_Positive']=false_positive\n",
    "diagram.loc[1,'Predicted_Negative']=true_negative    \n"
   ]
  }
 ],
 "metadata": {
  "kernelspec": {
   "display_name": "Python 3.9.6 64-bit",
   "language": "python",
   "name": "python3"
  },
  "language_info": {
   "codemirror_mode": {
    "name": "ipython",
    "version": 3
   },
   "file_extension": ".py",
   "mimetype": "text/x-python",
   "name": "python",
   "nbconvert_exporter": "python",
   "pygments_lexer": "ipython3",
   "version": "3.9.6"
  },
  "orig_nbformat": 4,
  "vscode": {
   "interpreter": {
    "hash": "11938c6bc6919ae2720b4d5011047913343b08a43b18698fd82dedb0d4417594"
   }
  }
 },
 "nbformat": 4,
 "nbformat_minor": 2
}

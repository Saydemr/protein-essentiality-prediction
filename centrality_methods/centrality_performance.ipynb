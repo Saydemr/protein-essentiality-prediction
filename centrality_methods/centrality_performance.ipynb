{
 "cells": [
  {
   "cell_type": "code",
   "execution_count": 29,
   "metadata": {},
   "outputs": [],
   "source": [
    "import pandas as pd\n",
    "import numpy as np\n",
    "import networkx as nx\n",
    "import csv"
   ]
  },
  {
   "cell_type": "code",
   "execution_count": 30,
   "metadata": {},
   "outputs": [],
   "source": [
    "centrality_methods = [\"data/betweenness_centrality_ess.csv\", \"data/closeness_centrality_ess.csv\", \n",
    "          \"data/degree_centrality_ess.csv\", \"data/eigenvector_centrality_ess.csv\", \n",
    "          \"data/information_centrality_ess.csv\"]\n",
    "fill = [0, 0, 0]"
   ]
  },
  {
   "cell_type": "code",
   "execution_count": 31,
   "metadata": {},
   "outputs": [
    {
     "data": {
      "text/html": [
       "<div>\n",
       "<style scoped>\n",
       "    .dataframe tbody tr th:only-of-type {\n",
       "        vertical-align: middle;\n",
       "    }\n",
       "\n",
       "    .dataframe tbody tr th {\n",
       "        vertical-align: top;\n",
       "    }\n",
       "\n",
       "    .dataframe thead th {\n",
       "        text-align: right;\n",
       "    }\n",
       "</style>\n",
       "<table border=\"1\" class=\"dataframe\">\n",
       "  <thead>\n",
       "    <tr style=\"text-align: right;\">\n",
       "      <th></th>\n",
       "      <th>Centrality_Method</th>\n",
       "      <th>Num_Essential_Proteins</th>\n",
       "      <th>Percentage</th>\n",
       "    </tr>\n",
       "  </thead>\n",
       "  <tbody>\n",
       "  </tbody>\n",
       "</table>\n",
       "</div>"
      ],
      "text/plain": [
       "Empty DataFrame\n",
       "Columns: [Centrality_Method, Num_Essential_Proteins, Percentage]\n",
       "Index: []"
      ]
     },
     "execution_count": 31,
     "metadata": {},
     "output_type": "execute_result"
    }
   ],
   "source": [
    "results = pd.DataFrame(columns= ['Centrality_Method', 'Num_Essential_Proteins', 'Percentage'])\n",
    "results.head()"
   ]
  },
  {
   "cell_type": "code",
   "execution_count": 42,
   "metadata": {},
   "outputs": [
    {
     "name": "stdout",
     "output_type": "stream",
     "text": [
      "Centrality Method:  data/betweenness_centrality_ess.csv\n",
      "Count of Essential Proteins:  403\n",
      "Percentage of Essential Proteins: 36.306306306306304\n",
      "\n",
      "Centrality Method:  data/closeness_centrality_ess.csv\n",
      "Count of Essential Proteins:  433\n",
      "Percentage of Essential Proteins: 39.00900900900901\n",
      "\n",
      "Centrality Method:  data/degree_centrality_ess.csv\n",
      "Count of Essential Proteins:  437\n",
      "Percentage of Essential Proteins: 39.369369369369366\n",
      "\n",
      "Centrality Method:  data/eigenvector_centrality_ess.csv\n",
      "Count of Essential Proteins:  458\n",
      "Percentage of Essential Proteins: 41.26126126126126\n",
      "\n",
      "Centrality Method:  data/information_centrality_ess.csv\n",
      "Count of Essential Proteins:  438\n",
      "Percentage of Essential Proteins: 39.45945945945946\n",
      "\n"
     ]
    }
   ],
   "source": [
    "for i in centrality_methods:\n",
    "    centrality_df = pd.read_csv(i, nrows=1110)\n",
    "    essential_count = (centrality_df['Essentiality'] == 1).sum()\n",
    "    essential_percent = essential_count/1110*100\n",
    "    print('Centrality Method: ', i)\n",
    "    print('Count of Essential Proteins: ', essential_count)\n",
    "    print('Percentage of Essential Proteins:', essential_percent) \n",
    "    print('')\n",
    "\n",
    "    row = [i, essential_count, essential_percent]\n",
    "    results.loc[i] = row"
   ]
  },
  {
   "cell_type": "code",
   "execution_count": 43,
   "metadata": {},
   "outputs": [],
   "source": [
    "results.head()\n",
    "np.savetxt(\"results.txt\", results, fmt='%s', header='centrality_method num_essential_proteins percentage', delimiter=',')"
   ]
  }
 ],
 "metadata": {
  "kernelspec": {
   "display_name": "Python 3.9.6 64-bit",
   "language": "python",
   "name": "python3"
  },
  "language_info": {
   "codemirror_mode": {
    "name": "ipython",
    "version": 3
   },
   "file_extension": ".py",
   "mimetype": "text/x-python",
   "name": "python",
   "nbconvert_exporter": "python",
   "pygments_lexer": "ipython3",
   "version": "3.9.6"
  },
  "orig_nbformat": 4,
  "vscode": {
   "interpreter": {
    "hash": "11938c6bc6919ae2720b4d5011047913343b08a43b18698fd82dedb0d4417594"
   }
  }
 },
 "nbformat": 4,
 "nbformat_minor": 2
}

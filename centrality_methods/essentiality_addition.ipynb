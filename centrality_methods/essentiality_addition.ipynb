{
 "cells": [
  {
   "cell_type": "code",
   "execution_count": 5,
   "metadata": {},
   "outputs": [],
   "source": [
    "import pandas as pd\n",
    "import numpy as np\n",
    "import networkx as nx\n",
    "import csv\n",
    "import time"
   ]
  },
  {
   "cell_type": "code",
   "execution_count": 6,
   "metadata": {},
   "outputs": [
    {
     "data": {
      "text/html": [
       "<div>\n",
       "<style scoped>\n",
       "    .dataframe tbody tr th:only-of-type {\n",
       "        vertical-align: middle;\n",
       "    }\n",
       "\n",
       "    .dataframe tbody tr th {\n",
       "        vertical-align: top;\n",
       "    }\n",
       "\n",
       "    .dataframe thead th {\n",
       "        text-align: right;\n",
       "    }\n",
       "</style>\n",
       "<table border=\"1\" class=\"dataframe\">\n",
       "  <thead>\n",
       "    <tr style=\"text-align: right;\">\n",
       "      <th></th>\n",
       "      <th>ID</th>\n",
       "      <th>Information_Centrality</th>\n",
       "    </tr>\n",
       "  </thead>\n",
       "  <tbody>\n",
       "    <tr>\n",
       "      <th>0</th>\n",
       "      <td>31903</td>\n",
       "      <td>0.000917</td>\n",
       "    </tr>\n",
       "    <tr>\n",
       "      <th>1</th>\n",
       "      <td>31745</td>\n",
       "      <td>0.000917</td>\n",
       "    </tr>\n",
       "    <tr>\n",
       "      <th>2</th>\n",
       "      <td>33129</td>\n",
       "      <td>0.000916</td>\n",
       "    </tr>\n",
       "    <tr>\n",
       "      <th>3</th>\n",
       "      <td>35368</td>\n",
       "      <td>0.000916</td>\n",
       "    </tr>\n",
       "    <tr>\n",
       "      <th>4</th>\n",
       "      <td>31107</td>\n",
       "      <td>0.000916</td>\n",
       "    </tr>\n",
       "  </tbody>\n",
       "</table>\n",
       "</div>"
      ],
      "text/plain": [
       "      ID  Information_Centrality\n",
       "0  31903                0.000917\n",
       "1  31745                0.000917\n",
       "2  33129                0.000916\n",
       "3  35368                0.000916\n",
       "4  31107                0.000916"
      ]
     },
     "execution_count": 6,
     "metadata": {},
     "output_type": "execute_result"
    }
   ],
   "source": [
    "centrality_df = pd.read_csv('data/information_centrality_sorted.csv')\n",
    "centrality_df.head()\n"
   ]
  },
  {
   "cell_type": "code",
   "execution_count": 8,
   "metadata": {},
   "outputs": [
    {
     "data": {
      "text/html": [
       "<div>\n",
       "<style scoped>\n",
       "    .dataframe tbody tr th:only-of-type {\n",
       "        vertical-align: middle;\n",
       "    }\n",
       "\n",
       "    .dataframe tbody tr th {\n",
       "        vertical-align: top;\n",
       "    }\n",
       "\n",
       "    .dataframe thead th {\n",
       "        text-align: right;\n",
       "    }\n",
       "</style>\n",
       "<table border=\"1\" class=\"dataframe\">\n",
       "  <thead>\n",
       "    <tr style=\"text-align: right;\">\n",
       "      <th></th>\n",
       "      <th>BioGRID ID Interactor A</th>\n",
       "      <th>BioGRID ID Interactor B</th>\n",
       "      <th>Official Symbol Interactor A</th>\n",
       "      <th>Official Symbol Interactor B</th>\n",
       "    </tr>\n",
       "  </thead>\n",
       "  <tbody>\n",
       "    <tr>\n",
       "      <th>0</th>\n",
       "      <td>31676</td>\n",
       "      <td>34272</td>\n",
       "      <td>CDC73</td>\n",
       "      <td>CTR9</td>\n",
       "    </tr>\n",
       "    <tr>\n",
       "      <th>1</th>\n",
       "      <td>34272</td>\n",
       "      <td>31676</td>\n",
       "      <td>CTR9</td>\n",
       "      <td>CDC73</td>\n",
       "    </tr>\n",
       "    <tr>\n",
       "      <th>2</th>\n",
       "      <td>31676</td>\n",
       "      <td>34518</td>\n",
       "      <td>CDC73</td>\n",
       "      <td>LEO1</td>\n",
       "    </tr>\n",
       "    <tr>\n",
       "      <th>3</th>\n",
       "      <td>34518</td>\n",
       "      <td>31676</td>\n",
       "      <td>LEO1</td>\n",
       "      <td>CDC73</td>\n",
       "    </tr>\n",
       "    <tr>\n",
       "      <th>4</th>\n",
       "      <td>31676</td>\n",
       "      <td>32973</td>\n",
       "      <td>CDC73</td>\n",
       "      <td>PAF1</td>\n",
       "    </tr>\n",
       "  </tbody>\n",
       "</table>\n",
       "</div>"
      ],
      "text/plain": [
       "   BioGRID ID Interactor A  BioGRID ID Interactor B  \\\n",
       "0                    31676                    34272   \n",
       "1                    34272                    31676   \n",
       "2                    31676                    34518   \n",
       "3                    34518                    31676   \n",
       "4                    31676                    32973   \n",
       "\n",
       "  Official Symbol Interactor A Official Symbol Interactor B  \n",
       "0                        CDC73                         CTR9  \n",
       "1                         CTR9                        CDC73  \n",
       "2                        CDC73                         LEO1  \n",
       "3                         LEO1                        CDC73  \n",
       "4                        CDC73                         PAF1  "
      ]
     },
     "execution_count": 8,
     "metadata": {},
     "output_type": "execute_result"
    }
   ],
   "source": [
    "cols_list = [3, 4, 7, 8]\n",
    "biogrid_df = pd.read_csv('../data/BIOGRID-ORGANISM-Saccharomyces_cerevisiae_S288c-4.4.210.tab3.txt', \n",
    "usecols=cols_list, sep=\"\t\")\n",
    "biogrid_df.head()"
   ]
  },
  {
   "cell_type": "code",
   "execution_count": 9,
   "metadata": {},
   "outputs": [
    {
     "data": {
      "text/plain": [
       "6029"
      ]
     },
     "execution_count": 9,
     "metadata": {},
     "output_type": "execute_result"
    }
   ],
   "source": [
    "ids_dict = {}\n",
    "keys = biogrid_df['BioGRID ID Interactor A'].tolist()\n",
    "values = biogrid_df['Official Symbol Interactor A'].tolist()\n",
    "for i in range(len(keys)):\n",
    "    ids_dict[keys[i]] = values[i]\n",
    "\n",
    "len(ids_dict)\n"
   ]
  },
  {
   "cell_type": "code",
   "execution_count": 10,
   "metadata": {},
   "outputs": [
    {
     "data": {
      "text/plain": [
       "1110"
      ]
     },
     "execution_count": 10,
     "metadata": {},
     "output_type": "execute_result"
    }
   ],
   "source": [
    "#biogrid_dict = set()\n",
    "#with open(r'C:\\Users\\Burcu\\Desktop\\EPPuGNN\\data\\BIOGRID-ORGANISM-Saccharomyces_cerevisiae_S288c-4.4.210.tab3.txt') as f:\n",
    "    \n",
    "\n",
    "essential_dict = set()\n",
    "with open('../data/deg_sc.dat') as f:\n",
    "    for line in f:\n",
    "        line = line.strip().split('\\t')\n",
    "        essential_dict.add(line[0])\n",
    "        \n",
    "len(essential_dict)\n"
   ]
  },
  {
   "cell_type": "code",
   "execution_count": 210,
   "metadata": {},
   "outputs": [
    {
     "data": {
      "text/plain": [
       "1102"
      ]
     },
     "execution_count": 210,
     "metadata": {},
     "output_type": "execute_result"
    }
   ],
   "source": [
    "biogrid_id_essential_dict = {}\n",
    "biogrid_essentials = set()\n",
    "for item in ids_dict.keys():\n",
    "    if ids_dict[item] in essential_dict:\n",
    "        biogrid_id_essential_dict[item] = 1\n",
    "        biogrid_essentials.add(item)\n",
    "\n",
    "len(biogrid_essentials)"
   ]
  },
  {
   "cell_type": "code",
   "execution_count": 211,
   "metadata": {},
   "outputs": [],
   "source": [
    "ess_df = pd.DataFrame(columns=['ID', 'Information_Centrality', 'Essentiality'])\n",
    "selected_columns = centrality_df[[\"ID\",\"Information_Centrality\"]]\n",
    "ess_df = selected_columns.copy()\n",
    "ess_df['Essentiality'] = 0"
   ]
  },
  {
   "cell_type": "code",
   "execution_count": 212,
   "metadata": {},
   "outputs": [],
   "source": [
    "essentials = []\n",
    "i= 0\n",
    "for item in centrality_df['ID'].tolist():\n",
    "    if item in biogrid_essentials:\n",
    "        essentials.append(item)\n",
    "        ess_df.at[i, 'Essentiality'] = 1\n",
    "    i += 1\n"
   ]
  },
  {
   "cell_type": "code",
   "execution_count": 213,
   "metadata": {},
   "outputs": [
    {
     "name": "stdout",
     "output_type": "stream",
     "text": [
      "Count of Essential Proteins :  1102\n"
     ]
    }
   ],
   "source": [
    "count = (ess_df['Essentiality'] == 1).sum()\n",
    "print('Count of Essential Proteins : ', count)\n",
    "        "
   ]
  },
  {
   "cell_type": "code",
   "execution_count": 214,
   "metadata": {},
   "outputs": [
    {
     "data": {
      "text/html": [
       "<div>\n",
       "<style scoped>\n",
       "    .dataframe tbody tr th:only-of-type {\n",
       "        vertical-align: middle;\n",
       "    }\n",
       "\n",
       "    .dataframe tbody tr th {\n",
       "        vertical-align: top;\n",
       "    }\n",
       "\n",
       "    .dataframe thead th {\n",
       "        text-align: right;\n",
       "    }\n",
       "</style>\n",
       "<table border=\"1\" class=\"dataframe\">\n",
       "  <thead>\n",
       "    <tr style=\"text-align: right;\">\n",
       "      <th></th>\n",
       "      <th>ID</th>\n",
       "      <th>Information_Centrality</th>\n",
       "      <th>Essentiality</th>\n",
       "    </tr>\n",
       "  </thead>\n",
       "  <tbody>\n",
       "    <tr>\n",
       "      <th>0</th>\n",
       "      <td>31903</td>\n",
       "      <td>0.000917</td>\n",
       "      <td>0</td>\n",
       "    </tr>\n",
       "    <tr>\n",
       "      <th>1</th>\n",
       "      <td>31745</td>\n",
       "      <td>0.000917</td>\n",
       "      <td>0</td>\n",
       "    </tr>\n",
       "    <tr>\n",
       "      <th>2</th>\n",
       "      <td>33129</td>\n",
       "      <td>0.000916</td>\n",
       "      <td>1</td>\n",
       "    </tr>\n",
       "    <tr>\n",
       "      <th>3</th>\n",
       "      <td>35368</td>\n",
       "      <td>0.000916</td>\n",
       "      <td>0</td>\n",
       "    </tr>\n",
       "    <tr>\n",
       "      <th>4</th>\n",
       "      <td>31107</td>\n",
       "      <td>0.000916</td>\n",
       "      <td>1</td>\n",
       "    </tr>\n",
       "  </tbody>\n",
       "</table>\n",
       "</div>"
      ],
      "text/plain": [
       "      ID  Information_Centrality  Essentiality\n",
       "0  31903                0.000917             0\n",
       "1  31745                0.000917             0\n",
       "2  33129                0.000916             1\n",
       "3  35368                0.000916             0\n",
       "4  31107                0.000916             1"
      ]
     },
     "execution_count": 214,
     "metadata": {},
     "output_type": "execute_result"
    }
   ],
   "source": [
    "ess_df.head()"
   ]
  },
  {
   "cell_type": "code",
   "execution_count": 215,
   "metadata": {},
   "outputs": [],
   "source": [
    "ess_df.to_csv('data/information_centrality_ess.csv', index=False)"
   ]
  }
 ],
 "metadata": {
  "kernelspec": {
   "display_name": "Python 3.9.6 64-bit",
   "language": "python",
   "name": "python3"
  },
  "language_info": {
   "codemirror_mode": {
    "name": "ipython",
    "version": 3
   },
   "file_extension": ".py",
   "mimetype": "text/x-python",
   "name": "python",
   "nbconvert_exporter": "python",
   "pygments_lexer": "ipython3",
   "version": "3.9.6"
  },
  "orig_nbformat": 4,
  "vscode": {
   "interpreter": {
    "hash": "11938c6bc6919ae2720b4d5011047913343b08a43b18698fd82dedb0d4417594"
   }
  }
 },
 "nbformat": 4,
 "nbformat_minor": 2
}

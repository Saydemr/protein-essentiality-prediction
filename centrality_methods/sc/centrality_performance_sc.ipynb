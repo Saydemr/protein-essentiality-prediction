{
 "cells": [
  {
   "cell_type": "code",
   "execution_count": 21,
   "metadata": {},
   "outputs": [],
   "source": [
    "import pandas as pd\n",
    "import numpy as np\n",
    "import time"
   ]
  },
  {
   "cell_type": "code",
   "execution_count": 22,
   "metadata": {},
   "outputs": [],
   "source": [
    "centrality_methods = [\"data/betweenness_centrality_ess.csv\", \"data/closeness_centrality_ess.csv\", \n",
    "          \"data/degree_centrality_ess.csv\", \"data/eigenvector_centrality_ess.csv\", \n",
    "          \"data/information_centrality_ess.csv\"]\n",
    "fill = [0, 0, 0]"
   ]
  },
  {
   "cell_type": "code",
   "execution_count": 23,
   "metadata": {},
   "outputs": [
    {
     "data": {
      "text/html": [
       "<div>\n",
       "<style scoped>\n",
       "    .dataframe tbody tr th:only-of-type {\n",
       "        vertical-align: middle;\n",
       "    }\n",
       "\n",
       "    .dataframe tbody tr th {\n",
       "        vertical-align: top;\n",
       "    }\n",
       "\n",
       "    .dataframe thead th {\n",
       "        text-align: right;\n",
       "    }\n",
       "</style>\n",
       "<table border=\"1\" class=\"dataframe\">\n",
       "  <thead>\n",
       "    <tr style=\"text-align: right;\">\n",
       "      <th></th>\n",
       "      <th>Centrality_Method</th>\n",
       "      <th>Accuracy</th>\n",
       "      <th>F1 Score</th>\n",
       "      <th>ROC AUC</th>\n",
       "      <th>Precision</th>\n",
       "      <th>Recall</th>\n",
       "      <th>Time</th>\n",
       "    </tr>\n",
       "  </thead>\n",
       "  <tbody>\n",
       "  </tbody>\n",
       "</table>\n",
       "</div>"
      ],
      "text/plain": [
       "Empty DataFrame\n",
       "Columns: [Centrality_Method, Accuracy, F1 Score, ROC AUC, Precision, Recall, Time]\n",
       "Index: []"
      ]
     },
     "execution_count": 23,
     "metadata": {},
     "output_type": "execute_result"
    }
   ],
   "source": [
    "results = pd.DataFrame(columns= ['Centrality_Method', 'Accuracy', 'F1 Score', 'ROC AUC', 'Precision', 'Recall', 'Time'])\n",
    "results.head()\n",
    "\n"
   ]
  },
  {
   "cell_type": "code",
   "execution_count": 24,
   "metadata": {},
   "outputs": [
    {
     "data": {
      "text/html": [
       "<div>\n",
       "<style scoped>\n",
       "    .dataframe tbody tr th:only-of-type {\n",
       "        vertical-align: middle;\n",
       "    }\n",
       "\n",
       "    .dataframe tbody tr th {\n",
       "        vertical-align: top;\n",
       "    }\n",
       "\n",
       "    .dataframe thead th {\n",
       "        text-align: right;\n",
       "    }\n",
       "</style>\n",
       "<table border=\"1\" class=\"dataframe\">\n",
       "  <thead>\n",
       "    <tr style=\"text-align: right;\">\n",
       "      <th></th>\n",
       "      <th>__</th>\n",
       "      <th>Predicted_Positive</th>\n",
       "      <th>Predicted_Negative</th>\n",
       "    </tr>\n",
       "  </thead>\n",
       "  <tbody>\n",
       "    <tr>\n",
       "      <th>0</th>\n",
       "      <td>Actual_Positive</td>\n",
       "      <td>NaN</td>\n",
       "      <td>NaN</td>\n",
       "    </tr>\n",
       "    <tr>\n",
       "      <th>1</th>\n",
       "      <td>Actual_Negative</td>\n",
       "      <td>NaN</td>\n",
       "      <td>NaN</td>\n",
       "    </tr>\n",
       "  </tbody>\n",
       "</table>\n",
       "</div>"
      ],
      "text/plain": [
       "                __ Predicted_Positive Predicted_Negative\n",
       "0  Actual_Positive                NaN                NaN\n",
       "1  Actual_Negative                NaN                NaN"
      ]
     },
     "execution_count": 24,
     "metadata": {},
     "output_type": "execute_result"
    }
   ],
   "source": [
    "diagram = pd.DataFrame(columns= ['__', 'Predicted_Positive', 'Predicted_Negative'])\n",
    "col = ['Actual_Positive', 'Actual_Negative']\n",
    "diagram['__'] = col\n",
    "diagram.head()"
   ]
  },
  {
   "cell_type": "code",
   "execution_count": 25,
   "metadata": {},
   "outputs": [
    {
     "name": "stdout",
     "output_type": "stream",
     "text": [
      "\n",
      "Metric:  data/betweenness_centrality_ess.csv\n",
      "Accuracy:  0.7639433736994713\n",
      "F1 Score:  0.3651376146788991\n",
      "Precision:  0.3651376146788991\n",
      "Recall:  0.3651376146788991\n",
      "ROC AUC: 0.6100777115925399\n",
      "time taken:  0.011301517486572266\n",
      "\n",
      "\n",
      "Metric:  data/closeness_centrality_ess.csv\n",
      "Accuracy:  0.771448064130991\n",
      "F1 Score:  0.3853211009174312\n",
      "Precision:  0.3853211009174312\n",
      "Recall:  0.3853211009174312\n",
      "ROC AUC: 0.6224740849234128\n",
      "time taken:  0.011190652847290039\n",
      "\n",
      "\n",
      "Metric:  data/degree_centrality_ess.csv\n",
      "Accuracy:  0.7734947978850418\n",
      "F1 Score:  0.3908256880733945\n",
      "Precision:  0.3908256880733945\n",
      "Recall:  0.3908256880733945\n",
      "ROC AUC: 0.6258549140136508\n",
      "time taken:  0.010475397109985352\n",
      "\n",
      "\n",
      "Metric:  data/eigenvector_centrality_ess.csv\n",
      "Accuracy:  0.7803172437318778\n",
      "F1 Score:  0.4091743119266055\n",
      "Precision:  0.4091743119266055\n",
      "Recall:  0.4091743119266055\n",
      "ROC AUC: 0.6371243443144446\n",
      "time taken:  0.009624481201171875\n",
      "\n",
      "\n",
      "Metric:  data/information_centrality_ess.csv\n",
      "Accuracy:  0.7734947978850418\n",
      "F1 Score:  0.3908256880733945\n",
      "Precision:  0.3908256880733945\n",
      "Recall:  0.3908256880733945\n",
      "ROC AUC: 0.6258549140136508\n",
      "time taken:  0.00751042366027832\n",
      "\n"
     ]
    }
   ],
   "source": [
    "for i in centrality_methods:\n",
    "    first = time.time()\n",
    "    centrality_df = pd.read_csv(i)\n",
    "    results.at[i, 'Centrality_Method'] = i\n",
    "    index = 0\n",
    "\n",
    "    actuals = centrality_df['Essentiality'].to_numpy() \n",
    "    preds = np.concatenate((np.ones(1090, dtype=int),np.zeros(actuals.shape[0]- 1090, dtype=int)))\n",
    "\n",
    "    \n",
    "    from sklearn.metrics import accuracy_score, precision_score, recall_score, f1_score, roc_auc_score, confusion_matrix\n",
    "\n",
    "    accuracy = accuracy_score(actuals, preds)\n",
    "    precision = precision_score(actuals, preds)\n",
    "    recall = recall_score(actuals, preds)\n",
    "    roc_auc = roc_auc_score(actuals, preds)\n",
    "    f1 = f1_score(actuals, preds)\n",
    "\n",
    "\n",
    "    last = time.time()\n",
    "\n",
    "    row = [i, accuracy, f1, roc_auc, precision, recall, last-first]\n",
    "    results.loc[i] = row\n",
    "    results.to_csv('data/results.csv', index=False)\n",
    "\n",
    "    print()\n",
    "    print(\"Metric: \", i)\n",
    "    print('Accuracy: ', accuracy)\n",
    "    print('F1 Score: ', f1)\n",
    "    print('Precision: ', precision)\n",
    "    print('Recall: ', recall)\n",
    "    print(\"ROC AUC:\", roc_auc)\n",
    "    print(\"time taken: \", last-first)\n",
    "    print()"
   ]
  }
 ],
 "metadata": {
  "kernelspec": {
   "display_name": "Python 3.9.6 64-bit",
   "language": "python",
   "name": "python3"
  },
  "language_info": {
   "codemirror_mode": {
    "name": "ipython",
    "version": 3
   },
   "file_extension": ".py",
   "mimetype": "text/x-python",
   "name": "python",
   "nbconvert_exporter": "python",
   "pygments_lexer": "ipython3",
   "version": "3.10.4"
  },
  "orig_nbformat": 4,
  "vscode": {
   "interpreter": {
    "hash": "11938c6bc6919ae2720b4d5011047913343b08a43b18698fd82dedb0d4417594"
   }
  }
 },
 "nbformat": 4,
 "nbformat_minor": 2
}

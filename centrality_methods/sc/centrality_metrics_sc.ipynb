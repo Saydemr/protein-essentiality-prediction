{
 "cells": [
  {
   "cell_type": "code",
   "execution_count": 17,
   "id": "0a66a083-5133-46dd-b965-4fe003628782",
   "metadata": {},
   "outputs": [],
   "source": [
    "import pandas as pd\n",
    "import numpy as np\n",
    "import networkx as nx\n",
    "import csv\n",
    "import time"
   ]
  },
  {
   "cell_type": "markdown",
   "id": "ee796193-2d92-4ea5-ada5-244329e89d77",
   "metadata": {},
   "source": [
    "# time taken \n",
    "    time taken for converting from dataframe to edgelist + the execution of centrality methods + the performance of centrality methods\n",
    "    - degree centrality :     1.70457720757\n",
    "    - betweenness centrality: 1682.27747369\n",
    "    - eigenvector centrality: 3.24722242355\n",
    "    - closeness centrality:   688.401843309\n",
    "    - information centrality: 450.399503708"
   ]
  },
  {
   "cell_type": "code",
   "execution_count": 18,
   "id": "2d934cc4-0093-41a1-928b-47e0e8006c66",
   "metadata": {},
   "outputs": [
    {
     "data": {
      "text/html": [
       "<div>\n",
       "<style scoped>\n",
       "    .dataframe tbody tr th:only-of-type {\n",
       "        vertical-align: middle;\n",
       "    }\n",
       "\n",
       "    .dataframe tbody tr th {\n",
       "        vertical-align: top;\n",
       "    }\n",
       "\n",
       "    .dataframe thead th {\n",
       "        text-align: right;\n",
       "    }\n",
       "</style>\n",
       "<table border=\"1\" class=\"dataframe\">\n",
       "  <thead>\n",
       "    <tr style=\"text-align: right;\">\n",
       "      <th></th>\n",
       "      <th>BioGRID ID Interactor A</th>\n",
       "      <th>BioGRID ID Interactor B</th>\n",
       "    </tr>\n",
       "  </thead>\n",
       "  <tbody>\n",
       "    <tr>\n",
       "      <th>0</th>\n",
       "      <td>851136</td>\n",
       "      <td>854020</td>\n",
       "    </tr>\n",
       "    <tr>\n",
       "      <th>1</th>\n",
       "      <td>851136</td>\n",
       "      <td>854290</td>\n",
       "    </tr>\n",
       "    <tr>\n",
       "      <th>2</th>\n",
       "      <td>851136</td>\n",
       "      <td>852582</td>\n",
       "    </tr>\n",
       "    <tr>\n",
       "      <th>3</th>\n",
       "      <td>851136</td>\n",
       "      <td>854933</td>\n",
       "    </tr>\n",
       "    <tr>\n",
       "      <th>4</th>\n",
       "      <td>851136</td>\n",
       "      <td>852607</td>\n",
       "    </tr>\n",
       "  </tbody>\n",
       "</table>\n",
       "</div>"
      ],
      "text/plain": [
       "   BioGRID ID Interactor A  BioGRID ID Interactor B\n",
       "0                   851136                   854020\n",
       "1                   851136                   854290\n",
       "2                   851136                   852582\n",
       "3                   851136                   854933\n",
       "4                   851136                   852607"
      ]
     },
     "execution_count": 18,
     "metadata": {},
     "output_type": "execute_result"
    }
   ],
   "source": [
    "#biogrid_ppi_df = pd.read_csv('BIOGRID-ORGANISM-Saccharomyces_cerevisiae.csv', usecols=['BioGRID ID Interactor A', 'BioGRID ID Interactor B'])\n",
    "#ppi_df = pd.read_csv('data/sc_ppi_graph.csv')\n",
    "cols_list = [\"BioGRID ID Interactor A\", \"BioGRID ID Interactor B\"]\n",
    "ppi_df = pd.read_csv('../../data/sc_ppi_graph.csv', \n",
    "    usecols=cols_list, sep=\"\t\")\n",
    "\n",
    "ppi_df.head()"
   ]
  },
  {
   "cell_type": "code",
   "execution_count": 19,
   "id": "77919a17-7e86-4d11-b6f0-20fe1cbe1ab4",
   "metadata": {},
   "outputs": [
    {
     "data": {
      "text/plain": [
       "(70000, 2)"
      ]
     },
     "execution_count": 19,
     "metadata": {},
     "output_type": "execute_result"
    }
   ],
   "source": [
    "ppi_test_df = ppi_df.iloc[:70000,:]\n",
    "ppi_test_df.shape"
   ]
  },
  {
   "cell_type": "code",
   "execution_count": 20,
   "id": "60064e19-a342-463b-b392-b4f0f60ca31a",
   "metadata": {},
   "outputs": [
    {
     "name": "stdout",
     "output_type": "stream",
     "text": [
      "1.3346526622772217\n"
     ]
    }
   ],
   "source": [
    "#read edgelists\n",
    "\n",
    "#for raw biogrid data:\n",
    "#biogrid_ppi_graph = nx.from_pandas_edgelist(biogrid_ppi_df, source=\"BioGRID ID Interactor A\", target=\"BioGRID ID Interactor B\")\n",
    "#ppi_test_graph = nx.from_pandas_edgelist(ppi_test_df, source=\"BioGRID ID Interactor A\", target=\"BioGRID ID Interactor B\")\n",
    "\n",
    "start = time.time()\n",
    "\n",
    "ppi_graph = nx.from_pandas_edgelist(ppi_df, source=\"BioGRID ID Interactor A\", target=\"BioGRID ID Interactor B\")\n",
    "\n",
    "end = time.time()\n",
    "print(end - start)"
   ]
  },
  {
   "cell_type": "code",
   "execution_count": 21,
   "id": "78a8da07-bac1-4e8c-a059-6a878af7ae8c",
   "metadata": {},
   "outputs": [
    {
     "name": "stderr",
     "output_type": "stream",
     "text": [
      "/tmp/ipykernel_65230/994478436.py:1: DeprecationWarning: info is deprecated and will be removed in version 3.0.\n",
      "\n",
      "  nx.info(ppi_graph)\n"
     ]
    },
    {
     "data": {
      "text/plain": [
       "'Graph with 5863 nodes and 548388 edges'"
      ]
     },
     "execution_count": 21,
     "metadata": {},
     "output_type": "execute_result"
    }
   ],
   "source": [
    "nx.info(ppi_graph)"
   ]
  },
  {
   "cell_type": "code",
   "execution_count": 22,
   "id": "a5337767",
   "metadata": {},
   "outputs": [],
   "source": [
    "degree_centrality = nx.degree_centrality(ppi_graph)\n",
    "dg_df = pd.DataFrame(list(degree_centrality.items()), columns=['ID', 'Degree_Centrality'])\n",
    "dg_df.head()\n",
    "dg_df = dg_df.sort_values(by=[\"Degree_Centrality\"], ascending=False)\n",
    "dg_df.head()\n",
    "dg_df.to_csv('data/degree_centrality_sorted.csv', index=False)"
   ]
  },
  {
   "cell_type": "code",
   "execution_count": 23,
   "id": "34bd7d09-94f9-4a60-8930-87a4f2cc27e4",
   "metadata": {},
   "outputs": [],
   "source": [
    "betweenness_centrality = nx.betweenness_centrality(ppi_graph)\n",
    "dg_df = pd.DataFrame(list(betweenness_centrality.items()), columns=['ID', 'Betweenness_Centrality'])\n",
    "dg_df.head()\n",
    "dg_df = dg_df.sort_values(by=[\"Betweenness_Centrality\"], ascending=False)\n",
    "dg_df.head()\n",
    "dg_df.to_csv('data/betweenness_centrality_sorted.csv', index=False)"
   ]
  },
  {
   "cell_type": "code",
   "execution_count": 24,
   "id": "38fd591f-b1c6-4575-908a-2f58c1ca6048",
   "metadata": {},
   "outputs": [],
   "source": [
    "closeness_centrality = nx.closeness_centrality(ppi_graph)\n",
    "dg_df = pd.DataFrame(list(closeness_centrality.items()), columns=['ID', 'Closeness_Centrality'])\n",
    "dg_df.head()\n",
    "dg_df = dg_df.sort_values(by=[\"Closeness_Centrality\"], ascending=False)\n",
    "dg_df.head()\n",
    "dg_df.to_csv('data/closeness_centrality_sorted.csv', index=False)"
   ]
  },
  {
   "cell_type": "code",
   "execution_count": 25,
   "id": "0333956c-bbbe-4bf9-a266-f505503b6deb",
   "metadata": {},
   "outputs": [],
   "source": [
    "eigenvector_centrality = nx.eigenvector_centrality(ppi_graph)\n",
    "dg_df = pd.DataFrame(list(eigenvector_centrality.items()), columns=['ID', 'Eigenvector_Centrality'])\n",
    "dg_df.head()\n",
    "dg_df = dg_df.sort_values(by=[\"Eigenvector_Centrality\"], ascending=False)\n",
    "dg_df.head()\n",
    "dg_df.to_csv('data/eigenvector_centrality_sorted.csv', index=False)"
   ]
  },
  {
   "cell_type": "code",
   "execution_count": 26,
   "id": "0285166a",
   "metadata": {},
   "outputs": [
    {
     "name": "stderr",
     "output_type": "stream",
     "text": [
      "<class 'networkx.utils.decorators.argmap'> compilation 28:4: FutureWarning: laplacian_matrix will return a scipy.sparse array instead of a matrix in Networkx 3.0.\n"
     ]
    }
   ],
   "source": [
    "information_centrality = nx.information_centrality(ppi_graph)\n",
    "nx.centrali\n",
    "dg_df = pd.DataFrame(list(information_centrality.items()), columns=['ID', 'Information_Centrality'])\n",
    "dg_df.head()\n",
    "dg_df = dg_df.sort_values(by=[\"Information_Centrality\"], ascending=False)\n",
    "dg_df.head()\n",
    "dg_df.to_csv('data/information_centrality_sorted.csv', index=False)"
   ]
  },
  {
   "cell_type": "markdown",
   "id": "68aae216-de41-480e-b36f-113fa1abdab0",
   "metadata": {},
   "source": [
    "## sorting csv files"
   ]
  },
  {
   "cell_type": "code",
   "execution_count": 27,
   "id": "8afc4ba8-33e5-49a2-add5-22fd171d5c44",
   "metadata": {},
   "outputs": [],
   "source": [
    "#cl_df = pd.read_csv(\"closeness_cent.csv\")\n",
    "#bt_df = pd.read_csv(\"betweenness_cent.csv\")\n",
    "#info_df = pd.read_csv(\"information_cent.csv\")\n",
    "#dg_df = pd.read_csv(\"degree_cent.csv\")\n",
    "#eig_df = pd.read_csv(\"eigenvector_cent.csv\")\n"
   ]
  },
  {
   "cell_type": "code",
   "execution_count": 28,
   "id": "c927e6f7-81b8-4b59-bdbf-9e5b2ac5f980",
   "metadata": {},
   "outputs": [],
   "source": [
    "#eig_df = eig_df.sort_values(by=[\"Eigenvector_Centrality\"], ascending=False)\n",
    "#bt_df = bt_df.sort_values(by=[\"Betweenness_Centrality\"], ascending=False)\n",
    "#info_df = info_df.sort_values(by=[\"Information_Centrality\"], ascending=False)\n",
    "#cl_df = cl_df.sort_values(by=[\"Closeness_Centrality\"], ascending=False)\n",
    "#dg_df = dg_df.sort_values(by=[\"Degree_Centrality\"], ascending=False)\n",
    "\n",
    "\n"
   ]
  },
  {
   "cell_type": "code",
   "execution_count": 29,
   "id": "9415e101-361f-4078-8d8b-afb0f7444ebe",
   "metadata": {},
   "outputs": [],
   "source": [
    "#eig_df.to_csv('eigenvector_centrality_sorted.csv', index=False)\n",
    "#bt_df.to_csv('betweenness_centrality_sorted.csv', index=False)\n",
    "#info_df.to_csv('information_centrality_sorted.csv', index=False)\n",
    "#cl_df.to_csv('closeness_centrality_sorted.csv', index=False)\n",
    "#dg_df.to_csv('degree_centrality_sorted.csv', index=False)"
   ]
  },
  {
   "cell_type": "code",
   "execution_count": null,
   "id": "35b60cd9-9087-4923-acd2-2ebf651c55d7",
   "metadata": {},
   "outputs": [],
   "source": []
  }
 ],
 "metadata": {
  "kernelspec": {
   "display_name": "Python 3.9.6 64-bit",
   "language": "python",
   "name": "python3"
  },
  "language_info": {
   "codemirror_mode": {
    "name": "ipython",
    "version": 3
   },
   "file_extension": ".py",
   "mimetype": "text/x-python",
   "name": "python",
   "nbconvert_exporter": "python",
   "pygments_lexer": "ipython3",
   "version": "3.8.13"
  },
  "vscode": {
   "interpreter": {
    "hash": "11938c6bc6919ae2720b4d5011047913343b08a43b18698fd82dedb0d4417594"
   }
  }
 },
 "nbformat": 4,
 "nbformat_minor": 5
}

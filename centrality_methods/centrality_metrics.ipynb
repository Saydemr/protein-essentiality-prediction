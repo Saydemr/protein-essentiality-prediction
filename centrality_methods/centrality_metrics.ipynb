{
 "cells": [
  {
   "cell_type": "code",
   "execution_count": 33,
   "id": "0a66a083-5133-46dd-b965-4fe003628782",
   "metadata": {},
   "outputs": [],
   "source": [
    "import pandas as pd\n",
    "import numpy as np\n",
    "import networkx as nx\n",
    "import csv\n",
    "import time"
   ]
  },
  {
   "cell_type": "markdown",
   "id": "ee796193-2d92-4ea5-ada5-244329e89d77",
   "metadata": {},
   "source": [
    "# time taken \n",
    "    time taken for converting from dataframe to edgelist + the execution of centrality methods\n",
    "    - degree centrality :     0.7760589122772217\n",
    "    - betweenness centrality: 1681.2234003543854\n",
    "    - eigenvector centrality: 2.372574806213379\n",
    "    - closeness centrality:   687.2928204536438\n",
    "    - information centrality: 449.54161286354065"
   ]
  },
  {
   "cell_type": "code",
   "execution_count": 35,
   "id": "2d934cc4-0093-41a1-928b-47e0e8006c66",
   "metadata": {},
   "outputs": [
    {
     "data": {
      "text/html": [
       "<div>\n",
       "<style scoped>\n",
       "    .dataframe tbody tr th:only-of-type {\n",
       "        vertical-align: middle;\n",
       "    }\n",
       "\n",
       "    .dataframe tbody tr th {\n",
       "        vertical-align: top;\n",
       "    }\n",
       "\n",
       "    .dataframe thead th {\n",
       "        text-align: right;\n",
       "    }\n",
       "</style>\n",
       "<table border=\"1\" class=\"dataframe\">\n",
       "  <thead>\n",
       "    <tr style=\"text-align: right;\">\n",
       "      <th></th>\n",
       "      <th>A</th>\n",
       "      <th>B</th>\n",
       "    </tr>\n",
       "  </thead>\n",
       "  <tbody>\n",
       "    <tr>\n",
       "      <th>0</th>\n",
       "      <td>31676</td>\n",
       "      <td>34272</td>\n",
       "    </tr>\n",
       "    <tr>\n",
       "      <th>1</th>\n",
       "      <td>31676</td>\n",
       "      <td>34518</td>\n",
       "    </tr>\n",
       "    <tr>\n",
       "      <th>2</th>\n",
       "      <td>31676</td>\n",
       "      <td>32973</td>\n",
       "    </tr>\n",
       "    <tr>\n",
       "      <th>3</th>\n",
       "      <td>31676</td>\n",
       "      <td>35097</td>\n",
       "    </tr>\n",
       "    <tr>\n",
       "      <th>4</th>\n",
       "      <td>31676</td>\n",
       "      <td>32996</td>\n",
       "    </tr>\n",
       "  </tbody>\n",
       "</table>\n",
       "</div>"
      ],
      "text/plain": [
       "       A      B\n",
       "0  31676  34272\n",
       "1  31676  34518\n",
       "2  31676  32973\n",
       "3  31676  35097\n",
       "4  31676  32996"
      ]
     },
     "execution_count": 35,
     "metadata": {},
     "output_type": "execute_result"
    }
   ],
   "source": [
    "#biogrid_ppi_df = pd.read_csv('BIOGRID-ORGANISM-Saccharomyces_cerevisiae.csv', usecols=['BioGRID ID Interactor A', 'BioGRID ID Interactor B'])\n",
    "ppi_df = pd.read_csv('data/sc_ppi_graph.csv')\n",
    "ppi_df.head()"
   ]
  },
  {
   "cell_type": "code",
   "execution_count": 3,
   "id": "77919a17-7e86-4d11-b6f0-20fe1cbe1ab4",
   "metadata": {},
   "outputs": [
    {
     "data": {
      "text/plain": [
       "(70000, 2)"
      ]
     },
     "execution_count": 3,
     "metadata": {},
     "output_type": "execute_result"
    }
   ],
   "source": [
    "ppi_test_df = ppi_df.iloc[:70000,:]\n",
    "ppi_test_df.shape"
   ]
  },
  {
   "cell_type": "code",
   "execution_count": 29,
   "id": "60064e19-a342-463b-b392-b4f0f60ca31a",
   "metadata": {},
   "outputs": [
    {
     "name": "stdout",
     "output_type": "stream",
     "text": [
      "0.6825523376464844\n"
     ]
    }
   ],
   "source": [
    "#read edgelists\n",
    "\n",
    "#for raw biogrid data:\n",
    "#biogrid_ppi_graph = nx.from_pandas_edgelist(biogrid_ppi_df, source=\"BioGRID ID Interactor A\", target=\"BioGRID ID Interactor B\")\n",
    "#ppi_test_graph = nx.from_pandas_edgelist(ppi_test_df, source=\"BioGRID ID Interactor A\", target=\"BioGRID ID Interactor B\")\n",
    "\n",
    "start = time.time()\n",
    "\n",
    "ppi_graph = nx.from_pandas_edgelist(ppi_df, source=\"A\", target=\"B\")\n",
    "\n",
    "end = time.time()\n",
    "print(end - start)"
   ]
  },
  {
   "cell_type": "code",
   "execution_count": 30,
   "id": "78a8da07-bac1-4e8c-a059-6a878af7ae8c",
   "metadata": {},
   "outputs": [
    {
     "data": {
      "text/plain": [
       "'Graph with 7349 nodes and 566706 edges'"
      ]
     },
     "execution_count": 30,
     "metadata": {},
     "output_type": "execute_result"
    }
   ],
   "source": [
    "nx.info(ppi_graph)"
   ]
  },
  {
   "cell_type": "code",
   "execution_count": 36,
   "id": "1b8f13e3-502f-4ef3-a877-3427ebe9a991",
   "metadata": {},
   "outputs": [],
   "source": [
    "# degree centrality\n",
    "start = time.time()\n",
    "degree_centrality = nx.degree_centrality(ppi_graph)"
   ]
  },
  {
   "cell_type": "code",
   "execution_count": 37,
   "id": "5c93bee3-49bd-487d-aeca-5c59b4a52a06",
   "metadata": {},
   "outputs": [
    {
     "name": "stdout",
     "output_type": "stream",
     "text": [
      "0.43207287788391113\n"
     ]
    }
   ],
   "source": [
    "import csv\n",
    "deg_cent = open(\"data/degree_cent.csv\", \"w\")\n",
    "fields = [\"ID\", \"Degree_Centrality\"]\n",
    "\n",
    "writer = csv.writer(deg_cent)\n",
    "writer.writerow(fields)\n",
    "for key, value in degree_centrality.items():\n",
    "    writer.writerow([key, value])\n",
    "\n",
    "deg_cent.close()\n",
    "end = time.time()\n",
    "print(end-start)"
   ]
  },
  {
   "cell_type": "code",
   "execution_count": 38,
   "id": "34bd7d09-94f9-4a60-8930-87a4f2cc27e4",
   "metadata": {},
   "outputs": [
    {
     "ename": "KeyboardInterrupt",
     "evalue": "",
     "output_type": "error",
     "traceback": [
      "\u001b[1;31m---------------------------------------------------------------------------\u001b[0m",
      "\u001b[1;31mKeyboardInterrupt\u001b[0m                         Traceback (most recent call last)",
      "\u001b[1;32m~\\AppData\\Local\\Temp/ipykernel_9428/1512952419.py\u001b[0m in \u001b[0;36m<module>\u001b[1;34m\u001b[0m\n\u001b[0;32m      1\u001b[0m \u001b[0mstart\u001b[0m \u001b[1;33m=\u001b[0m \u001b[0mtime\u001b[0m\u001b[1;33m.\u001b[0m\u001b[0mtime\u001b[0m\u001b[1;33m(\u001b[0m\u001b[1;33m)\u001b[0m\u001b[1;33m\u001b[0m\u001b[1;33m\u001b[0m\u001b[0m\n\u001b[1;32m----> 2\u001b[1;33m \u001b[0mbetweenness_centrality\u001b[0m \u001b[1;33m=\u001b[0m \u001b[0mnx\u001b[0m\u001b[1;33m.\u001b[0m\u001b[0mbetweenness_centrality\u001b[0m\u001b[1;33m(\u001b[0m\u001b[0mppi_graph\u001b[0m\u001b[1;33m)\u001b[0m\u001b[1;33m\u001b[0m\u001b[1;33m\u001b[0m\u001b[0m\n\u001b[0m\u001b[0;32m      3\u001b[0m \u001b[1;31m#print(betweenness_centrality)\u001b[0m\u001b[1;33m\u001b[0m\u001b[1;33m\u001b[0m\u001b[1;33m\u001b[0m\u001b[0m\n",
      "\u001b[1;32m~\\AppData\\Roaming\\Python\\Python39\\site-packages\\networkx\\utils\\decorators.py\u001b[0m in \u001b[0;36margmap_betweenness_centrality_5\u001b[1;34m(G, k, normalized, weight, endpoints, seed)\u001b[0m\n\u001b[0;32m      3\u001b[0m \u001b[1;32mfrom\u001b[0m \u001b[0mcontextlib\u001b[0m \u001b[1;32mimport\u001b[0m \u001b[0mcontextmanager\u001b[0m\u001b[1;33m\u001b[0m\u001b[1;33m\u001b[0m\u001b[0m\n\u001b[0;32m      4\u001b[0m \u001b[1;32mfrom\u001b[0m \u001b[0mpathlib\u001b[0m \u001b[1;32mimport\u001b[0m \u001b[0mPath\u001b[0m\u001b[1;33m\u001b[0m\u001b[1;33m\u001b[0m\u001b[0m\n\u001b[1;32m----> 5\u001b[1;33m \u001b[1;32mimport\u001b[0m \u001b[0mwarnings\u001b[0m\u001b[1;33m\u001b[0m\u001b[1;33m\u001b[0m\u001b[0m\n\u001b[0m\u001b[0;32m      6\u001b[0m \u001b[1;33m\u001b[0m\u001b[0m\n\u001b[0;32m      7\u001b[0m \u001b[1;32mimport\u001b[0m \u001b[0mnetworkx\u001b[0m \u001b[1;32mas\u001b[0m \u001b[0mnx\u001b[0m\u001b[1;33m\u001b[0m\u001b[1;33m\u001b[0m\u001b[0m\n",
      "\u001b[1;32m~\\AppData\\Roaming\\Python\\Python39\\site-packages\\networkx\\algorithms\\centrality\\betweenness.py\u001b[0m in \u001b[0;36mbetweenness_centrality\u001b[1;34m(G, k, normalized, weight, endpoints, seed)\u001b[0m\n\u001b[0;32m    127\u001b[0m         \u001b[1;31m# single source shortest paths\u001b[0m\u001b[1;33m\u001b[0m\u001b[1;33m\u001b[0m\u001b[1;33m\u001b[0m\u001b[0m\n\u001b[0;32m    128\u001b[0m         \u001b[1;32mif\u001b[0m \u001b[0mweight\u001b[0m \u001b[1;32mis\u001b[0m \u001b[1;32mNone\u001b[0m\u001b[1;33m:\u001b[0m  \u001b[1;31m# use BFS\u001b[0m\u001b[1;33m\u001b[0m\u001b[1;33m\u001b[0m\u001b[0m\n\u001b[1;32m--> 129\u001b[1;33m             \u001b[0mS\u001b[0m\u001b[1;33m,\u001b[0m \u001b[0mP\u001b[0m\u001b[1;33m,\u001b[0m \u001b[0msigma\u001b[0m\u001b[1;33m,\u001b[0m \u001b[0m_\u001b[0m \u001b[1;33m=\u001b[0m \u001b[0m_single_source_shortest_path_basic\u001b[0m\u001b[1;33m(\u001b[0m\u001b[0mG\u001b[0m\u001b[1;33m,\u001b[0m \u001b[0ms\u001b[0m\u001b[1;33m)\u001b[0m\u001b[1;33m\u001b[0m\u001b[1;33m\u001b[0m\u001b[0m\n\u001b[0m\u001b[0;32m    130\u001b[0m         \u001b[1;32melse\u001b[0m\u001b[1;33m:\u001b[0m  \u001b[1;31m# use Dijkstra's algorithm\u001b[0m\u001b[1;33m\u001b[0m\u001b[1;33m\u001b[0m\u001b[0m\n\u001b[0;32m    131\u001b[0m             \u001b[0mS\u001b[0m\u001b[1;33m,\u001b[0m \u001b[0mP\u001b[0m\u001b[1;33m,\u001b[0m \u001b[0msigma\u001b[0m\u001b[1;33m,\u001b[0m \u001b[0m_\u001b[0m \u001b[1;33m=\u001b[0m \u001b[0m_single_source_dijkstra_path_basic\u001b[0m\u001b[1;33m(\u001b[0m\u001b[0mG\u001b[0m\u001b[1;33m,\u001b[0m \u001b[0ms\u001b[0m\u001b[1;33m,\u001b[0m \u001b[0mweight\u001b[0m\u001b[1;33m)\u001b[0m\u001b[1;33m\u001b[0m\u001b[1;33m\u001b[0m\u001b[0m\n",
      "\u001b[1;32m~\\AppData\\Roaming\\Python\\Python39\\site-packages\\networkx\\algorithms\\centrality\\betweenness.py\u001b[0m in \u001b[0;36m_single_source_shortest_path_basic\u001b[1;34m(G, s)\u001b[0m\n\u001b[0;32m    270\u001b[0m                 \u001b[0mQ\u001b[0m\u001b[1;33m.\u001b[0m\u001b[0mappend\u001b[0m\u001b[1;33m(\u001b[0m\u001b[0mw\u001b[0m\u001b[1;33m)\u001b[0m\u001b[1;33m\u001b[0m\u001b[1;33m\u001b[0m\u001b[0m\n\u001b[0;32m    271\u001b[0m                 \u001b[0mD\u001b[0m\u001b[1;33m[\u001b[0m\u001b[0mw\u001b[0m\u001b[1;33m]\u001b[0m \u001b[1;33m=\u001b[0m \u001b[0mDv\u001b[0m \u001b[1;33m+\u001b[0m \u001b[1;36m1\u001b[0m\u001b[1;33m\u001b[0m\u001b[1;33m\u001b[0m\u001b[0m\n\u001b[1;32m--> 272\u001b[1;33m             \u001b[1;32mif\u001b[0m \u001b[0mD\u001b[0m\u001b[1;33m[\u001b[0m\u001b[0mw\u001b[0m\u001b[1;33m]\u001b[0m \u001b[1;33m==\u001b[0m \u001b[0mDv\u001b[0m \u001b[1;33m+\u001b[0m \u001b[1;36m1\u001b[0m\u001b[1;33m:\u001b[0m  \u001b[1;31m# this is a shortest path, count paths\u001b[0m\u001b[1;33m\u001b[0m\u001b[1;33m\u001b[0m\u001b[0m\n\u001b[0m\u001b[0;32m    273\u001b[0m                 \u001b[0msigma\u001b[0m\u001b[1;33m[\u001b[0m\u001b[0mw\u001b[0m\u001b[1;33m]\u001b[0m \u001b[1;33m+=\u001b[0m \u001b[0msigmav\u001b[0m\u001b[1;33m\u001b[0m\u001b[1;33m\u001b[0m\u001b[0m\n\u001b[0;32m    274\u001b[0m                 \u001b[0mP\u001b[0m\u001b[1;33m[\u001b[0m\u001b[0mw\u001b[0m\u001b[1;33m]\u001b[0m\u001b[1;33m.\u001b[0m\u001b[0mappend\u001b[0m\u001b[1;33m(\u001b[0m\u001b[0mv\u001b[0m\u001b[1;33m)\u001b[0m  \u001b[1;31m# predecessors\u001b[0m\u001b[1;33m\u001b[0m\u001b[1;33m\u001b[0m\u001b[0m\n",
      "\u001b[1;31mKeyboardInterrupt\u001b[0m: "
     ]
    }
   ],
   "source": [
    "start = time.time()\n",
    "betweenness_centrality = nx.betweenness_centrality(ppi_graph)\n",
    "#print(betweenness_centrality)"
   ]
  },
  {
   "cell_type": "code",
   "execution_count": null,
   "id": "38fd591f-b1c6-4575-908a-2f58c1ca6048",
   "metadata": {},
   "outputs": [],
   "source": [
    "btw_cent = open(\"data/betweenness_cent.csv\", \"w\")\n",
    "fields = [\"ID\", \"Betweenness_Centrality\"]\n",
    "\n",
    "writer = csv.writer(btw_cent)\n",
    "writer.writerow(fields)\n",
    "for key, value in betweenness_centrality.items():\n",
    "    writer.writerow([key, value])\n",
    "\n",
    "btw_cent.close()\n",
    "end = time.time()\n",
    "print(end-start)"
   ]
  },
  {
   "cell_type": "code",
   "execution_count": 13,
   "id": "0333956c-bbbe-4bf9-a266-f505503b6deb",
   "metadata": {},
   "outputs": [],
   "source": [
    "start = time.time()\n",
    "eigenvector_centrality = nx.eigenvector_centrality(ppi_graph)"
   ]
  },
  {
   "cell_type": "code",
   "execution_count": 14,
   "id": "55c1d23d-f204-498a-ba74-ecbf3b46ac8f",
   "metadata": {},
   "outputs": [
    {
     "name": "stdout",
     "output_type": "stream",
     "text": [
      "1.7837979793548584\n"
     ]
    }
   ],
   "source": [
    "eig_cent = open(\"data/eigenvector_cent.csv\", \"w\")\n",
    "fields = [\"ID\", \"Eigenvector_Centrality\"]\n",
    "\n",
    "writer = csv.writer(eig_cent)\n",
    "writer.writerow(fields)\n",
    "for key, value in eigenvector_centrality.items():\n",
    "    writer.writerow([key, value])\n",
    "\n",
    "eig_cent.close()\n",
    "end = time.time()\n",
    "print(end-start)"
   ]
  },
  {
   "cell_type": "code",
   "execution_count": 23,
   "id": "07c1d5b4-c38e-47e7-adaf-1d0d8c8a6a7d",
   "metadata": {},
   "outputs": [],
   "source": [
    "start = time.time()\n",
    "closeness_centrality = nx.closeness_centrality(ppi_graph)"
   ]
  },
  {
   "cell_type": "code",
   "execution_count": 24,
   "id": "2bb00f3f-ae60-463b-b532-9bee4d894589",
   "metadata": {},
   "outputs": [
    {
     "name": "stdout",
     "output_type": "stream",
     "text": [
      "686.7040436267853\n"
     ]
    }
   ],
   "source": [
    "cl_cent = open(\"data/closeness_cent.csv\", \"w\")\n",
    "fields = [\"ID\", \"Closeness_Centrality\"]\n",
    "\n",
    "writer = csv.writer(cl_cent)\n",
    "writer.writerow(fields)\n",
    "for key, value in closeness_centrality.items():\n",
    "    writer.writerow([key, value])\n",
    "\n",
    "cl_cent.close()\n",
    "end = time.time()\n",
    "print(end-start)"
   ]
  },
  {
   "cell_type": "code",
   "execution_count": 16,
   "id": "d12d8ecc-a26f-4d23-93c0-0350eb4a1d47",
   "metadata": {},
   "outputs": [],
   "source": [
    "start = time.time()\n",
    "information_centrality = nx.information_centrality(ppi_graph)"
   ]
  },
  {
   "cell_type": "code",
   "execution_count": 17,
   "id": "05dd131b-7e56-4137-a182-c4243ebeb627",
   "metadata": {},
   "outputs": [
    {
     "name": "stdout",
     "output_type": "stream",
     "text": [
      "448.95283603668213\n"
     ]
    }
   ],
   "source": [
    "info_cent = open(\"data/information_cent.csv\", \"w\")\n",
    "fields = [\"ID\", \"Information_Centrality\"]\n",
    "\n",
    "writer = csv.writer(info_cent)\n",
    "writer.writerow(fields)\n",
    "for key, value in information_centrality.items():\n",
    "    writer.writerow([key, value])\n",
    "\n",
    "info_cent.close()\n",
    "end = time.time()\n",
    "print(end-start)"
   ]
  },
  {
   "cell_type": "markdown",
   "id": "68aae216-de41-480e-b36f-113fa1abdab0",
   "metadata": {},
   "source": [
    "## sorting csv files"
   ]
  },
  {
   "cell_type": "code",
   "execution_count": 5,
   "id": "8afc4ba8-33e5-49a2-add5-22fd171d5c44",
   "metadata": {},
   "outputs": [],
   "source": [
    "#cl_df = pd.read_csv(\"closeness_cent.csv\")\n",
    "#bt_df = pd.read_csv(\"betweenness_cent.csv\")\n",
    "#info_df = pd.read_csv(\"information_cent.csv\")\n",
    "#dg_df = pd.read_csv(\"degree_cent.csv\")\n",
    "#eig_df = pd.read_csv(\"eigenvector_cent.csv\")\n"
   ]
  },
  {
   "cell_type": "code",
   "execution_count": 6,
   "id": "c927e6f7-81b8-4b59-bdbf-9e5b2ac5f980",
   "metadata": {},
   "outputs": [],
   "source": [
    "#eig_df = eig_df.sort_values(by=[\"Eigenvector_Centrality\"], ascending=False)\n",
    "#bt_df = bt_df.sort_values(by=[\"Betweenness_Centrality\"], ascending=False)\n",
    "#info_df = info_df.sort_values(by=[\"Information_Centrality\"], ascending=False)\n",
    "#cl_df = cl_df.sort_values(by=[\"Closeness_Centrality\"], ascending=False)\n",
    "#dg_df = dg_df.sort_values(by=[\"Degree_Centrality\"], ascending=False)\n",
    "\n"
   ]
  },
  {
   "cell_type": "code",
   "execution_count": 7,
   "id": "9415e101-361f-4078-8d8b-afb0f7444ebe",
   "metadata": {},
   "outputs": [],
   "source": [
    "#eig_df.to_csv('eigenvector_centrality_sorted.csv', index=False)\n",
    "#bt_df.to_csv('betweenness_centrality_sorted.csv', index=False)\n",
    "#info_df.to_csv('information_centrality_sorted.csv', index=False)\n",
    "#cl_df.to_csv('closeness_centrality_sorted.csv', index=False)\n",
    "#dg_df.to_csv('degree_centrality_sorted.csv', index=False)"
   ]
  },
  {
   "cell_type": "code",
   "execution_count": null,
   "id": "35b60cd9-9087-4923-acd2-2ebf651c55d7",
   "metadata": {},
   "outputs": [],
   "source": []
  }
 ],
 "metadata": {
  "kernelspec": {
   "display_name": "Python 3 (ipykernel)",
   "language": "python",
   "name": "python3"
  },
  "language_info": {
   "codemirror_mode": {
    "name": "ipython",
    "version": 3
   },
   "file_extension": ".py",
   "mimetype": "text/x-python",
   "name": "python",
   "nbconvert_exporter": "python",
   "pygments_lexer": "ipython3",
   "version": "3.9.6"
  }
 },
 "nbformat": 4,
 "nbformat_minor": 5
}
